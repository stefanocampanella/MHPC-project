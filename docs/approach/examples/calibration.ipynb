{
 "cells": [
  {
   "cell_type": "code",
   "execution_count": null,
   "metadata": {},
   "outputs": [],
   "source": [
    "import pandas as pd\n",
    "import matplotlib.pyplot as plt\n",
    "\n",
    "from dask.distributed import Client\n",
    "from dask_jobqueue import SLURMCluster\n",
    "\n",
    "import nevergrad as ng\n",
    "from mhpc_project.matsch_b2 import CalibrationModel, Variables, Loss, Calibration\n",
    "from geotopy.utils import date_parser, comparison_plot, DataFrameLogger\n",
    "from geotopy.measures import KGE"
   ]
  },
  {
   "cell_type": "code",
   "execution_count": null,
   "outputs": [],
   "source": [
    "settings = {\n",
    "    'parametrization': {\n",
    "        'mutable_sigma': True,\n",
    "        'init_sigma': 0.1,\n",
    "        'lower': 0.0,\n",
    "        'upper': 1.0,\n",
    "    },\n",
    "    'optimizer': {\n",
    "        'budget': 4096,\n",
    "        'num_workers': 256\n",
    "    }\n",
    "}"
   ],
   "metadata": {
    "collapsed": false,
    "pycharm": {
     "name": "#%%\n"
    }
   }
  },
  {
   "cell_type": "code",
   "execution_count": null,
   "metadata": {
    "collapsed": false,
    "jupyter": {
     "outputs_hidden": false
    },
    "pycharm": {
     "name": "#%%\n"
    }
   },
   "outputs": [],
   "source": [
    "cluster = SLURMCluster()\n",
    "cluster.scale(cores=settings['optimizer']['num_workers'])\n",
    "client = Client(cluster)"
   ]
  },
  {
   "cell_type": "code",
   "execution_count": null,
   "metadata": {
    "collapsed": false,
    "jupyter": {
     "outputs_hidden": false
    },
    "pycharm": {
     "name": "#%%\n"
    }
   },
   "outputs": [],
   "source": [
    "observations = pd.read_csv('../data/Matsch B2/obs.csv',\n",
    "                           na_values=['-9999', '-99.99'],\n",
    "                           usecols=[0, 7],\n",
    "                           parse_dates=[0],\n",
    "                           date_parser=date_parser,\n",
    "                           index_col=0,\n",
    "                           squeeze=True)\n",
    "observations.index.rename('datetime', inplace=True)\n",
    "model = CalibrationModel('../data/Matsch B2/geotop', run_args={'timeout': 120})\n",
    "variables = Variables('../data/Matsch B2/variables.csv')\n",
    "measure = KGE(observations)\n",
    "loss = Loss(model, variables, measure)\n",
    "calibration = Calibration(loss, settings)"
   ]
  },
  {
   "cell_type": "code",
   "execution_count": null,
   "metadata": {},
   "outputs": [],
   "source": [
    "simulation = model()\n",
    "print(f\"Before optimization loss is {measure(simulation)}\")\n",
    "comparison_plot(observations,\n",
    "                simulation,\n",
    "                desc='Soil moisture content @ 5cm')\n",
    "plt.show()"
   ]
  },
  {
   "cell_type": "code",
   "execution_count": null,
   "metadata": {},
   "outputs": [],
   "source": [
    "calibration.optimizer.register_callback('tell', ng.callbacks.ProgressBar())\n",
    "logger = DataFrameLogger(variables)\n",
    "calibration.optimizer.register_callback('tell', logger)"
   ]
  },
  {
   "cell_type": "code",
   "execution_count": null,
   "outputs": [],
   "source": [
    "loss, settings = calibration()\n"
   ],
   "metadata": {
    "collapsed": false,
    "pycharm": {
     "name": "#%%\n"
    }
   }
  },
  {
   "cell_type": "code",
   "execution_count": null,
   "outputs": [],
   "source": [
    "experiment = logger.experiment\n",
    "experiment.display()"
   ],
   "metadata": {
    "collapsed": false,
    "pycharm": {
     "name": "#%%\n"
    }
   }
  },
  {
   "cell_type": "code",
   "execution_count": null,
   "metadata": {},
   "outputs": [],
   "source": [
    "simulation = model(**settings)\n",
    "print(f\"After optimization loss is {loss}\")\n",
    "comparison_plot(observations,\n",
    "                simulation,\n",
    "                desc='Soil moisture content @ 5cm')\n",
    "plt.show()"
   ]
  }
 ],
 "metadata": {
  "kernelspec": {
   "display_name": "Python 3",
   "language": "python",
   "name": "python3"
  },
  "language_info": {
   "codemirror_mode": {
    "name": "ipython",
    "version": 3
   },
   "file_extension": ".py",
   "mimetype": "text/x-python",
   "name": "python",
   "nbconvert_exporter": "python",
   "pygments_lexer": "ipython3",
   "version": "3.9.0"
  }
 },
 "nbformat": 4,
 "nbformat_minor": 4
}