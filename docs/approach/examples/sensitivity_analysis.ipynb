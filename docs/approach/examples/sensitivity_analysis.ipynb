{
 "cells": [
  {
   "cell_type": "code",
   "execution_count": null,
   "metadata": {
    "tags": [
     "parameters"
    ]
   },
   "outputs": [],
   "source": [
    "# Defaults\n",
    "n = 512\n",
    "cores = 256"
   ]
  },
  {
   "cell_type": "code",
   "execution_count": null,
   "metadata": {},
   "outputs": [],
   "source": [
    "import numpy as np\n",
    "import pandas as pd\n",
    "from dask.distributed import Client\n",
    "from dask_jobqueue import SLURMCluster as Cluster\n",
    "\n",
    "from SALib.sample import latin\n",
    "from SALib.analyze import delta as delta_mim\n",
    "from joblib import Parallel, delayed, parallel_backend\n",
    "\n",
    "from mhpc_project.matsch_b2 import Variables, CalibrationModel\n",
    "from geotopy.optim import Loss\n",
    "from geotopy.measures import KGE\n",
    "from geotopy.utils import date_parser"
   ]
  },
  {
   "cell_type": "code",
   "execution_count": null,
   "metadata": {},
   "outputs": [],
   "source": [
    "cluster = Cluster()\n",
    "cluster.scale(cores=cores)\n",
    "client = Client(cluster)"
   ]
  },
  {
   "cell_type": "code",
   "execution_count": null,
   "outputs": [],
   "source": [
    "observations = pd.read_csv('../data/Matsch B2/obs.csv',\n",
    "                           na_values=['-9999', '-99.99'],\n",
    "                           usecols=[0, 7],\n",
    "                           parse_dates=[0],\n",
    "                           date_parser=date_parser,\n",
    "                           index_col=0,\n",
    "                           squeeze=True)\n",
    "observations.index.rename('datetime', inplace=True)\n",
    "model = CalibrationModel('../data/Matsch B2/geotop', run_args={'timeout': 120})\n",
    "variables = Variables('../data/Matsch B2/variables.csv')\n",
    "measure = KGE(observations)\n",
    "loss = Loss(model, variables, measure)"
   ],
   "metadata": {
    "collapsed": false,
    "pycharm": {
     "name": "#%%\n"
    }
   }
  },
  {
   "cell_type": "code",
   "execution_count": null,
   "outputs": [],
   "source": [
    "problem = {'num_vars': variables.num_vars,\n",
    "           'names': variables.names,\n",
    "           'bounds': variables.bounds}\n",
    "\n",
    "samples = latin.sample(problem, n)\n",
    "\n",
    "with parallel_backend('dask', client=client):\n",
    "    losses = Parallel(verbose=10)(delayed(loss)(x) for x in samples)\n",
    "losses = np.array(losses)\n",
    "\n",
    "indices = np.isfinite(losses)\n",
    "good_samples = samples[indices]\n",
    "good_losses = losses[indices]\n",
    "\n",
    "SA = delta_mim.analyze(problem, good_samples, good_losses)"
   ],
   "metadata": {
    "collapsed": false,
    "pycharm": {
     "name": "#%%\n"
    }
   }
  },
  {
   "cell_type": "code",
   "execution_count": null,
   "metadata": {
    "pycharm": {
     "name": "#%%\n"
    }
   },
   "outputs": [],
   "source": [
    "SA.sort_values('S1', key=np.abs, ascending=False)"
   ]
  }
 ],
 "metadata": {
  "kernelspec": {
   "display_name": "Python 3",
   "language": "python",
   "name": "python3"
  },
  "language_info": {
   "codemirror_mode": {
    "name": "ipython",
    "version": 3
   },
   "file_extension": ".py",
   "mimetype": "text/x-python",
   "name": "python",
   "nbconvert_exporter": "python",
   "pygments_lexer": "ipython3",
   "version": "3.9.0"
  }
 },
 "nbformat": 4,
 "nbformat_minor": 4
}