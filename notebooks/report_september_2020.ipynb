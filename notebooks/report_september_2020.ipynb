{
 "cells": [
  {
   "cell_type": "code",
   "execution_count": null,
   "metadata": {
    "slideshow": {
     "slide_type": "skip"
    },
    "tags": [
     "parameters"
    ]
   },
   "outputs": [],
   "source": [
    "# Defaults\n",
    "\n",
    "# System settings\n",
    "systmpfs = '/tmp'\n",
    "\n",
    "# SA/Optimizer settings\n",
    "num_workers = 2\n",
    "budget = 128\n",
    "SASampleN = 2 # Nsamples = N x (D + 2)\n",
    "algorithm = 'OnePlusOne'\n",
    "timeout = 30\n",
    "monitor_interval = 2\n",
    "target = 'soil_moisture_content_50'"
   ]
  },
  {
   "cell_type": "code",
   "execution_count": null,
   "metadata": {
    "slideshow": {
     "slide_type": "skip"
    }
   },
   "outputs": [],
   "source": [
    "import warnings\n",
    "warnings.filterwarnings('ignore')"
   ]
  },
  {
   "cell_type": "code",
   "execution_count": null,
   "metadata": {
    "slideshow": {
     "slide_type": "skip"
    }
   },
   "outputs": [],
   "source": [
    "from subprocess import CalledProcessError, TimeoutExpired\n",
    "from tempfile import TemporaryDirectory, NamedTemporaryFile\n",
    "from concurrent.futures import ProcessPoolExecutor\n",
    "\n",
    "from IPython.display import Image\n",
    "import numpy as np\n",
    "import pandas as pd\n",
    "import matplotlib.pyplot as plt\n",
    "\n",
    "import nevergrad as ng\n",
    "import hiplot as hip\n",
    "from SALib.sample import saltelli\n",
    "from SALib.analyze import sobol\n",
    "\n",
    "from common import monitor, observations, GEOtopRun"
   ]
  },
  {
   "cell_type": "markdown",
   "metadata": {
    "slideshow": {
     "slide_type": "slide"
    }
   },
   "source": [
    "# High-Performance Derivative-Free Optimization for the GE🌍top Model Calibration\n",
    "\n",
    "### Stefano Campanella\n",
    "\n",
    "#### Giacomo Bertoldi, Alberto Sartori, Emanuele Cordano"
   ]
  },
  {
   "cell_type": "markdown",
   "metadata": {
    "slideshow": {
     "slide_type": "slide"
    }
   },
   "source": [
    "## GEOtop Calibration\n",
    "\n",
    "GEOtop is a physical model that simulates the heat and water budgets at and below the soil surface. \n",
    "\n",
    "Some inputs are unknown/uncertain: find the values such that the ouputs better reproduce the experimental data.\n",
    "\n",
    "Case study: LTSER sites in Val di Mazia, Alto Adige"
   ]
  },
  {
   "cell_type": "markdown",
   "metadata": {
    "slideshow": {
     "slide_type": "subslide"
    }
   },
   "source": [
    "## Challenges\n",
    "\n",
    "1. Many parameters \n",
    "2. No good prior\n",
    "3. Time consuming simulations\n",
    "\n",
    "<b class=fragment>Parallel Derivative-free heuristic algorithms are the only option</b>"
   ]
  },
  {
   "cell_type": "markdown",
   "metadata": {
    "slideshow": {
     "slide_type": "slide"
    }
   },
   "source": [
    "Some points to keep in mind:\n",
    "\n",
    "* Community of scientists, not HPC experts nor programmers\n",
    "* Wide range of use cases and applications\n",
    "* Calibration is CPU bounded\n",
    "* For these algorithms, <span class=\"fragment highlight-red\">scaling can be a tricky subject</span>"
   ]
  },
  {
   "cell_type": "markdown",
   "metadata": {
    "slideshow": {
     "slide_type": "slide"
    }
   },
   "source": [
    "Consider genetic algorithms/PSO.\n",
    "\n",
    "<span class=fragment>Increasing the number of phenotypes/particles increases the coverage of the parameters space in each generation/iteration, but the principle of operation of these algorithms lies in the correlation between one generation/iteration and the next.</span>\n",
    "\n",
    "<span class=fragment>Hence, scaling must take into account that cutting the time to solution by increasing the number of processing units and decreasing the number of iterations can lead to worse results.</span>"
   ]
  },
  {
   "cell_type": "markdown",
   "metadata": {
    "slideshow": {
     "slide_type": "slide"
    }
   },
   "source": [
    "## The Goals\n",
    "\n",
    "1. Write a reusable calibration tool, with a simple yet general enough interface\n",
    "2. Make it easily deployable on HPC systems\n",
    "3. Perform the optimization and analysis on the case study\n",
    "4. Benchmark algorithms, objective functions, and hyperparameters"
   ]
  },
  {
   "cell_type": "markdown",
   "metadata": {
    "slideshow": {
     "slide_type": "subslide"
    }
   },
   "source": [
    "## Constraints\n",
    "\n",
    "1. 1D simulations\n",
    "2. Only scalar parameters (however, the framework allows more complex scenarios) \n",
    "3. No multi-objective (multiple targets must be squashed into a single one)"
   ]
  },
  {
   "cell_type": "markdown",
   "metadata": {
    "slideshow": {
     "slide_type": "slide"
    }
   },
   "source": [
    "## Approach/Design Choices\n",
    "\n",
    "* Python: simple language, good tooling e wide adoption in scientific computing community.\n",
    "* Do not reinvent the wheel (use standard libraries as much as possible, otherwise third party libraries).\n",
    "* Modularity, encapsulation and referential transparency.\n",
    "* Emphasis on documentation and reproducibility."
   ]
  },
  {
   "cell_type": "markdown",
   "metadata": {
    "slideshow": {
     "slide_type": "slide"
    }
   },
   "source": [
    "## What has been done\n",
    "\n",
    "<ol>\n",
    "    <li class=fragment>Preliminary analysis of the case study and visualization</li>\n",
    "    <li class=fragment><b>GEOtoPy</b>: A wrapper based on IO and keywords</li>\n",
    "    <li class=fragment>Prototype of calibration with Nevergrad and SA with SALib</li>\n",
    "    <li class=fragment>Deployment on Ulysses, now moving to VSC-4</li>\n",
    "</ol>"
   ]
  },
  {
   "cell_type": "markdown",
   "metadata": {
    "slideshow": {
     "slide_type": "slide"
    }
   },
   "source": [
    "## GEOtop IO Scheme\n",
    "\n",
    "GEOtop works on text files, both for input and output.\n",
    "\n",
    "The main one is `geotop.inpts` and contains settings and comments, other CSV data files may be provided.\n",
    "\n",
    "Comments begin with a `!`, settings match `<keyword> = <value>`.\n",
    "\n",
    "The values can be booleans, numbers, arrays or strings. \n",
    "\n",
    "Keyword are hardwired in GEOtop source code and have definite type."
   ]
  },
  {
   "cell_type": "markdown",
   "metadata": {
    "slideshow": {
     "slide_type": "slide"
    }
   },
   "source": [
    "## GEOtoPy\n",
    "\n",
    "GEOtoPy exports the base, abstract class `GEOtop`, which can be subclassed to solve particular use cases.\n",
    "\n",
    "Object of this class can parse, store and print the settings contained in `geotop.inpts`.\n",
    "\n",
    "They can also evaluate the model _without side effects_."
   ]
  },
  {
   "cell_type": "markdown",
   "metadata": {
    "slideshow": {
     "slide_type": "subslide"
    }
   },
   "source": [
    "## GEOtoPy Evaluation Model"
   ]
  },
  {
   "cell_type": "code",
   "execution_count": null,
   "metadata": {},
   "outputs": [],
   "source": [
    "Image(filename=\"assets/geotopy.png\")"
   ]
  },
  {
   "cell_type": "code",
   "execution_count": null,
   "metadata": {
    "slideshow": {
     "slide_type": "skip"
    }
   },
   "outputs": [],
   "source": [
    "stats = monitor(monitor_interval)"
   ]
  },
  {
   "cell_type": "code",
   "execution_count": null,
   "metadata": {},
   "outputs": [],
   "source": [
    "class GEOtopRunLogVars(GEOtopRun):\n",
    "    \n",
    "    def preprocess(self, working_dir, *args, **kwargs):\n",
    "        \n",
    "        for key, value in kwargs.items():\n",
    "            if variables.type[key] == 'log':\n",
    "                kwargs[key] = 10 ** value\n",
    "                \n",
    "        super().preprocess(working_dir, *args, **kwargs)"
   ]
  },
  {
   "cell_type": "code",
   "execution_count": null,
   "metadata": {
    "slideshow": {
     "slide_type": "slide"
    }
   },
   "outputs": [],
   "source": [
    "model = GEOtopRunLogVars('inputs/Matsch_B2/run',\n",
    "                         exe='../geotop/build/geotop',\n",
    "                         run_args={'check': True, \n",
    "                                   'capture_output': True, \n",
    "                                   'timeout': timeout})\n",
    "\n",
    "obs = observations('inputs/Matsch_B2/obs.csv')\n",
    "\n",
    "variables = pd.read_csv('inputs/Matsch_B2/variables.csv', index_col='name')"
   ]
  },
  {
   "cell_type": "code",
   "execution_count": null,
   "metadata": {
    "slideshow": {
     "slide_type": "subslide"
    }
   },
   "outputs": [],
   "source": [
    "with TemporaryDirectory(dir=systmpfs) as tmpdir:\n",
    "    sim = model.eval(tmpdir)\n",
    "    print(f\"Before optimization loss is {obs.metric(target, sim)}\")\n",
    "    fig = obs.compare(target, sim, name=\"Soil moisture content @ 50 mm\", rel=True)\n",
    "    plt.show()"
   ]
  },
  {
   "cell_type": "markdown",
   "metadata": {
    "slideshow": {
     "slide_type": "slide"
    }
   },
   "source": [
    "## Example of Sensitivity Analysis"
   ]
  },
  {
   "cell_type": "markdown",
   "metadata": {
    "slideshow": {
     "slide_type": "slide"
    }
   },
   "source": [
    "Right now, we are using the loss $\\frac{\\langle \\left(y_\\text{obs} - y_\\text{sim} \\right)^2 \\rangle}{\\langle y_\\text{obs}^2 \\rangle}$"
   ]
  },
  {
   "cell_type": "code",
   "execution_count": null,
   "metadata": {},
   "outputs": [],
   "source": [
    "def loss_function(*args, **kwargs):\n",
    "\n",
    "    with TemporaryDirectory(dir=systmpfs) as tmpdir:\n",
    "        try:\n",
    "            sim = model.eval(tmpdir, *args, **kwargs)\n",
    "        except CalledProcessError:\n",
    "            return np.nan\n",
    "        except TimeoutExpired:\n",
    "            return np.nan\n",
    "\n",
    "    return obs.metric(target, sim) # < (y_obs - y_sim)^2 > / < y_obs^2  >"
   ]
  },
  {
   "cell_type": "code",
   "execution_count": null,
   "metadata": {
    "slideshow": {
     "slide_type": "subslide"
    }
   },
   "outputs": [],
   "source": [
    "def SA_loss(xs):\n",
    "         \n",
    "    return loss_function(**dict(zip(variables.index, xs)))\n",
    "\n",
    "problem = {'num_vars': variables.shape[0],\n",
    "           'names': variables.index,\n",
    "           'bounds': list(zip(variables.lower, variables.upper))}\n",
    "\n",
    "samples = saltelli.sample(problem, SASampleN, calc_second_order=False)\n",
    "\n",
    "with ProcessPoolExecutor(max_workers=num_workers) as executor:\n",
    "    losses = np.fromiter(executor.map(SA_loss, samples), dtype=float)"
   ]
  },
  {
   "cell_type": "code",
   "execution_count": null,
   "metadata": {
    "slideshow": {
     "slide_type": "subslide"
    }
   },
   "outputs": [],
   "source": [
    "SA = sobol.analyze(problem, losses, calc_second_order=False, parallel=True, n_processors=num_workers);\n",
    "SA = pd.DataFrame(SA, index=problem['names'])\n",
    "SA.sort_values('S1', key=np.abs, ascending=False)"
   ]
  },
  {
   "cell_type": "markdown",
   "metadata": {
    "slideshow": {
     "slide_type": "slide"
    }
   },
   "source": [
    "## Example of Calibration"
   ]
  },
  {
   "cell_type": "code",
   "execution_count": null,
   "metadata": {
    "slideshow": {
     "slide_type": "skip"
    }
   },
   "outputs": [],
   "source": [
    "kwargs = {name: ng.p.Scalar(init=value.suggested, lower=value.lower, upper=value.upper) \n",
    "          for name, value in variables.iterrows()}\n",
    "\n",
    "optimizer = ng.optimizers.registry[algorithm](parametrization=ng.p.Instrumentation(**kwargs),\n",
    "                                              budget=budget,\n",
    "                                              num_workers=num_workers)\n",
    "\n",
    "logfile = NamedTemporaryFile(dir=systmpfs)\n",
    "logger = ng.callbacks.ParametersLogger(logfile.name)\n",
    "optimizer.register_callback(\"tell\",  logger)"
   ]
  },
  {
   "cell_type": "code",
   "execution_count": null,
   "metadata": {
    "slideshow": {
     "slide_type": "subslide"
    }
   },
   "outputs": [],
   "source": [
    "for sample, loss in zip(samples, losses):\n",
    "    settings = dict(zip(variables.index, sample))\n",
    "    optimizer.suggest(**settings)\n",
    "    candidate = optimizer.ask()\n",
    "    optimizer.tell(candidate, loss) \n",
    "    \n",
    "with ProcessPoolExecutor(max_workers=optimizer.num_workers) as executor:\n",
    "    recommendation = optimizer.minimize(loss_function, \n",
    "                                        executor=executor, \n",
    "                                        batch_mode=False)"
   ]
  },
  {
   "cell_type": "code",
   "execution_count": null,
   "metadata": {
    "slideshow": {
     "slide_type": "subslide"
    }
   },
   "outputs": [],
   "source": [
    "variables['best'] = pd.Series(recommendation.kwargs)\n",
    "variables"
   ]
  },
  {
   "cell_type": "code",
   "execution_count": null,
   "metadata": {
    "slideshow": {
     "slide_type": "subslide"
    }
   },
   "outputs": [],
   "source": [
    "with TemporaryDirectory() as tmpdir:\n",
    "    print(f\"After optimization loss is {recommendation.loss}\")\n",
    "    sim = model.eval(tmpdir, **recommendation.kwargs)\n",
    "    fig = obs.compare(target, sim, name=f\"Soil moisture content @ 50mm\", rel=True)\n",
    "    plt.show()"
   ]
  },
  {
   "cell_type": "markdown",
   "metadata": {
    "slideshow": {
     "slide_type": "slide"
    }
   },
   "source": [
    "## Parallel Coordinates Visualization with HiPlot"
   ]
  },
  {
   "cell_type": "code",
   "execution_count": null,
   "metadata": {},
   "outputs": [],
   "source": [
    "logger.load()\n",
    "experiment = logger.to_hiplot_experiment()"
   ]
  },
  {
   "cell_type": "code",
   "execution_count": null,
   "metadata": {},
   "outputs": [],
   "source": [
    "hidden_columns = ['uid', \n",
    "                  'from_uid', \n",
    "                  '#parametrization', \n",
    "                  '#optimizer', \n",
    "                  '#optimizer#noise_handling', \n",
    "                  '#optimizer#mutation',\n",
    "                  '#optimizer#crossover',\n",
    "                  '#session', \n",
    "                  '#lineage',\n",
    "                  '#meta-sigma']\n",
    "\n",
    "for name in variables.index:\n",
    "    hidden_columns.append(name + '#sigma')\n",
    "    hidden_columns.append(name + '#sigma#sigma')\n",
    "    \n",
    "table = experiment.display_data(hip.Displays.TABLE)\n",
    "table.update({'hide': hidden_columns,\n",
    "              'order_by': [['#num-tell', 'asc']]})\n",
    "\n",
    "plot = experiment.display_data(hip.Displays.PARALLEL_PLOT)\n",
    "plot.update({'hide': [*hidden_columns, '#num-tell'],\n",
    "             'order': ['#generation', *SA.sort_values('ST', key=np.abs).index, '#loss']})"
   ]
  },
  {
   "cell_type": "code",
   "execution_count": null,
   "metadata": {
    "slideshow": {
     "slide_type": "skip"
    }
   },
   "outputs": [],
   "source": [
    "experiment.display()"
   ]
  },
  {
   "cell_type": "markdown",
   "metadata": {
    "slideshow": {
     "slide_type": "slide"
    }
   },
   "source": [
    "## CPU and Memory Usage"
   ]
  },
  {
   "cell_type": "code",
   "execution_count": null,
   "metadata": {
    "slideshow": {
     "slide_type": "skip"
    }
   },
   "outputs": [],
   "source": [
    "stats.plot()\n",
    "plt.show()"
   ]
  },
  {
   "cell_type": "markdown",
   "metadata": {
    "slideshow": {
     "slide_type": "slide"
    }
   },
   "source": [
    "## Deployment\n",
    "\n",
    "1. SPACK\n",
    "2. PyPi\n",
    "3. Pipenv\n",
    "4. Papermill"
   ]
  },
  {
   "cell_type": "markdown",
   "metadata": {
    "slideshow": {
     "slide_type": "slide"
    }
   },
   "source": [
    "## To Do\n",
    "\n",
    "1. Assemble the calibration package\n",
    "2. Benchmarks"
   ]
  },
  {
   "cell_type": "markdown",
   "metadata": {
    "slideshow": {
     "slide_type": "subslide"
    }
   },
   "source": [
    "## Further developments\n",
    "\n",
    "1. Ray Tune + Nevergrad (multinode)?\n",
    "2. Multinode SA with Ray?\n",
    "3. Inoculate information from SA into optimizer?\n",
    "4. IO optimizations?\n",
    "5. BFGS after global optimization?\n",
    "6. Parameters clustering?"
   ]
  },
  {
   "cell_type": "markdown",
   "metadata": {
    "slideshow": {
     "slide_type": "slide"
    }
   },
   "source": [
    "## Acknowledgments\n",
    "\n",
    "The research reported in this work is supported by OGS, Eurac and CINECA under HPC-TRES program award number 2019-33"
   ]
  }
 ],
 "metadata": {
  "celltoolbar": "Slideshow",
  "kernelspec": {
   "display_name": "Python 3",
   "language": "python",
   "name": "python3"
  },
  "language_info": {
   "codemirror_mode": {
    "name": "ipython",
    "version": 3
   },
   "file_extension": ".py",
   "mimetype": "text/x-python",
   "name": "python",
   "nbconvert_exporter": "python",
   "pygments_lexer": "ipython3",
   "version": "3.8.5"
  },
  "livereveal": {
   "scroll": "True"
  }
 },
 "nbformat": 4,
 "nbformat_minor": 4
}
