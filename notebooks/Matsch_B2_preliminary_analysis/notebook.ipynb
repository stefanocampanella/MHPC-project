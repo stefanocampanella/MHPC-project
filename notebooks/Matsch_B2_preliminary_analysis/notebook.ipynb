{
 "cells": [
  {
   "cell_type": "code",
   "execution_count": null,
   "metadata": {},
   "outputs": [],
   "source": [
    "import os\n",
    "import glob\n",
    "import tempfile\n",
    "import re\n",
    "\n",
    "import pandas as pd\n",
    "\n",
    "import matplotlib.pyplot as plt\n",
    "import matplotlib.ticker as mtick\n",
    "import seaborn as sns\n",
    "\n",
    "from geotopy import GEOtop\n",
    "\n",
    "sns.set(rc={'figure.figsize': (15, 10), 'figure.dpi' : 250})"
   ]
  },
  {
   "cell_type": "code",
   "execution_count": null,
   "metadata": {},
   "outputs": [],
   "source": [
    "def run_geotop():\n",
    "    with tempfile.TemporaryDirectory() as tmpdir:\n",
    "\n",
    "        model = GEOtop('data/inputs', working_dir=tmpdir, exe='../../geotop/build/geotop')\n",
    "\n",
    "        print(f'Running GEOtop...')\n",
    "        model.run(check=True, capture_output=True)\n",
    "\n",
    "        print('Saving dataframes...')\n",
    "        glob_path = os.path.join(tmpdir, 'output/*.txt')\n",
    "        for file_path in glob.iglob(glob_path):\n",
    "            df = pd.read_csv(file_path, na_values=['-9999'])\n",
    "            df.rename(columns={'Date12[DDMMYYYYhhmm]': 'Date'}, inplace=True)\n",
    "            basename = os.path.basename(file_path)\n",
    "            basename = basename.split('.')[0]\n",
    "            key = re.match(r'[a-z]+', basename).group(0)\n",
    "            df['Date'] = pd.to_datetime(df['Date'])\n",
    "            df.set_index('Date', inplace=True)\n",
    "            df.to_hdf('data/Matsch_B2.h5', key=key)\n",
    "        \n",
    "        \n",
    "        obs = pd.read_csv('data/inputs/obs.csv', na_values=['-9999', '-99.99'])\n",
    "        obs.rename(columns={'Date12.DDMMYYYYhhmm.': 'Date'}, inplace=True)\n",
    "        obs['Date'] = pd.to_datetime(obs['Date'])\n",
    "        obs.set_index('Date', inplace=True)\n",
    "        obs.to_hdf('data/Matsch_B2.h5', 'obs')"
   ]
  },
  {
   "cell_type": "code",
   "execution_count": null,
   "metadata": {},
   "outputs": [],
   "source": [
    "run_geotop()\n",
    "\n",
    "print('Reading dataframes...')\n",
    "obs = pd.read_hdf('data/Matsch_B2.h5', 'obs')\n",
    "point = pd.read_hdf('data/Matsch_B2.h5', 'point')\n",
    "liq = pd.read_hdf('data/Matsch_B2.h5', 'thetaliq')\n",
    "ice = pd.read_hdf('data/Matsch_B2.h5', 'thetaliq')\n",
    "\n",
    "sim = pd.concat([point, liq + ice], axis=1)\n"
   ]
  },
  {
   "cell_type": "code",
   "execution_count": null,
   "metadata": {},
   "outputs": [],
   "source": [
    "def compare(observations, simulation, periods=None, name=None, unit=None, cum=False, rel=False):\n",
    "    \n",
    "    if not periods:\n",
    "        periods = {'Daily': 'D', 'Weekly': 'W', 'Monthly': 'M'}\n",
    "    \n",
    "    fig, axes = plt.subplots(ncols=3, \n",
    "                             nrows=len(periods), \n",
    "                             constrained_layout=True)\n",
    "    \n",
    "    if name:\n",
    "        fig.suptitle(f'{name} at different time scales')\n",
    "    \n",
    "    for i, (Tstr, T) in enumerate(periods.items()):\n",
    "        comp_plot, diff_plot, hist_plot = axes[i, :]\n",
    "        \n",
    "        if cum:\n",
    "            obs_resampled = observations.resample(T).sum()\n",
    "            sim_resampled = simulation.resample(T).sum()\n",
    "        else:\n",
    "            obs_resampled = observations.resample(T).mean()\n",
    "            sim_resampled = simulation.resample(T).mean()\n",
    "        \n",
    "        err = obs_resampled - sim_resampled        \n",
    "        if rel:\n",
    "            err = err / obs_resampled.abs()\n",
    "        \n",
    "        data = pd.DataFrame({'Observations': obs_resampled, 'Simulation': sim_resampled})\n",
    "        sns.lineplot(data=data, ax=comp_plot)\n",
    "        comp_plot.set_title(Tstr)\n",
    "        comp_plot.set_xlabel(\"\")\n",
    "        if unit:\n",
    "            comp_plot.set_ylabel(f'[{unit}]')\n",
    "        \n",
    "        sns.lineplot(data=err, ax=diff_plot)\n",
    "        plt.setp(diff_plot.get_xticklabels(), rotation=20)\n",
    "        if rel:\n",
    "            diff_plot.set_ylabel(f'Relative error')\n",
    "            diff_plot.yaxis.set_major_formatter(mtick.PercentFormatter(xmax=1.0))\n",
    "        elif unit:\n",
    "            diff_plot.set_ylabel(f'Error [{unit}]')\n",
    "        else:\n",
    "            diff_plot.set_ylabel(f'Error')\n",
    "        \n",
    "        sns.distplot(err, rug=True, vertical=True, hist=True, ax=hist_plot)\n",
    "        y1, y2 = diff_plot.get_ylim()\n",
    "        hist_plot.set_ylim(y1,y2)\n",
    "        hist_plot.set_yticklabels([])\n",
    "    return fig"
   ]
  },
  {
   "cell_type": "code",
   "execution_count": null,
   "metadata": {
    "pycharm": {
     "is_executing": true
    }
   },
   "outputs": [],
   "source": [
    "meteo = pd.read_csv(\"data/inputs/meteo0001.txt\", na_values=['-9999'])\n",
    "meteo['Date'] = pd.to_datetime(meteo['Date'])\n",
    "meteo.set_index('Date', inplace=True)"
   ]
  },
  {
   "cell_type": "markdown",
   "metadata": {},
   "source": [
    "## Air Temperature (sim vs meteo)"
   ]
  },
  {
   "cell_type": "code",
   "execution_count": null,
   "metadata": {
    "pycharm": {
     "is_executing": true
    }
   },
   "outputs": [],
   "source": [
    "try:\n",
    "    compare(sim['Tair[C]'], \n",
    "            meteo['AirT'], \n",
    "            name='Air temperature (sim vs meteo)', \n",
    "            unit='C',\n",
    "            rel=False)\n",
    "    plt.show()\n",
    "except:\n",
    "    pass"
   ]
  },
  {
   "cell_type": "markdown",
   "metadata": {},
   "source": [
    "## Air temperature (obs vs meteo)"
   ]
  },
  {
   "cell_type": "code",
   "execution_count": null,
   "metadata": {
    "pycharm": {
     "is_executing": true
    }
   },
   "outputs": [],
   "source": [
    "try:\n",
    "    compare(obs['air_temperature'], \n",
    "            meteo['AirT'], \n",
    "            name='Air temperature (obs vs meteo)', \n",
    "            unit='C',\n",
    "            rel=False)\n",
    "    plt.show()\n",
    "except:\n",
    "    pass"
   ]
  },
  {
   "cell_type": "markdown",
   "metadata": {},
   "source": [
    "## Air Temperature (obs vs sim)"
   ]
  },
  {
   "cell_type": "code",
   "execution_count": null,
   "metadata": {
    "pycharm": {
     "is_executing": true
    }
   },
   "outputs": [],
   "source": [
    "try:\n",
    "    compare(obs['air_temperature'], \n",
    "            sim['Tair[C]'], \n",
    "            name='Air temperature', \n",
    "            unit='C',\n",
    "            rel=False)\n",
    "    plt.show()\n",
    "except:\n",
    "    pass"
   ]
  },
  {
   "cell_type": "markdown",
   "metadata": {},
   "source": [
    "## Air Temperature (sim vs meteo, +1 shift)"
   ]
  },
  {
   "cell_type": "code",
   "execution_count": null,
   "metadata": {
    "pycharm": {
     "is_executing": true
    }
   },
   "outputs": [],
   "source": [
    "try:\n",
    "    compare(sim['Tair[C]'].shift(1), \n",
    "            meteo['AirT'], \n",
    "            name='Air temperature (sim vs meteo)', \n",
    "            unit='C',\n",
    "            rel=False)\n",
    "    plt.show()\n",
    "except:\n",
    "    pass"
   ]
  },
  {
   "cell_type": "markdown",
   "metadata": {},
   "source": [
    "## Shift estimation"
   ]
  },
  {
   "cell_type": "code",
   "execution_count": null,
   "metadata": {
    "pycharm": {
     "is_executing": true
    }
   },
   "outputs": [],
   "source": [
    "x = {}\n",
    "for n in range(-48, 48):\n",
    "    sim_ = sim.shift(n)\n",
    "    T = sim_['Tair[C]'] - obs['air_temperature']\n",
    "    R = (sim_['Prain_over_canopy[mm]'] + sim_['Psnow_over_canopy[mm]']) - obs['rainfall_amount']\n",
    "    W = sim_['Wind_speed[m/s]'] - obs['wind_speed']\n",
    "    H = sim_['Relative_Humidity[-]'] - obs['relative_humidity']\n",
    "    s = (T.abs() / T.abs().max()) + (R.abs() / R.abs().max()) + (W.abs() / W.abs().max()) + (H.abs() / H.abs().max())\n",
    "    s = s.mean()\n",
    "    x[n] = s"
   ]
  },
  {
   "cell_type": "code",
   "execution_count": null,
   "metadata": {
    "pycharm": {
     "is_executing": true
    },
    "scrolled": true
   },
   "outputs": [],
   "source": [
    "n = min(x, key=x.get)\n",
    "sim = sim.shift(n)\n",
    "print(\"Estimated shift: \", n)"
   ]
  },
  {
   "cell_type": "markdown",
   "metadata": {},
   "source": [
    "## Air Temperature (sim vs meteo)"
   ]
  },
  {
   "cell_type": "code",
   "execution_count": null,
   "metadata": {
    "pycharm": {
     "is_executing": true
    }
   },
   "outputs": [],
   "source": [
    "try:\n",
    "    compare(sim['Tair[C]'], \n",
    "            meteo['AirT'], \n",
    "            name='Air temperature (sim vs meteo)', \n",
    "            unit='C',\n",
    "            rel=False)\n",
    "    plt.show()\n",
    "except:\n",
    "    pass"
   ]
  },
  {
   "cell_type": "markdown",
   "metadata": {},
   "source": [
    "## Air Temperature"
   ]
  },
  {
   "cell_type": "code",
   "execution_count": null,
   "metadata": {
    "pycharm": {
     "is_executing": true
    }
   },
   "outputs": [],
   "source": [
    "try:\n",
    "    compare(obs['air_temperature'], \n",
    "            sim['Tair[C]'], \n",
    "            name='Air temperature', \n",
    "            unit='C',\n",
    "            rel=False)\n",
    "    plt.show()\n",
    "except:\n",
    "    pass"
   ]
  },
  {
   "cell_type": "markdown",
   "metadata": {},
   "source": [
    "## Rainfall Amount"
   ]
  },
  {
   "cell_type": "code",
   "execution_count": null,
   "metadata": {
    "pycharm": {
     "is_executing": true
    }
   },
   "outputs": [],
   "source": [
    "try:\n",
    "    compare(obs['rainfall_amount'], \n",
    "            sim['Prain_over_canopy[mm]'] + sim['Psnow_over_canopy[mm]'],\n",
    "            name='Rainfall amount',\n",
    "            unit='mm',\n",
    "            rel=False,\n",
    "            cum=True)\n",
    "    plt.show()\n",
    "except:\n",
    "    pass"
   ]
  },
  {
   "cell_type": "markdown",
   "metadata": {},
   "source": [
    "## Relative Humidity"
   ]
  },
  {
   "cell_type": "code",
   "execution_count": null,
   "metadata": {
    "pycharm": {
     "is_executing": true
    }
   },
   "outputs": [],
   "source": [
    "try:\n",
    "    compare(obs['relative_humidity'], \n",
    "            sim['Relative_Humidity[-]'], \n",
    "            name='Relative humidity')\n",
    "    plt.show()\n",
    "except:\n",
    "    pass"
   ]
  },
  {
   "cell_type": "markdown",
   "metadata": {},
   "source": [
    "## Wind Speed"
   ]
  },
  {
   "cell_type": "code",
   "execution_count": null,
   "metadata": {
    "pycharm": {
     "is_executing": true
    }
   },
   "outputs": [],
   "source": [
    "try:\n",
    "    compare(obs['wind_speed'], \n",
    "            sim['Wind_speed[m/s]'], \n",
    "            name='Wind speed', \n",
    "            unit='m/s')\n",
    "    plt.show()\n",
    "except:\n",
    "    pass"
   ]
  },
  {
   "cell_type": "markdown",
   "metadata": {},
   "source": [
    "## Upwelling Shortwave Flux"
   ]
  },
  {
   "cell_type": "code",
   "execution_count": null,
   "metadata": {
    "pycharm": {
     "is_executing": true
    }
   },
   "outputs": [],
   "source": [
    "try:\n",
    "    compare(obs['surface_upwelling_shortwave_flux'], \n",
    "            sim['SWup[W/m2]'], \n",
    "            name='Upwelling shortwave flux', \n",
    "            unit='W/m²')\n",
    "    plt.show()\n",
    "except:\n",
    "    pass"
   ]
  },
  {
   "cell_type": "markdown",
   "metadata": {},
   "source": [
    "## Upwelling Longwave Flux"
   ]
  },
  {
   "cell_type": "code",
   "execution_count": null,
   "metadata": {
    "pycharm": {
     "is_executing": true
    }
   },
   "outputs": [],
   "source": [
    "try:\n",
    "    compare(obs['surface_upwelling_longwave_flux'], \n",
    "            sim['LWup[W/m2]'], \n",
    "            name='Upwelling longwave flux', \n",
    "            unit='W/m²')\n",
    "    plt.show()\n",
    "except:\n",
    "    pass"
   ]
  },
  {
   "cell_type": "markdown",
   "metadata": {},
   "source": [
    "## Downwelling Shortwave Flux"
   ]
  },
  {
   "cell_type": "code",
   "execution_count": null,
   "metadata": {
    "pycharm": {
     "is_executing": true
    }
   },
   "outputs": [],
   "source": [
    "try:\n",
    "    compare(obs['surface_downwelling_shortwave_flux'], \n",
    "            sim['SWin[W/m2]'],\n",
    "            name='Downwelling shortwave flux', \n",
    "            unit='W/m²')\n",
    "    plt.show()\n",
    "except:\n",
    "    pass"
   ]
  },
  {
   "cell_type": "markdown",
   "metadata": {},
   "source": [
    "## Downwelling Longwave Flux"
   ]
  },
  {
   "cell_type": "code",
   "execution_count": null,
   "metadata": {
    "pycharm": {
     "is_executing": true
    }
   },
   "outputs": [],
   "source": [
    "try:\n",
    "    compare(obs['surface_downwelling_longwave_flux'], \n",
    "            sim['LWin[W/m2]'], \n",
    "            name='Downwelling longwave flux', \n",
    "            unit='W/m²')\n",
    "    plt.show()\n",
    "except:\n",
    "    pass"
   ]
  },
  {
   "cell_type": "markdown",
   "metadata": {},
   "source": [
    "## Net Radiation"
   ]
  },
  {
   "cell_type": "code",
   "execution_count": null,
   "metadata": {
    "pycharm": {
     "is_executing": true
    }
   },
   "outputs": [],
   "source": [
    "try:\n",
    "    compare(obs['net_radiation'], \n",
    "            sim['LWin[W/m2]'] + point['SWin[W/m2]'] - point['LWup[W/m2]'] - point['SWup[W/m2]'],\n",
    "            name='Net radiation', \n",
    "            unit='W/m²')\n",
    "    plt.show()\n",
    "except:\n",
    "    pass"
   ]
  },
  {
   "cell_type": "markdown",
   "metadata": {},
   "source": [
    "## Latent  Heat Flux in Air"
   ]
  },
  {
   "cell_type": "code",
   "execution_count": null,
   "metadata": {
    "pycharm": {
     "is_executing": true
    }
   },
   "outputs": [],
   "source": [
    "try:\n",
    "    compare(obs['latent_heat_flux_in_air'], \n",
    "            sim['Canopy_fraction[-]'] * (sim['LEg_veg[W/m2]'] + sim['LEv[W/m2]'] \n",
    "                                           - sim['LEg_unveg[W/m2]']) \n",
    "            + sim['LEg_unveg[W/m2]'],\n",
    "            name='Latent heat flux in air', \n",
    "            unit='W/m²')\n",
    "    plt.show()\n",
    "except:\n",
    "    pass"
   ]
  },
  {
   "cell_type": "markdown",
   "metadata": {},
   "source": [
    "## Sensible Heat Flux in Air"
   ]
  },
  {
   "cell_type": "code",
   "execution_count": null,
   "metadata": {
    "pycharm": {
     "is_executing": true
    }
   },
   "outputs": [],
   "source": [
    "try:\n",
    "    compare(obs['sensible_heat_flux_in_air'], \n",
    "            sim['Canopy_fraction[-]'] * (sim['Hg_veg[W/m2]'] + sim['Hv[W/m2]'] - sim['Hg_unveg[W/m2]']) +\n",
    "            sim['Hg_unveg[W/m2]'],\n",
    "            name='Sensible flux in air',\n",
    "            unit='W/m²')\n",
    "    plt.show()\n",
    "except:\n",
    "    pass"
   ]
  },
  {
   "cell_type": "markdown",
   "metadata": {},
   "source": [
    "## Soil Moisture Content 50"
   ]
  },
  {
   "cell_type": "code",
   "execution_count": null,
   "metadata": {
    "pycharm": {
     "is_executing": true
    }
   },
   "outputs": [],
   "source": [
    "try:\n",
    "    compare(obs['soil_moisture_content_50'], \n",
    "            sim['50.000000 '],\n",
    "            name='Soil moisture content 50')\n",
    "    plt.show()\n",
    "except:\n",
    "    pass"
   ]
  },
  {
   "cell_type": "markdown",
   "metadata": {},
   "source": [
    "## Soil Moisture Content 200"
   ]
  },
  {
   "cell_type": "code",
   "execution_count": null,
   "metadata": {
    "pycharm": {
     "is_executing": true
    }
   },
   "outputs": [],
   "source": [
    "try:\n",
    "    compare(obs['soil_moisture_content_200'], \n",
    "            sim['150.000000 '],\n",
    "            name='Soil moisture content 200')\n",
    "    plt.show()\n",
    "except:\n",
    "    pass"
   ]
  },
  {
   "cell_type": "code",
   "execution_count": null,
   "metadata": {
    "pycharm": {
     "is_executing": true
    }
   },
   "outputs": [],
   "source": []
  }
 ],
 "metadata": {
  "kernelspec": {
   "display_name": "Python 3",
   "language": "python",
   "name": "python3"
  },
  "language_info": {
   "codemirror_mode": {
    "name": "ipython",
    "version": 3
   },
   "file_extension": ".py",
   "mimetype": "text/x-python",
   "name": "python",
   "nbconvert_exporter": "python",
   "pygments_lexer": "ipython3",
   "version": "3.8.5"
  }
 },
 "nbformat": 4,
 "nbformat_minor": 4
}
