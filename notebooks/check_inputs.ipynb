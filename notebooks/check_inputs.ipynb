{
 "cells": [
  {
   "cell_type": "code",
   "execution_count": 1,
   "metadata": {},
   "outputs": [],
   "source": [
    "import pandas as pd\n",
    "import matplotlib.pyplot as plt\n",
    "from IPython.display import display, Markdown\n",
    "\n",
    "from geotopy.utils import date_parser, comparison_plot"
   ]
  },
  {
   "cell_type": "code",
   "execution_count": 3,
   "metadata": {},
   "outputs": [],
   "source": [
    "meteo = pd.read_csv('../data/Matsch B2/geotop/meteo/meteo0001.txt',\n",
    "                           parse_dates=[0],\n",
    "                           date_parser=date_parser,\n",
    "                           na_values=-9999,\n",
    "                           index_col=0)\n",
    "\n",
    "observations = pd.read_csv('../data/Matsch B2/observations/obs.csv',\n",
    "                           parse_dates=[0],\n",
    "                           date_parser=date_parser,\n",
    "                           na_values=-9999,\n",
    "                           index_col=0)"
   ]
  },
  {
   "cell_type": "code",
   "execution_count": 11,
   "metadata": {},
   "outputs": [],
   "source": [
    "meteo_targets = [('rainfall_amount', 'mm', 'Rainfall Amount'),\n",
    "                 ('wind_direction', 'Degree', 'Wind Direction'), \n",
    "                 ('wind_speed', 'm/s', 'Wind Speed'),\n",
    "                 ('relative_humidity', None, 'Relative Humidity'),\n",
    "                 ('air_temperature', 'C', 'Air Temperature')]\n",
    "\n",
    "for name, unit, desc in meteo_targets:\n",
    "    comparison_plot(observations[name],\n",
    "                    meteo[name] / 100 if name == 'relative_humidity' else meteo[name],\n",
    "                    desc=desc,\n",
    "                    unit=unit)\n",
    "    plt.close()"
   ]
  }
 ],
 "metadata": {
  "kernelspec": {
   "display_name": "Python 3",
   "language": "python",
   "name": "python3"
  },
  "language_info": {
   "codemirror_mode": {
    "name": "ipython",
    "version": 3
   },
   "file_extension": ".py",
   "mimetype": "text/x-python",
   "name": "python",
   "nbconvert_exporter": "python",
   "pygments_lexer": "ipython3",
   "version": "3.8.6"
  }
 },
 "nbformat": 4,
 "nbformat_minor": 4
}
