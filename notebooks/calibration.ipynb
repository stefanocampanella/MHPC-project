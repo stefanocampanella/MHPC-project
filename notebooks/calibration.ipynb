{
 "cells": [
  {
   "cell_type": "markdown",
   "metadata": {
    "pycharm": {
     "name": "#%% md\n"
    }
   },
   "source": [
    "# Calibration of GEOtop using Nevergrad and GEOtoPy"
   ]
  },
  {
   "cell_type": "code",
   "execution_count": null,
   "metadata": {
    "tags": [
     "parameters"
    ]
   },
   "outputs": [],
   "source": [
    "# Default\n",
    "\n",
    "model_path = None\n",
    "observations_path = None\n",
    "parameters_path = 'data/parameters/default.csv'\n",
    "timeout = 300\n",
    "spinup = {'years': 1}\n",
    "skip_months = []\n",
    "default_parameters = {'FirstLayerWidth': 10, 'MaxDepth': 2000}\n",
    "algorithm = 'NGO'\n",
    "budget = 4096\n",
    "num_workers = 256\n",
    "scheduler_file = None"
   ]
  },
  {
   "cell_type": "code",
   "execution_count": null,
   "metadata": {
    "collapsed": false,
    "jupyter": {
     "outputs_hidden": false
    },
    "pycharm": {
     "name": "#%%\n"
    }
   },
   "outputs": [],
   "source": [
    "from dateutil.relativedelta import relativedelta\n",
    "from timeit import default_timer as timer\n",
    "from time import strftime, gmtime\n",
    "\n",
    "import pandas as pd\n",
    "import scrapbook as sb\n",
    "from dask.distributed import Client\n",
    "\n",
    "from mhpc_project.utils import date_parser\n",
    "from mhpc_project.parameters import VarSoilParameters\n",
    "from mhpc_project.models import VarSoilFullModel\n",
    "from mhpc_project.calibration import Calibration"
   ]
  },
  {
   "cell_type": "code",
   "execution_count": null,
   "outputs": [],
   "source": [
    "# Glue inputs\n",
    "sb.glue('model_path', model_path)\n",
    "sb.glue('observations_path', observations_path)\n",
    "sb.glue('parameters_path', parameters_path)\n",
    "sb.glue('timeout', timeout)\n",
    "sb.glue('spinup', spinup)\n",
    "sb.glue('skip_months', skip_months)\n",
    "sb.glue('default_parameters', default_parameters)\n",
    "sb.glue('algorithm', algorithm)\n",
    "sb.glue('budget', budget)\n",
    "sb.glue('num_workers', num_workers)"
   ],
   "metadata": {
    "collapsed": false,
    "pycharm": {
     "name": "#%%\n"
    }
   }
  },
  {
   "cell_type": "code",
   "execution_count": null,
   "metadata": {
    "collapsed": false,
    "jupyter": {
     "outputs_hidden": false
    },
    "pycharm": {
     "name": "#%%\n"
    }
   },
   "outputs": [],
   "source": [
    "parameters = VarSoilParameters(parameters_path, default_parameters)\n",
    "model = VarSoilFullModel(model_path, store=False, timeout=timeout)\n",
    "observations = pd.read_csv(observations_path,\n",
    "                           parse_dates=[0],\n",
    "                           date_parser=date_parser,\n",
    "                           index_col=0)\n",
    "\n",
    "if spinup:\n",
    "    start_date = date_parser(model.settings['InitDateDDMMYYYYhhmm'])\n",
    "    start_date = start_date + relativedelta(**spinup)\n",
    "    selection = observations.index.map(lambda x: x >= start_date)\n",
    "    observations = observations[selection]\n",
    "\n",
    "if skip_months:\n",
    "    selection = observations.index.map(lambda x: x.month not in skip_months)\n",
    "    observations = observations[selection]\n",
    "\n",
    "calibration = Calibration(model, parameters, observations)"
   ]
  },
  {
   "cell_type": "code",
   "execution_count": null,
   "metadata": {
    "collapsed": false,
    "jupyter": {
     "outputs_hidden": false
    },
    "pycharm": {
     "name": "#%%\n"
    }
   },
   "outputs": [],
   "source": [
    "client = Client(scheduler_file=scheduler_file)"
   ]
  },
  {
   "cell_type": "code",
   "execution_count": null,
   "metadata": {},
   "outputs": [],
   "source": [
    "initial_guess = calibration.parameters.instrumentation\n",
    "calibration.comparison_plots(initial_guess)"
   ]
  },
  {
   "cell_type": "code",
   "execution_count": null,
   "metadata": {
    "collapsed": false,
    "jupyter": {
     "outputs_hidden": false
    },
    "pycharm": {
     "name": "#%%\n"
    }
   },
   "outputs": [],
   "source": [
    "start = timer()\n",
    "recommendation = calibration(algorithm, budget, num_workers, client)\n",
    "elapsed = timer() - start\n",
    "\n",
    "print(\"elapsed time:\", strftime(\"%T\", gmtime(elapsed)))"
   ]
  },
  {
   "cell_type": "code",
   "execution_count": null,
   "outputs": [],
   "source": [
    "calibration.convergence_plot()"
   ],
   "metadata": {
    "collapsed": false,
    "pycharm": {
     "name": "#%%\n"
    }
   }
  },
  {
   "cell_type": "code",
   "execution_count": null,
   "metadata": {
    "collapsed": false,
    "jupyter": {
     "outputs_hidden": false
    },
    "pycharm": {
     "name": "#%%\n"
    }
   },
   "outputs": [],
   "source": [
    "calibration.comparison_plots(recommendation)"
   ]
  },
  {
   "cell_type": "code",
   "execution_count": null,
   "metadata": {
    "collapsed": false,
    "jupyter": {
     "outputs_hidden": false
    },
    "pycharm": {
     "name": "#%%\n"
    }
   },
   "outputs": [],
   "source": [
    "parameters_table = calibration.parameters_table(recommendation)\n",
    "parameters_table"
   ]
  },
  {
   "cell_type": "code",
   "execution_count": null,
   "outputs": [],
   "source": [
    "# Outputs\n",
    "sb.glue('parameters_table', parameters_table, 'pandas')\n",
    "sb.glue('loss', recommendation.loss)\n",
    "sb.glue('elapsed_time', elapsed)\n"
   ],
   "metadata": {
    "collapsed": false,
    "pycharm": {
     "name": "#%%\n"
    }
   }
  }
 ],
 "metadata": {
  "kernelspec": {
   "display_name": "Python 3",
   "language": "python",
   "name": "python3"
  },
  "language_info": {
   "codemirror_mode": {
    "name": "ipython",
    "version": 3
   },
   "file_extension": ".py",
   "mimetype": "text/x-python",
   "name": "python",
   "nbconvert_exporter": "python",
   "pygments_lexer": "ipython3",
   "version": "3.8.6"
  }
 },
 "nbformat": 4,
 "nbformat_minor": 4
}