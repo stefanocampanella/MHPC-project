{
 "cells": [
  {
   "cell_type": "markdown",
   "metadata": {
    "pycharm": {
     "name": "#%% md\n"
    }
   },
   "source": [
    "# Calibration of GEOtop using Nevergrad and GEOtoPy"
   ]
  },
  {
   "cell_type": "markdown",
   "metadata": {
    "pycharm": {
     "name": "#%% md\n"
    }
   },
   "source": [
    "Import stuff"
   ]
  },
  {
   "cell_type": "code",
   "execution_count": null,
   "metadata": {
    "tags": [
     "parameters"
    ]
   },
   "outputs": [],
   "source": [
    "# Default\n",
    "\n",
    "obs_path = '../data/Matsch B2/observations/obs.csv'\n",
    "model_path = '../data/Matsch B2/inputs'\n",
    "parameters_path = '../data/Calibration parameters/testbed.csv'\n",
    "\n",
    "budget = 8192\n",
    "num_workers = 256\n",
    "maximum_jobs = 64"
   ]
  },
  {
   "cell_type": "code",
   "execution_count": null,
   "metadata": {},
   "outputs": [],
   "source": [
    "import warnings\n",
    "import pandas as pd\n",
    "import matplotlib.pyplot as plt\n",
    "\n",
    "from dask.distributed import Client\n",
    "from dask_jobqueue import SLURMCluster as Cluster\n",
    "\n",
    "from mhpc_project.optimization import Parameters, Loss, NGO\n",
    "from mhpc_project.utils import date_parser, comparison_plot, ProgressBar, ParametersLogger\n",
    "from mhpc_project.models import SMC50\n",
    "from mhpc_project.measures import KGE"
   ]
  },
  {
   "cell_type": "markdown",
   "metadata": {},
   "source": [
    "Load observations and apply some filters"
   ]
  },
  {
   "cell_type": "code",
   "execution_count": null,
   "metadata": {},
   "outputs": [],
   "source": [
    "observations = pd.read_csv(obs_path,\n",
    "                           parse_dates=[0],\n",
    "                           date_parser=date_parser,\n",
    "                           index_col=0)\n",
    "observations.index.rename('datetime', inplace=True)\n",
    "\n",
    "selection = observations.index.map(lambda x: not (x < date_parser('01/03/2011 23:00') or x.month in [12,1,2]))\n",
    "\n",
    "observations = observations[selection]"
   ]
  },
  {
   "cell_type": "markdown",
   "metadata": {
    "pycharm": {
     "name": "#%% md\n"
    }
   },
   "source": [
    "Load observations, model, loss function and calibration strategy"
   ]
  },
  {
   "cell_type": "code",
   "execution_count": null,
   "metadata": {
    "collapsed": false,
    "jupyter": {
     "outputs_hidden": false
    },
    "pycharm": {
     "name": "#%%\n"
    }
   },
   "outputs": [],
   "source": [
    "model = SMC50(model_path, timeout=180)\n",
    "parameters = Parameters(parameters_path)\n",
    "measure = KGE(observations['soil_moisture_50'])\n",
    "loss = Loss(model, parameters, measure)\n",
    "calibration = NGO(loss, budget=budget, num_workers=num_workers)"
   ]
  },
  {
   "cell_type": "markdown",
   "metadata": {
    "pycharm": {
     "name": "#%% md\n"
    }
   },
   "source": [
    "Evaluate the model and plot the results"
   ]
  },
  {
   "cell_type": "code",
   "execution_count": null,
   "metadata": {},
   "outputs": [],
   "source": [
    "simulation = model()\n",
    "print(f\"Before optimization loss is {measure(simulation)}\")\n",
    "comparison_plot(observations['soil_moisture_50'],\n",
    "                simulation,\n",
    "                desc='Soil moisture content @ 5cm',\n",
    "                rel=True)\n",
    "plt.show()"
   ]
  },
  {
   "cell_type": "markdown",
   "metadata": {
    "pycharm": {
     "name": "#%% md\n"
    }
   },
   "source": [
    "Launch Dask cluster using `dask-jobqueue`"
   ]
  },
  {
   "cell_type": "code",
   "execution_count": null,
   "metadata": {
    "collapsed": false,
    "jupyter": {
     "outputs_hidden": false
    },
    "pycharm": {
     "name": "#%%\n"
    }
   },
   "outputs": [],
   "source": [
    "cluster = Cluster()\n",
    "cluster.adapt(maximum_jobs=maximum_jobs)\n",
    "\n",
    "client = Client(cluster)"
   ]
  },
  {
   "cell_type": "markdown",
   "metadata": {},
   "source": [
    "Run calibration"
   ]
  },
  {
   "cell_type": "code",
   "execution_count": null,
   "metadata": {
    "collapsed": false,
    "jupyter": {
     "outputs_hidden": false
    },
    "pycharm": {
     "name": "#%%\n"
    }
   },
   "outputs": [],
   "source": [
    "calibration.optimizer.register_callback('tell', ProgressBar(total=calibration.optimizer.budget))\n",
    "\n",
    "with warnings.catch_warnings():\n",
    "    \n",
    "    warnings.simplefilter(\"ignore\")\n",
    "    recommendation = calibration(executor=client)"
   ]
  },
  {
   "cell_type": "markdown",
   "metadata": {},
   "source": [
    "Plot results and show table of calibrated values"
   ]
  },
  {
   "cell_type": "code",
   "execution_count": null,
   "metadata": {
    "collapsed": false,
    "jupyter": {
     "outputs_hidden": false
    },
    "pycharm": {
     "name": "#%%\n"
    }
   },
   "outputs": [],
   "source": [
    "simulation = model(**recommendation)\n",
    "print(f\"After optimization loss is {measure(simulation)}\")\n",
    "comparison_plot(observations['soil_moisture_50'],\n",
    "                simulation,\n",
    "                desc='Soil moisture content @ 5cm',\n",
    "                rel=True)\n",
    "plt.show()"
   ]
  },
  {
   "cell_type": "code",
   "execution_count": null,
   "metadata": {
    "collapsed": false,
    "jupyter": {
     "outputs_hidden": false
    },
    "pycharm": {
     "name": "#%%\n"
    }
   },
   "outputs": [],
   "source": [
    "calibration.to_dataframe(recommendation)"
   ]
  }
 ],
 "metadata": {
  "kernelspec": {
   "display_name": "Python 3",
   "language": "python",
   "name": "python3"
  },
  "language_info": {
   "codemirror_mode": {
    "name": "ipython",
    "version": 3
   },
   "file_extension": ".py",
   "mimetype": "text/x-python",
   "name": "python",
   "nbconvert_exporter": "python",
   "pygments_lexer": "ipython3",
   "version": "3.8.6"
  }
 },
 "nbformat": 4,
 "nbformat_minor": 4
}