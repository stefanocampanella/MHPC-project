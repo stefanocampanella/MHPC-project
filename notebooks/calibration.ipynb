{
 "cells": [
  {
   "cell_type": "markdown",
   "metadata": {
    "pycharm": {
     "name": "#%% md\n"
    }
   },
   "source": [
    "# Example of Calibration"
   ]
  },
  {
   "cell_type": "markdown",
   "metadata": {
    "pycharm": {
     "name": "#%% md\n"
    }
   },
   "source": [
    "Import stuff"
   ]
  },
  {
   "cell_type": "code",
   "execution_count": 1,
   "metadata": {},
   "outputs": [],
   "source": [
    "import warnings\n",
    "\n",
    "import pandas as pd\n",
    "import matplotlib.pyplot as plt\n",
    "\n",
    "from dask.distributed import Client\n",
    "from dask_jobqueue import SLURMCluster\n",
    "\n",
    "import nevergrad as ng\n",
    "from mhpc_project.matsch_b2 import CalibrationModel, Variables, Loss, NGO\n",
    "from geotopy.utils import date_parser, comparison_plot, ProgressBar, ParametersLogger\n",
    "from geotopy.measures import KGE"
   ]
  },
  {
   "cell_type": "markdown",
   "metadata": {
    "pycharm": {
     "name": "#%% md\n"
    }
   },
   "source": [
    "Launch Dask cluster using `dask-jobqueue`"
   ]
  },
  {
   "cell_type": "code",
   "execution_count": 2,
   "metadata": {
    "collapsed": false,
    "jupyter": {
     "outputs_hidden": false
    },
    "pycharm": {
     "name": "#%%\n"
    }
   },
   "outputs": [],
   "source": [
    "cluster = SLURMCluster()\n",
    "cluster.adapt(maximum_jobs=128)\n",
    "\n",
    "client = Client(cluster)"
   ]
  },
  {
   "cell_type": "code",
   "execution_count": 3,
   "metadata": {},
   "outputs": [
    {
     "name": "stdout",
     "output_type": "stream",
     "text": [
      "#!/usr/bin/env bash\n",
      "\n",
      "#SBATCH -J dask-worker\n",
      "#SBATCH -e /dev/shm/dask-worker-%J.err\n",
      "#SBATCH -o /dev/shm/dask-worker-%J.out\n",
      "#SBATCH -p regular2\n",
      "#SBATCH -n 1\n",
      "#SBATCH --cpus-per-task=4\n",
      "#SBATCH --mem=2GB\n",
      "#SBATCH -t 00:20:00\n",
      "#SBATCH --hint=nomultithread\n",
      "#SBATCH --hint=compute_bound\n",
      "NUMEXPR_NUM_THREADS=1\n",
      "NUMEXPR_MAX_THREADS=1\n",
      "OMP_NUM_THREADS=1\n",
      "TMPDIR=/dev/shm\n",
      "/home/scampane/scratch/MHPC-project/.env/bin/python -m distributed.cli.dask_worker tcp://10.6.0.4:41071 --nthreads 4 --memory-limit 2.00GB --name name --nanny --death-timeout 60 --local-directory $TMPDIR --lifetime 18m --lifetime-stagger 1m --interface ib0\n",
      "\n"
     ]
    }
   ],
   "source": [
    "print(cluster.job_script())"
   ]
  },
  {
   "cell_type": "markdown",
   "metadata": {
    "pycharm": {
     "name": "#%% md\n"
    }
   },
   "source": [
    "Load observations, model, loss function and calibration strategy"
   ]
  },
  {
   "cell_type": "code",
   "execution_count": 7,
   "metadata": {
    "collapsed": false,
    "jupyter": {
     "outputs_hidden": false
    },
    "pycharm": {
     "name": "#%%\n"
    }
   },
   "outputs": [],
   "source": [
    "observations = pd.read_csv('../data/Matsch B2/obs.csv',\n",
    "                           na_values=['-9999', '-99.99'],\n",
    "                           usecols=[0, 7],\n",
    "                           parse_dates=[0],\n",
    "                           date_parser=date_parser,\n",
    "                           index_col=0,\n",
    "                           squeeze=True)\n",
    "observations.index.rename('datetime', inplace=True)\n",
    "model = CalibrationModel('../data/Matsch B2/geotop', run_args={'timeout': 120})\n",
    "variables = Variables('../data/Matsch B2/variables.csv')\n",
    "measure = KGE(observations)\n",
    "loss = Loss(model, variables, measure)\n",
    "calibration = NGO(loss, budget=4096, num_workers=512)"
   ]
  },
  {
   "cell_type": "markdown",
   "metadata": {
    "pycharm": {
     "name": "#%% md\n"
    }
   },
   "source": [
    "Evaluate the model and plot the risults"
   ]
  },
  {
   "cell_type": "code",
   "execution_count": null,
   "metadata": {},
   "outputs": [],
   "source": [
    "simulation = model()\n",
    "print(f\"Before optimization loss is {measure(simulation)}\")\n",
    "comparison_plot(observations,\n",
    "                simulation,\n",
    "                desc='Soil moisture content @ 5cm',\n",
    "                rel=True)\n",
    "plt.show()"
   ]
  },
  {
   "cell_type": "markdown",
   "metadata": {},
   "source": [
    "Run calibration"
   ]
  },
  {
   "cell_type": "code",
   "execution_count": null,
   "metadata": {
    "collapsed": false,
    "jupyter": {
     "outputs_hidden": false
    },
    "pycharm": {
     "name": "#%%\n"
    }
   },
   "outputs": [],
   "source": [
    "logger = ParametersLogger(loss.massage)\n",
    "\n",
    "calibration.optimizer.register_callback('tell', logger)\n",
    "\n",
    "calibration.optimizer.register_callback('tell', ProgressBar(total=calibration.optimizer.budget))\n",
    "\n",
    "with warnings.catch_warnings():\n",
    "    \n",
    "    warnings.simplefilter(\"ignore\")\n",
    "    recommendation, best_loss = calibration(executor=client)"
   ]
  },
  {
   "cell_type": "markdown",
   "metadata": {},
   "source": [
    "Plot results and show table of calibrated values"
   ]
  },
  {
   "cell_type": "code",
   "execution_count": null,
   "metadata": {
    "collapsed": false,
    "jupyter": {
     "outputs_hidden": false
    },
    "pycharm": {
     "name": "#%%\n"
    }
   },
   "outputs": [],
   "source": [
    "simulation = model(**recommendation)\n",
    "print(f\"After optimization loss is {best_loss}\")\n",
    "comparison_plot(observations,\n",
    "                simulation,\n",
    "                desc='Soil moisture content @ 5cm',\n",
    "                rel=True)\n",
    "plt.show()"
   ]
  },
  {
   "cell_type": "code",
   "execution_count": null,
   "metadata": {
    "collapsed": false,
    "jupyter": {
     "outputs_hidden": false
    },
    "pycharm": {
     "name": "#%%\n"
    }
   },
   "outputs": [],
   "source": [
    "pd.DataFrame.from_dict(recommendation, orient='index', columns=['value'])"
   ]
  },
  {
   "cell_type": "markdown",
   "metadata": {},
   "source": [
    "pd.DataFrame.from_dict(recommendation, orient='index', columns=['value'])"
   ]
  }
 ],
 "metadata": {
  "kernelspec": {
   "display_name": "Python 3",
   "language": "python",
   "name": "python3"
  },
  "language_info": {
   "codemirror_mode": {
    "name": "ipython",
    "version": 3
   },
   "file_extension": ".py",
   "mimetype": "text/x-python",
   "name": "python",
   "nbconvert_exporter": "python",
   "pygments_lexer": "ipython3",
   "version": "3.9.0"
  }
 },
 "nbformat": 4,
 "nbformat_minor": 4
}
