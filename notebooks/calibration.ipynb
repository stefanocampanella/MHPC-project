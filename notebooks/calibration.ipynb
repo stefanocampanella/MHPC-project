{
 "cells": [
  {
   "cell_type": "markdown",
   "metadata": {
    "pycharm": {
     "name": "#%% md\n"
    }
   },
   "source": [
    "# GEOtop Calibration Report"
   ]
  },
  {
   "cell_type": "code",
   "execution_count": null,
   "metadata": {
    "tags": [
     "parameters"
    ]
   },
   "outputs": [],
   "source": [
    "# Default\n",
    "\n",
    "model_path = None\n",
    "observations_path = None\n",
    "parameters_path = 'data/parameters/default.csv'\n",
    "timeout = 300\n",
    "default_parameters = {'FirstLayerWidth': 10, 'MaxDepth': 1000}\n",
    "algorithm = 'NGO'\n",
    "budget = 8192\n",
    "num_workers = 256\n",
    "scheduler_file = None"
   ]
  },
  {
   "cell_type": "code",
   "execution_count": null,
   "metadata": {
    "collapsed": false,
    "jupyter": {
     "outputs_hidden": false
    },
    "pycharm": {
     "name": "#%%\n"
    }
   },
   "outputs": [],
   "source": [
    "from timeit import default_timer as timer\n",
    "from time import strftime, gmtime\n",
    "\n",
    "import numpy as np\n",
    "import pandas as pd\n",
    "import scrapbook as sb\n",
    "import nevergrad as ng\n",
    "from dask.distributed import Client, as_completed\n",
    "\n",
    "from mhpc_project.utils import date_parser, comparison_plots, convergence_plot, kge_cmp\n",
    "from mhpc_project.parameters import VarSoilParameters\n",
    "from mhpc_project.models import VarSoilFullModel"
   ]
  },
  {
   "cell_type": "code",
   "execution_count": null,
   "outputs": [],
   "source": [
    "# Glue inputs\n",
    "sb.glue('model_path', model_path)\n",
    "sb.glue('observations_path', observations_path)\n",
    "sb.glue('parameters_path', parameters_path)\n",
    "sb.glue('timeout', timeout)\n",
    "sb.glue('default_parameters', default_parameters)\n",
    "sb.glue('algorithm', algorithm)\n",
    "sb.glue('budget', budget)\n",
    "sb.glue('num_workers', num_workers)"
   ],
   "metadata": {
    "collapsed": false,
    "pycharm": {
     "name": "#%%\n"
    }
   }
  },
  {
   "cell_type": "code",
   "execution_count": null,
   "metadata": {
    "collapsed": false,
    "jupyter": {
     "outputs_hidden": false
    },
    "pycharm": {
     "name": "#%%\n"
    }
   },
   "outputs": [],
   "source": [
    "parameters = VarSoilParameters(parameters_path, default_parameters)\n",
    "model = VarSoilFullModel(model_path, timeout=timeout)\n",
    "observations = pd.read_csv(observations_path,\n",
    "                           parse_dates=[0],\n",
    "                           date_parser=date_parser,\n",
    "                           index_col=0)\n",
    "\n",
    "log = []"
   ]
  },
  {
   "cell_type": "code",
   "execution_count": null,
   "metadata": {
    "collapsed": false,
    "jupyter": {
     "outputs_hidden": false
    },
    "pycharm": {
     "name": "#%%\n"
    }
   },
   "outputs": [],
   "source": [
    "client = Client(scheduler_file=scheduler_file)"
   ]
  },
  {
   "cell_type": "code",
   "execution_count": null,
   "metadata": {},
   "outputs": [],
   "source": [
    "comparison_plots(model, observations, parameters.instrumentation)"
   ]
  },
  {
   "cell_type": "code",
   "execution_count": null,
   "metadata": {
    "collapsed": false,
    "jupyter": {
     "outputs_hidden": false
    },
    "pycharm": {
     "name": "#%%\n"
    }
   },
   "outputs": [],
   "source": [
    "start = timer()\n",
    "optimizer_class = ng.optimizers.registry[algorithm]\n",
    "optimizer = optimizer_class(parameters.instrumentation,\n",
    "                            budget=np.inf,\n",
    "                            num_workers=num_workers)\n",
    "\n",
    "remote_observations = client.scatter(observations, broadcast=True)\n",
    "remote_model = client.scatter(model, broadcast=True)\n",
    "while optimizer.num_tell < budget:\n",
    "    remote_candidates = client.scatter([optimizer.ask()\n",
    "                                        for _ in range(num_workers)])\n",
    "    remote_simulations = [client.submit(lambda f, x: f(*x.args, **x.kwargs),\n",
    "                                        remote_model,\n",
    "                                        candidate)\n",
    "                          for candidate in remote_candidates]\n",
    "    remote_losses = [client.submit(kge_cmp,\n",
    "                                   sim,\n",
    "                                   remote_observations)\n",
    "                     for sim in remote_simulations]\n",
    "\n",
    "    remote_pairs = [client.submit(lambda x, y: (x, y),\n",
    "                                  candidate,\n",
    "                                  loss)\n",
    "                    for candidate, loss in zip(remote_candidates, remote_losses)]\n",
    "    completed_queue = as_completed(remote_pairs)\n",
    "    for batch in completed_queue.batches():\n",
    "        for future in batch:\n",
    "            if future.status == 'finished':\n",
    "                candidate, loss = future.result()\n",
    "                optimizer.tell(candidate, loss)\n",
    "                log.append((candidate, loss))\n",
    "            else:\n",
    "                new_candidate = optimizer.ask()\n",
    "                new_sim = client.submit(lambda f, x: f(*x.args, **x.kwargs),\n",
    "                                        remote_model,\n",
    "                                        new_candidate)\n",
    "                new_loss = client.submit(kge_cmp, new_sim, remote_observations)\n",
    "                new_pair = client.submit(lambda x, y: (x,y), new_candidate, new_loss)\n",
    "                completed_queue.add(new_pair)\n",
    "\n",
    "recommendation = optimizer.provide_recommendation()\n",
    "elapsed = timer() - start\n",
    "\n",
    "print(\"elapsed time:\", strftime(\"%T\", gmtime(elapsed)))"
   ]
  },
  {
   "cell_type": "code",
   "execution_count": null,
   "outputs": [],
   "source": [
    "convergence_plot(log)"
   ],
   "metadata": {
    "collapsed": false,
    "pycharm": {
     "name": "#%%\n"
    }
   }
  },
  {
   "cell_type": "code",
   "execution_count": null,
   "metadata": {
    "collapsed": false,
    "jupyter": {
     "outputs_hidden": false
    },
    "pycharm": {
     "name": "#%%\n"
    }
   },
   "outputs": [],
   "source": [
    "comparison_plots(model, observations, recommendation)"
   ]
  },
  {
   "cell_type": "code",
   "execution_count": null,
   "outputs": [],
   "source": [
    "parameters_best = parameters.from_instrumentation(recommendation, column_name='best')\n",
    "report = parameters.delta_mim(log)\n",
    "report['best'] = parameters_best\n",
    "report.sort_values('delta', key=np.abs, ascending=False)"
   ],
   "metadata": {
    "collapsed": false,
    "pycharm": {
     "name": "#%%\n"
    }
   }
  },
  {
   "cell_type": "code",
   "execution_count": null,
   "outputs": [],
   "source": [
    "# Outputs\n",
    "sb.glue('report', report, 'pandas')\n",
    "sb.glue('loss', recommendation.loss)\n",
    "sb.glue('elapsed_time', elapsed)\n"
   ],
   "metadata": {
    "collapsed": false,
    "pycharm": {
     "name": "#%%\n"
    }
   }
  }
 ],
 "metadata": {
  "kernelspec": {
   "display_name": "Python 3",
   "language": "python",
   "name": "python3"
  },
  "language_info": {
   "codemirror_mode": {
    "name": "ipython",
    "version": 3
   },
   "file_extension": ".py",
   "mimetype": "text/x-python",
   "name": "python",
   "nbconvert_exporter": "python",
   "pygments_lexer": "ipython3",
   "version": "3.8.6"
  }
 },
 "nbformat": 4,
 "nbformat_minor": 4
}