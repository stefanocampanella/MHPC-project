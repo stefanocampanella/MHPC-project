{
 "cells": [
  {
   "cell_type": "markdown",
   "metadata": {
    "pycharm": {
     "name": "#%% md\n"
    }
   },
   "source": [
    "# GEOtop Calibration Report"
   ]
  },
  {
   "cell_type": "code",
   "execution_count": null,
   "metadata": {
    "tags": [
     "parameters"
    ]
   },
   "outputs": [],
   "source": [
    "# Default\n",
    "\n",
    "model_path = '../data/testbed/inputs'\n",
    "timeout = 120\n",
    "observations_path = '../data/testbed/observations/obs.csv'\n",
    "parameters_path = '../data/parameters/testbed.csv'\n",
    "default_parameters = {}\n",
    "algorithm = 'NGO'\n",
    "popsize = 2\n",
    "num_generations = 4\n",
    "scheduler_file = None\n",
    "num_nodes = None\n",
    "num_workers = 2\n",
    "performance_report_filename='report.html'"
   ]
  },
  {
   "cell_type": "code",
   "execution_count": null,
   "metadata": {
    "collapsed": false,
    "jupyter": {
     "outputs_hidden": false
    },
    "pycharm": {
     "name": "#%%\n"
    }
   },
   "outputs": [],
   "source": [
    "from time import strftime, gmtime\n",
    "\n",
    "import numpy as np\n",
    "import pandas as pd\n",
    "import scrapbook as sb\n",
    "import dask.config\n",
    "from dask.distributed import Client, performance_report\n",
    "\n",
    "from mhpc_project.utils import date_parser, comparison_plots, convergence_plot, kge_cmp, calibrate, delta_mim\n",
    "from mhpc_project.parameters import UniformSoilParameters as Parameters\n",
    "from mhpc_project.models import UniformSoilModel as Model"
   ]
  },
  {
   "cell_type": "code",
   "execution_count": null,
   "metadata": {
    "collapsed": false,
    "jupyter": {
     "outputs_hidden": false
    },
    "pycharm": {
     "name": "#%%\n"
    }
   },
   "outputs": [],
   "source": [
    "# Glue inputs\n",
    "sb.glue('model_path', model_path)\n",
    "sb.glue('observations_path', observations_path)\n",
    "sb.glue('parameters_path', parameters_path)\n",
    "sb.glue('timeout', timeout)\n",
    "sb.glue('default_parameters', default_parameters)\n",
    "sb.glue('algorithm', algorithm)\n",
    "sb.glue('popsize', popsize)\n",
    "sb.glue('num_generations', num_generations)\n",
    "sb.glue('num_workers', num_workers)\n",
    "sb.glue('dask_config', dask.config.config)"
   ]
  },
  {
   "cell_type": "code",
   "execution_count": null,
   "metadata": {
    "collapsed": false,
    "jupyter": {
     "outputs_hidden": false
    },
    "pycharm": {
     "name": "#%%\n"
    }
   },
   "outputs": [],
   "source": [
    "parameters = Parameters(parameters_path, default_parameters)\n",
    "model = Model(model_path, store=False, timeout=timeout)\n",
    "observations = pd.read_csv(observations_path,\n",
    "                           parse_dates=[0],\n",
    "                           date_parser=date_parser,\n",
    "                           index_col=0)\n"
   ]
  },
  {
   "cell_type": "code",
   "execution_count": null,
   "metadata": {
    "collapsed": false,
    "jupyter": {
     "outputs_hidden": false
    },
    "pycharm": {
     "name": "#%%\n"
    }
   },
   "outputs": [],
   "source": [
    "# client = Client(scheduler_file=scheduler_file)\n",
    "client = Client()\n",
    "client.wait_for_workers(n_workers=num_nodes, timeout=180)"
   ]
  },
  {
   "cell_type": "code",
   "execution_count": null,
   "metadata": {
    "collapsed": false,
    "jupyter": {
     "outputs_hidden": false
    },
    "pycharm": {
     "name": "#%%\n"
    }
   },
   "outputs": [],
   "source": [
    "with performance_report(filename=performance_report_filename):\n",
    "    recommendation, predictions, log, elapsed = calibrate(model,\n",
    "                                                          parameters,\n",
    "                                                          observations,\n",
    "                                                          algorithm,\n",
    "                                                          popsize,\n",
    "                                                          num_generations,\n",
    "                                                          client,\n",
    "                                                          num_workers)\n",
    "print(\"elapsed time:\", strftime(\"%T\", gmtime(elapsed)))"
   ]
  },
  {
   "cell_type": "code",
   "execution_count": null,
   "metadata": {
    "collapsed": false,
    "jupyter": {
     "outputs_hidden": false
    },
    "pycharm": {
     "name": "#%%\n"
    }
   },
   "outputs": [],
   "source": [
    "convergence_plot([(x.generation, l) for x, l, _ in log if np.isfinite(l)])"
   ]
  },
  {
   "cell_type": "code",
   "execution_count": null,
   "metadata": {
    "collapsed": false,
    "jupyter": {
     "outputs_hidden": false
    },
    "pycharm": {
     "name": "#%%\n"
    }
   },
   "outputs": [],
   "source": [
    "comparison_plots(predictions, observations)"
   ]
  },
  {
   "cell_type": "code",
   "execution_count": null,
   "metadata": {
    "collapsed": false,
    "jupyter": {
     "outputs_hidden": false
    },
    "pycharm": {
     "name": "#%%\n"
    }
   },
   "outputs": [],
   "source": [
    "report = delta_mim(parameters, [(x, l) for x, l, t in log if np.isfinite(l)])\n",
    "report['best'] = parameters.from_instrumentation(recommendation)\n",
    "report.sort_values('delta', key=np.abs, ascending=False)"
   ]
  },
  {
   "cell_type": "code",
   "execution_count": null,
   "metadata": {
    "collapsed": false,
    "jupyter": {
     "outputs_hidden": false
    },
    "pycharm": {
     "name": "#%%\n"
    }
   },
   "outputs": [],
   "source": [
    "# Outputs\n",
    "sb.glue('report', report, 'pandas')\n",
    "sb.glue('loss', kge_cmp(predictions, observations))\n",
    "sb.glue('loss_log', [(x.generation, l, t) for (x, l, t) in log])\n",
    "sb.glue('elapsed_time', elapsed)\n"
   ]
  }
 ],
 "metadata": {
  "kernelspec": {
   "display_name": "Python 3",
   "language": "python",
   "name": "python3"
  },
  "language_info": {
   "codemirror_mode": {
    "name": "ipython",
    "version": 3
   },
   "file_extension": ".py",
   "mimetype": "text/x-python",
   "name": "python",
   "nbconvert_exporter": "python",
   "pygments_lexer": "ipython3",
   "version": "3.8.6"
  }
 },
 "nbformat": 4,
 "nbformat_minor": 4
}