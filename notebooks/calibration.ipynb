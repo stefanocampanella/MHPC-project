{
 "cells": [
  {
   "cell_type": "markdown",
   "metadata": {
    "pycharm": {
     "name": "#%% md\n"
    }
   },
   "source": [
    "# GEOtop Calibration Report"
   ]
  },
  {
   "cell_type": "code",
   "execution_count": null,
   "metadata": {
    "collapsed": false,
    "jupyter": {
     "outputs_hidden": false
    },
    "pycharm": {
     "name": "#%%\n"
    },
    "tags": [
     "parameters"
    ]
   },
   "outputs": [],
   "source": [
    "# Defaults\n",
    "model_path = '../data/testbed/inputs'\n",
    "timeout = 120\n",
    "observations_path = '../data/testbed/observations/obs.csv'\n",
    "parameters_path = '../data/parameters/testbed.csv'\n",
    "default_parameters = {}\n",
    "algorithm = 'Random'\n",
    "popsize = 2\n",
    "num_generations = 2\n",
    "scheduler_file = None\n",
    "num_cpus = 2\n",
    "num_workers = 2\n",
    "performance_report_filename='report.html'"
   ]
  },
  {
   "cell_type": "code",
   "execution_count": null,
   "metadata": {
    "collapsed": false,
    "jupyter": {
     "outputs_hidden": false
    },
    "pycharm": {
     "name": "#%%\n"
    }
   },
   "outputs": [],
   "source": [
    "import numpy as np\n",
    "import pandas as pd\n",
    "import matplotlib.pyplot as plt\n",
    "import scrapbook as sb\n",
    "import dask.config\n",
    "from dask.distributed import Client, performance_report\n",
    "\n",
    "from mhpc_project.utils import date_parser, kge_cmp, calibrate, delta_mim\n",
    "from mhpc_project.parameters import UniformSoilParameters as Parameters\n",
    "from mhpc_project.models import UniformSoilModel as Model\n",
    "import mhpc_project.plots as plots"
   ]
  },
  {
   "cell_type": "code",
   "execution_count": null,
   "metadata": {
    "collapsed": false,
    "jupyter": {
     "outputs_hidden": false
    },
    "pycharm": {
     "name": "#%%\n"
    }
   },
   "outputs": [],
   "source": [
    "# Store dask config\n",
    "sb.glue('dask_config', dask.config.config)"
   ]
  },
  {
   "cell_type": "code",
   "execution_count": null,
   "metadata": {
    "collapsed": false,
    "jupyter": {
     "outputs_hidden": false
    },
    "pycharm": {
     "name": "#%%\n"
    }
   },
   "outputs": [],
   "source": [
    "parameters = Parameters(parameters_path, default_parameters)\n",
    "model = Model(model_path, store=False, timeout=timeout)\n",
    "observations = pd.read_csv(observations_path,\n",
    "                           parse_dates=[0],\n",
    "                           date_parser=date_parser,\n",
    "                           index_col=0)\n"
   ]
  },
  {
   "cell_type": "code",
   "execution_count": null,
   "metadata": {
    "collapsed": false,
    "jupyter": {
     "outputs_hidden": false
    },
    "pycharm": {
     "name": "#%%\n"
    }
   },
   "outputs": [],
   "source": [
    "if scheduler_file:\n",
    "    client = Client(scheduler_file=scheduler_file)\n",
    "else:\n",
    "    client = Client()\n",
    "client.wait_for_workers(n_workers=num_workers, timeout=180)"
   ]
  },
  {
   "cell_type": "code",
   "execution_count": null,
   "metadata": {
    "collapsed": false,
    "jupyter": {
     "outputs_hidden": false
    },
    "pycharm": {
     "name": "#%%\n"
    }
   },
   "outputs": [],
   "source": [
    "with performance_report(filename=performance_report_filename):\n",
    "    recommendation, predictions, log = calibrate(model,\n",
    "                                                 parameters,\n",
    "                                                 observations,\n",
    "                                                 algorithm,\n",
    "                                                 popsize,\n",
    "                                                 num_generations,\n",
    "                                                 client,\n",
    "                                                 num_cpus)\n",
    "\n",
    "sb.glue('loss', kge_cmp(predictions, observations))\n",
    "sb.glue('log', [((x.generation, x.args[0]), l, t) for (x, l, t) in log])"
   ]
  },
  {
   "cell_type": "code",
   "execution_count": null,
   "metadata": {
    "collapsed": false,
    "jupyter": {
     "outputs_hidden": false
    },
    "pycharm": {
     "name": "#%%\n"
    }
   },
   "outputs": [],
   "source": [
    "plot = plots.convergence([(x.generation, l) for x, l, _ in log if np.isfinite(l)])\n",
    "plt.close(plot)\n",
    "sb.glue('convergence_plot', plot, 'display')"
   ]
  },
  {
   "cell_type": "code",
   "execution_count": null,
   "metadata": {
    "collapsed": false,
    "jupyter": {
     "outputs_hidden": false
    },
    "pycharm": {
     "name": "#%%\n"
    }
   },
   "outputs": [],
   "source": [
    "for name, plot in plots.comparisons(predictions, observations).items():\n",
    "    plt.close(plot)\n",
    "    sb.glue(name + '_plot', plot, 'display')"
   ]
  },
  {
   "cell_type": "code",
   "execution_count": null,
   "metadata": {
    "collapsed": false,
    "jupyter": {
     "outputs_hidden": false
    },
    "pycharm": {
     "name": "#%%\n"
    }
   },
   "outputs": [],
   "source": [
    "report = delta_mim(parameters, [(x.args[0], l) for x, l, t in log if np.isfinite(l)])\n",
    "report['best'] = parameters.from_instrumentation(recommendation)\n",
    "sb.glue('report', report, 'pandas')\n",
    "\n",
    "report.sort_values('delta', key=np.abs, ascending=False)"
   ]
  }
 ],
 "metadata": {
  "kernelspec": {
   "display_name": "Python 3",
   "language": "python",
   "name": "python3"
  },
  "language_info": {
   "codemirror_mode": {
    "name": "ipython",
    "version": 3
   },
   "file_extension": ".py",
   "mimetype": "text/x-python",
   "name": "python",
   "nbconvert_exporter": "python",
   "pygments_lexer": "ipython3",
   "version": "3.8.6"
  }
 },
 "nbformat": 4,
 "nbformat_minor": 4
}
