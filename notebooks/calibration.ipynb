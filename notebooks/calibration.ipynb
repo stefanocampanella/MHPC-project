{
 "cells": [
  {
   "cell_type": "markdown",
   "metadata": {
    "pycharm": {
     "name": "#%% md\n"
    }
   },
   "source": [
    "# Calibration of GEOtop using Nevergrad and GEOtoPy"
   ]
  },
  {
   "cell_type": "code",
   "execution_count": null,
   "metadata": {
    "tags": [
     "parameters"
    ]
   },
   "outputs": [],
   "source": [
    "# Default\n",
    "\n",
    "model_path = '../data/Matsch B2/inputs'\n",
    "timeout = 240\n",
    "observations_path = '../data/Matsch B2/observations/obs.csv'\n",
    "parameters_path = '../data/Calibration parameters/default_parameters_table.csv'\n",
    "spinup = {'years': 1}\n",
    "skip_months = None\n",
    "default_parameters = None\n",
    "algorithm = 'NGO'\n",
    "budget = 8\n",
    "popsize = 2\n",
    "address = 'local'\n",
    "maximum_jobs = 64"
   ]
  },
  {
   "cell_type": "code",
   "execution_count": null,
   "metadata": {
    "collapsed": false,
    "jupyter": {
     "outputs_hidden": false
    },
    "pycharm": {
     "name": "#%%\n"
    }
   },
   "outputs": [],
   "source": [
    "from dateutil.relativedelta import relativedelta\n",
    "\n",
    "import pandas as pd\n",
    "from dask.distributed import Client\n",
    "from dask_jobqueue import SLURMCluster as Cluster\n",
    "\n",
    "from mhpc_project.utils import date_parser\n",
    "from mhpc_project.parameters import VarSoilParameters\n",
    "from mhpc_project.models import VarSoilFullModel\n",
    "from mhpc_project.calibration import Calibration"
   ]
  },
  {
   "cell_type": "code",
   "execution_count": null,
   "metadata": {
    "collapsed": false,
    "jupyter": {
     "outputs_hidden": false
    },
    "pycharm": {
     "name": "#%%\n"
    }
   },
   "outputs": [],
   "source": [
    "parameters = VarSoilParameters(parameters_path, default_parameters)\n",
    "model = VarSoilFullModel(model_path, timeout=timeout)\n",
    "observations = pd.read_csv(observations_path,\n",
    "                           parse_dates=[0],\n",
    "                           date_parser=date_parser,\n",
    "                           index_col=0)\n",
    "\n",
    "if spinup:\n",
    "    start_date = date_parser(model.settings['InitDateDDMMYYYYhhmm'])\n",
    "    start_date = start_date + relativedelta(**spinup)\n",
    "    selection = observations.index.map(lambda x: x >= start_date)\n",
    "    observations = observations[selection]\n",
    "\n",
    "if skip_months:\n",
    "    selection = observations.index.map(lambda x: x.month not in skip_months)\n",
    "    observations = observations[selection]\n",
    "\n",
    "calibration = Calibration(model, parameters, observations)"
   ]
  },
  {
   "cell_type": "code",
   "execution_count": null,
   "metadata": {
    "collapsed": false,
    "jupyter": {
     "outputs_hidden": false
    },
    "pycharm": {
     "name": "#%%\n"
    }
   },
   "outputs": [],
   "source": [
    "if address:\n",
    "    if address == 'local':\n",
    "        client = Client()\n",
    "    else:\n",
    "        client = Client(address=address)\n",
    "else:\n",
    "    cluster = Cluster()\n",
    "    cluster.adapt(maximum_jobs=maximum_jobs)\n",
    "\n",
    "    client = Client(cluster)"
   ]
  },
  {
   "cell_type": "code",
   "execution_count": null,
   "metadata": {},
   "outputs": [],
   "source": [
    "initial_guess = calibration.parameters.instrumentation\n",
    "calibration.comparison_plots(initial_guess)"
   ]
  },
  {
   "cell_type": "code",
   "execution_count": null,
   "metadata": {
    "collapsed": false,
    "jupyter": {
     "outputs_hidden": false
    },
    "pycharm": {
     "name": "#%%\n"
    }
   },
   "outputs": [],
   "source": [
    "%%time\n",
    "calibrated_output, recommendation = calibration(algorithm, budget, popsize, client, show_progress=True)"
   ]
  },
  {
   "cell_type": "code",
   "execution_count": null,
   "metadata": {
    "collapsed": false,
    "jupyter": {
     "outputs_hidden": false
    },
    "pycharm": {
     "name": "#%%\n"
    }
   },
   "outputs": [],
   "source": [
    "calibration.comparison_plots(recommendation)"
   ]
  },
  {
   "cell_type": "code",
   "execution_count": null,
   "metadata": {
    "collapsed": false,
    "jupyter": {
     "outputs_hidden": false
    },
    "pycharm": {
     "name": "#%%\n"
    }
   },
   "outputs": [],
   "source": [
    "calibration.parameters_table(recommendation)"
   ]
  }
 ],
 "metadata": {
  "kernelspec": {
   "display_name": "Python 3",
   "language": "python",
   "name": "python3"
  },
  "language_info": {
   "codemirror_mode": {
    "name": "ipython",
    "version": 3
   },
   "file_extension": ".py",
   "mimetype": "text/x-python",
   "name": "python",
   "nbconvert_exporter": "python",
   "pygments_lexer": "ipython3",
   "version": "3.8.6"
  }
 },
 "nbformat": 4,
 "nbformat_minor": 4
}
