{
 "cells": [
  {
   "cell_type": "code",
   "execution_count": null,
   "metadata": {},
   "outputs": [],
   "source": [
    "import os\n",
    "import tempfile\n",
    "\n",
    "import pandas as pd\n",
    "import matplotlib.pyplot as plt\n",
    "\n",
    "from common import observations, GEOtopRun"
   ]
  },
  {
   "cell_type": "code",
   "execution_count": null,
   "metadata": {},
   "outputs": [],
   "source": [
    "class GEOtopPlotRun(GEOtopRun):\n",
    "    \n",
    "    def postprocess(self, working_dir):\n",
    "        sim = super().postprocess(working_dir)\n",
    "        \n",
    "        point_path = os.path.join(working_dir, 'point.txt')\n",
    "        point = pd.read_csv(point_path, \n",
    "                          na_values=['-9999'],\n",
    "                          parse_dates=True, \n",
    "                          infer_datetime_format=True,\n",
    "                          index_col=0)\n",
    "        point.index.rename('datetime', inplace=True)\n",
    "        \n",
    "        sim = sim.append(point)\n",
    "        \n",
    "        return sim"
   ]
  },
  {
   "cell_type": "code",
   "execution_count": null,
   "metadata": {},
   "outputs": [],
   "source": [
    "%%time\n",
    "\n",
    "model = GEOtopPlotRun('inputs/Matsch_B2/run',\n",
    "                         exe='../geotop/build/geotop',\n",
    "                         run_args={'check': True, \n",
    "                                   'capture_output': True})\n",
    "\n",
    "model['PointAll'] = 1\n",
    "model['PointOutputFileWriteEnd'] = \"\\\"point\\\"\"\n",
    "\n",
    "with tempfile.TemporaryDirectory() as tmpdir:\n",
    "    sim = model.eval(tmpdir)\n",
    "\n",
    "obs = observations('inputs/Matsch_B2/obs.csv')"
   ]
  },
  {
   "cell_type": "code",
   "execution_count": null,
   "metadata": {},
   "outputs": [],
   "source": [
    "%%time\n",
    "\n",
    "with tempfile.TemporaryDirectory() as tmpdir:\n",
    "    sim = model.eval(tmpdir)"
   ]
  },
  {
   "cell_type": "markdown",
   "metadata": {},
   "source": [
    "## Air Temperature"
   ]
  },
  {
   "cell_type": "code",
   "execution_count": null,
   "metadata": {
    "pycharm": {
     "is_executing": true
    }
   },
   "outputs": [],
   "source": [
    "sim.rename(columns={'Tair[C]': 'air_temperature'}, inplace=True)\n",
    "print(f\"Loss for air temperature is {obs.metric('air_temperature', sim)}\")\n",
    "obs.compare('air_temperature', sim, name='Air Temperature', unit='C')\n",
    "plt.show()"
   ]
  },
  {
   "cell_type": "markdown",
   "metadata": {},
   "source": [
    "## Rainfall Amount"
   ]
  },
  {
   "cell_type": "code",
   "execution_count": null,
   "metadata": {
    "pycharm": {
     "is_executing": true
    }
   },
   "outputs": [],
   "source": [
    "sim['rainfall_amount'] = sim['Prain_over_canopy[mm]'] + sim['Psnow_over_canopy[mm]']\n",
    "print(f\"Loss for rainfall amount is {obs.metric('rainfall_amount', sim)}\")\n",
    "obs.compare('air_temperature', sim, name='Rainfall amount', unit='mm')\n",
    "plt.show()"
   ]
  },
  {
   "cell_type": "markdown",
   "metadata": {},
   "source": [
    "## Relative Humidity"
   ]
  },
  {
   "cell_type": "code",
   "execution_count": null,
   "metadata": {
    "pycharm": {
     "is_executing": true
    }
   },
   "outputs": [],
   "source": [
    "print(f\"Loss for relative humidity is {obs.metric('relative_humidity', sim)}\")\n",
    "obs.compare('relative_humidity', sim, name='Rainfall amount')\n",
    "plt.show()\n",
    "# try:\n",
    "#     compare(obs['relative_humidity'], \n",
    "#             sim['relative_humidity'], \n",
    "#             name='Relative humidity')\n",
    "#     plt.show()\n",
    "# except:\n",
    "#     pass"
   ]
  },
  {
   "cell_type": "markdown",
   "metadata": {},
   "source": [
    "## Wind Speed"
   ]
  },
  {
   "cell_type": "code",
   "execution_count": null,
   "metadata": {
    "pycharm": {
     "is_executing": true
    }
   },
   "outputs": [],
   "source": [
    "try:\n",
    "    compare(obs['wind_speed'], \n",
    "            sim['wind_speed'], \n",
    "            name='Wind speed', \n",
    "            unit='m/s')\n",
    "    plt.show()\n",
    "except:\n",
    "    pass"
   ]
  },
  {
   "cell_type": "markdown",
   "metadata": {},
   "source": [
    "## Upwelling Shortwave Flux"
   ]
  },
  {
   "cell_type": "code",
   "execution_count": null,
   "metadata": {
    "pycharm": {
     "is_executing": true
    }
   },
   "outputs": [],
   "source": [
    "try:\n",
    "    compare(obs['surface_upwelling_shortwave_flux'], \n",
    "            sim['SW_out'], \n",
    "            name='Upwelling shortwave flux', \n",
    "            unit='W/m²')\n",
    "    plt.show()\n",
    "except:\n",
    "    pass"
   ]
  },
  {
   "cell_type": "markdown",
   "metadata": {},
   "source": [
    "## Upwelling Longwave Flux"
   ]
  },
  {
   "cell_type": "code",
   "execution_count": null,
   "metadata": {
    "pycharm": {
     "is_executing": true
    }
   },
   "outputs": [],
   "source": [
    "try:\n",
    "    compare(obs['surface_upwelling_longwave_flux'], \n",
    "            sim['LW_out'], \n",
    "            name='Upwelling longwave flux', \n",
    "            unit='W/m²')\n",
    "    plt.show()\n",
    "except:\n",
    "    pass"
   ]
  },
  {
   "cell_type": "markdown",
   "metadata": {},
   "source": [
    "## Downwelling Shortwave Flux"
   ]
  },
  {
   "cell_type": "code",
   "execution_count": null,
   "metadata": {
    "pycharm": {
     "is_executing": true
    }
   },
   "outputs": [],
   "source": [
    "try:\n",
    "    compare(obs['surface_downwelling_shortwave_flux'], \n",
    "            sim['SW_in'],\n",
    "            name='Downwelling shortwave flux', \n",
    "            unit='W/m²')\n",
    "    plt.show()\n",
    "except:\n",
    "    pass"
   ]
  },
  {
   "cell_type": "markdown",
   "metadata": {},
   "source": [
    "## Downwelling Longwave Flux"
   ]
  },
  {
   "cell_type": "code",
   "execution_count": null,
   "metadata": {
    "pycharm": {
     "is_executing": true
    }
   },
   "outputs": [],
   "source": [
    "try:\n",
    "    compare(obs['surface_downwelling_longwave_flux'], \n",
    "            sim['LW_in'], \n",
    "            name='Downwelling longwave flux', \n",
    "            unit='W/m²')\n",
    "    plt.show()\n",
    "except:\n",
    "    pass"
   ]
  },
  {
   "cell_type": "markdown",
   "metadata": {},
   "source": [
    "## Net Radiation"
   ]
  },
  {
   "cell_type": "code",
   "execution_count": null,
   "metadata": {
    "pycharm": {
     "is_executing": true
    }
   },
   "outputs": [],
   "source": [
    "try:\n",
    "    compare(obs['net_radiation'], \n",
    "            sim['SW_net'] + sim['LW_net'],\n",
    "            name='Net radiation', \n",
    "            unit='W/m²')\n",
    "    plt.show()\n",
    "except:\n",
    "    pass"
   ]
  },
  {
   "cell_type": "markdown",
   "metadata": {},
   "source": [
    "## Latent  Heat Flux in Air"
   ]
  },
  {
   "cell_type": "code",
   "execution_count": null,
   "metadata": {
    "pycharm": {
     "is_executing": true
    }
   },
   "outputs": [],
   "source": [
    "try:\n",
    "    compare(obs['latent_heat_flux_in_air'], \n",
    "            sim['canopy_fraction'] * (sim['LEg_veg'] + sim['LEv'] - sim['LEg_unveg']) + sim['LEg_unveg'],\n",
    "            name='Latent heat flux in air', \n",
    "            unit='W/m²')\n",
    "    plt.show()\n",
    "except:\n",
    "    pass"
   ]
  },
  {
   "cell_type": "markdown",
   "metadata": {},
   "source": [
    "## Sensible Heat Flux in Air"
   ]
  },
  {
   "cell_type": "code",
   "execution_count": null,
   "metadata": {
    "pycharm": {
     "is_executing": true
    }
   },
   "outputs": [],
   "source": [
    "try:\n",
    "    compare(obs['sensible_heat_flux_in_air'], \n",
    "            sim['canopy_fraction'] * (sim['Hg_veg'] + sim['Hv'] - sim['Hg_unveg']) + sim['Hg_unveg'],\n",
    "            name='Sensible flux in air',\n",
    "            unit='W/m²')\n",
    "    plt.show()\n",
    "except:\n",
    "    pass"
   ]
  },
  {
   "cell_type": "markdown",
   "metadata": {},
   "source": [
    "## Soil Moisture Content at 20mm"
   ]
  },
  {
   "cell_type": "code",
   "execution_count": null,
   "metadata": {},
   "outputs": [],
   "source": [
    "try:\n",
    "    compare(obs['soil_moisture_content_20'], \n",
    "            sim[20],\n",
    "            name='Soil moisture content @ 20mm',\n",
    "            rel=True)\n",
    "    plt.show()\n",
    "except:\n",
    "    pass"
   ]
  },
  {
   "cell_type": "markdown",
   "metadata": {},
   "source": [
    "## Soil Moisture Content at 50mm"
   ]
  },
  {
   "cell_type": "code",
   "execution_count": null,
   "metadata": {
    "pycharm": {
     "is_executing": true
    }
   },
   "outputs": [],
   "source": [
    "try:\n",
    "    compare(obs['soil_moisture_content_50'], \n",
    "            sim[50],\n",
    "            name='Soil moisture content @ 50mm',\n",
    "            rel=True)\n",
    "    plt.show()\n",
    "except:\n",
    "    pass"
   ]
  },
  {
   "cell_type": "markdown",
   "metadata": {},
   "source": [
    "## Soil Moisture Content at 200mm"
   ]
  },
  {
   "cell_type": "code",
   "execution_count": null,
   "metadata": {
    "pycharm": {
     "is_executing": true
    }
   },
   "outputs": [],
   "source": [
    "try:\n",
    "    compare(obs['soil_moisture_content_200'], \n",
    "            sim[200],\n",
    "            name='Soil moisture content @ 200mm',\n",
    "            rel=True)\n",
    "    plt.show()\n",
    "except:\n",
    "    pass"
   ]
  },
  {
   "cell_type": "code",
   "execution_count": null,
   "metadata": {
    "pycharm": {
     "is_executing": true
    }
   },
   "outputs": [],
   "source": []
  }
 ],
 "metadata": {
  "kernelspec": {
   "display_name": "Python 3",
   "language": "python",
   "name": "python3"
  },
  "language_info": {
   "codemirror_mode": {
    "name": "ipython",
    "version": 3
   },
   "file_extension": ".py",
   "mimetype": "text/x-python",
   "name": "python",
   "nbconvert_exporter": "python",
   "pygments_lexer": "ipython3",
   "version": "3.8.5"
  }
 },
 "nbformat": 4,
 "nbformat_minor": 4
}
