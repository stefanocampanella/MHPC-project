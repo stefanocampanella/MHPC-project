{
 "cells": [
  {
   "cell_type": "code",
   "execution_count": null,
   "metadata": {},
   "outputs": [],
   "source": [
    "from tempfile import TemporaryDirectory\n",
    "import matplotlib.pyplot as plt\n",
    "from IPython.display import display, Markdown\n",
    "\n",
    "from calibrations.matsch_b2 import obs, model"
   ]
  },
  {
   "cell_type": "code",
   "execution_count": null,
   "metadata": {},
   "outputs": [],
   "source": [
    "targets = [\n",
    "    ('rainfall_amount', 'mm', 'Rainfall Amount'),\n",
    "    ('wind_speed', 'm/s', 'Wind Speed'),\n",
    "    ('relative_humidity', None, 'Relative Humidity'),\n",
    "     ('air_temperature', 'C', 'Air Temperature'),\n",
    "    ('surface_downwelling_shortwave_flux', 'W/m2', 'Downwelling Shortwave Flux'),\n",
    "    ('soil_moisture_content_50', None, 'Soil Moisture at 50mm'),\n",
    "    ('soil_moisture_content_200', None, 'Soil Moisture at 200mm'),\n",
    "    ('latent_heat_flux_in_air', 'W/m2', 'Latent Heat Flux'),\n",
    "    ('sensible_heat_flux_in_air', 'W/m2', 'Sensible Heat Flux')\n",
    "]"
   ]
  },
  {
   "cell_type": "code",
   "execution_count": null,
   "metadata": {},
   "outputs": [],
   "source": [
    "with TemporaryDirectory() as tmpdir:\n",
    "    sim = model.eval(tmpdir)"
   ]
  },
  {
   "cell_type": "code",
   "execution_count": null,
   "metadata": {},
   "outputs": [],
   "source": [
    "for name, unit, desc in targets:\n",
    "    display(Markdown(f\"# {desc}\"))\n",
    "    print(f\"Loss for {name} is {obs.metric(name, sim)}\")\n",
    "    obs.compare(name, sim, desc=desc, unit=unit)\n",
    "    plt.show()"
   ]
  }
 ],
 "metadata": {
  "kernelspec": {
   "display_name": "Python 3",
   "language": "python",
   "name": "python3"
  },
  "language_info": {
   "codemirror_mode": {
    "name": "ipython",
    "version": 3
   },
   "file_extension": ".py",
   "mimetype": "text/x-python",
   "name": "python",
   "nbconvert_exporter": "python",
   "pygments_lexer": "ipython3",
   "version": "3.9.0"
  }
 },
 "nbformat": 4,
 "nbformat_minor": 4
}
