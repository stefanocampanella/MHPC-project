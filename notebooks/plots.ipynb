{
 "cells": [
  {
   "cell_type": "markdown",
   "metadata": {},
   "source": [
    "# Comparison of observations with predictions from the uncalibrated model"
   ]
  },
  {
   "cell_type": "code",
   "execution_count": null,
   "metadata": {
    "tags": [
     "parameters"
    ]
   },
   "outputs": [],
   "source": [
    "obs_path = '../data/Matsch B2/observations/obs.csv'\n",
    "model_path = '../data/Matsch B2/geotop'\n",
    "depths = [50, 200]"
   ]
  },
  {
   "cell_type": "code",
   "execution_count": null,
   "metadata": {},
   "outputs": [],
   "source": [
    "import pandas as pd\n",
    "import matplotlib.pyplot as plt\n",
    "\n",
    "from mhpc_project.models import FullModel\n",
    "from mhpc_project.utils import date_parser, comparison_plot"
   ]
  },
  {
   "cell_type": "code",
   "execution_count": null,
   "metadata": {},
   "outputs": [],
   "source": [
    "observations = pd.read_csv(obs_path,\n",
    "                           parse_dates=[0],\n",
    "                           date_parser=date_parser,\n",
    "                           index_col=0)"
   ]
  },
  {
   "cell_type": "code",
   "execution_count": null,
   "metadata": {},
   "outputs": [],
   "source": [
    "model = FullModel(model_path)\n",
    "model.settings['SoilPlotDepths'] = depths\n",
    "model.settings['SoilIceContentProfileFileWriteEnd'] = '\"theta_ice\"'\n",
    "model.settings['PointAll'] = True\n",
    "model.settings['PointOutputFileWriteEnd'] = '\"point\"'\n",
    "model.settings['SoilTempProfileFileWriteEnd'] = '\"temperature\"'\n",
    "\n",
    "simulation = model()"
   ]
  },
  {
   "cell_type": "code",
   "execution_count": null,
   "metadata": {},
   "outputs": [],
   "source": [
    "for col in observations.columns:\n",
    "    try:\n",
    "        desc = col.replace('_', ' ').title()\n",
    "        comparison_plot(observations[col], simulation[col],desc=desc)\n",
    "        plt.show()\n",
    "    except:\n",
    "        pass"
   ]
  }
 ],
 "metadata": {
  "kernelspec": {
   "display_name": "Python 3",
   "language": "python",
   "name": "python3"
  },
  "language_info": {
   "codemirror_mode": {
    "name": "ipython",
    "version": 3
   },
   "file_extension": ".py",
   "mimetype": "text/x-python",
   "name": "python",
   "nbconvert_exporter": "python",
   "pygments_lexer": "ipython3",
   "version": "3.8.6"
  }
 },
 "nbformat": 4,
 "nbformat_minor": 4
}