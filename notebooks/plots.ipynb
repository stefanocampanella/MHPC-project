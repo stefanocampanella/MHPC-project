{
 "cells": [
  {
   "cell_type": "markdown",
   "metadata": {},
   "source": [
    "# Comparison of observations with predictions from the uncalibrated model"
   ]
  },
  {
   "cell_type": "code",
   "execution_count": null,
   "metadata": {
    "tags": [
     "parameters"
    ]
   },
   "outputs": [],
   "source": [
    "model_path = '../data/Matsch B2/inputs'\n",
    "timeout = 300\n",
    "observations_path = '../data/Matsch B2/observations/obs.csv'\n",
    "parameters_path = '../data/Calibration parameters/default_parameters_table.csv'\n",
    "spinup = {'years': 1}\n",
    "skip_months = None\n",
    "default_parameters = None"
   ]
  },
  {
   "cell_type": "code",
   "execution_count": null,
   "metadata": {},
   "outputs": [],
   "source": [
    "import pandas as pd\n",
    "\n",
    "from dateutil.relativedelta import relativedelta\n",
    "\n",
    "from mhpc_project.utils import date_parser\n",
    "from mhpc_project.parameters import VarSoilParameters\n",
    "from mhpc_project.models import VarSoilFullModel\n",
    "from mhpc_project.calibration import Calibration"
   ]
  },
  {
   "cell_type": "code",
   "execution_count": null,
   "metadata": {
    "collapsed": false,
    "jupyter": {
     "outputs_hidden": false
    },
    "pycharm": {
     "name": "#%%\n"
    }
   },
   "outputs": [],
   "source": [
    "parameters = VarSoilParameters(parameters_path, default_parameters)\n",
    "model = VarSoilFullModel(model_path, timeout=timeout)\n",
    "observations = pd.read_csv(observations_path,\n",
    "                           parse_dates=[0],\n",
    "                           date_parser=date_parser,\n",
    "                           index_col=0)\n",
    "\n",
    "if spinup:\n",
    "    start_date = date_parser(model.settings['InitDateDDMMYYYYhhmm'])\n",
    "    start_date = start_date + relativedelta(**spinup)\n",
    "    selection = observations.index.map(lambda x: x >= start_date)\n",
    "    observations = observations[selection]\n",
    "\n",
    "if skip_months:\n",
    "    selection = observations.index.map(lambda x: x.month not in skip_months)\n",
    "    observations = observations[selection]\n",
    "\n",
    "calibration = Calibration(model, parameters, observations)"
   ]
  },
  {
   "cell_type": "code",
   "execution_count": null,
   "metadata": {},
   "outputs": [],
   "source": [
    "%%time\n",
    "initial_guess = calibration.parameters.instrumentation\n",
    "calibration.comparison_plots(initial_guess)"
   ]
  }
 ],
 "metadata": {
  "kernelspec": {
   "display_name": "Python 3",
   "language": "python",
   "name": "python3"
  },
  "language_info": {
   "codemirror_mode": {
    "name": "ipython",
    "version": 3
   },
   "file_extension": ".py",
   "mimetype": "text/x-python",
   "name": "python",
   "nbconvert_exporter": "python",
   "pygments_lexer": "ipython3",
   "version": "3.8.6"
  }
 },
 "nbformat": 4,
 "nbformat_minor": 4
}