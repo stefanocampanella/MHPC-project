{
 "cells": [
  {
   "cell_type": "code",
   "execution_count": null,
   "metadata": {
    "slideshow": {
     "slide_type": "skip"
    }
   },
   "outputs": [],
   "source": [
    "import os\n",
    "import tempfile\n",
    "import subprocess\n",
    "from datetime import datetime\n",
    "import shutil\n",
    "from pathlib import Path\n",
    "import time\n",
    "import threading\n",
    "\n",
    "from concurrent.futures import as_completed, ProcessPoolExecutor\n",
    "from collections.abc import Mapping\n",
    "\n",
    "from IPython.display import Image\n",
    "import numpy as np\n",
    "import pandas as pd\n",
    "\n",
    "import matplotlib.pyplot as plt\n",
    "import matplotlib.ticker as mtick\n",
    "import seaborn as sns\n",
    "sns.set(rc={'figure.figsize': (15, 10), 'figure.dpi' : 100})\n",
    "\n",
    "import nevergrad as ng\n",
    "from SALib.sample import saltelli\n",
    "from SALib.analyze import sobol\n",
    "import geotopy as gtp\n",
    "from tqdm import tqdm\n",
    "import psutil"
   ]
  },
  {
   "cell_type": "code",
   "execution_count": null,
   "metadata": {
    "slideshow": {
     "slide_type": "skip"
    },
    "tags": [
     "parameters"
    ]
   },
   "outputs": [],
   "source": [
    "# Defaults\n",
    "\n",
    "# System settings\n",
    "systmpfs = '/tmp'\n",
    "output_dir = f\"data/outputs/{datetime.now().strftime('%Y-%m-%d_%H-%M')}\"\n",
    "\n",
    "# SA/Optimizer settings\n",
    "num_workers = 2\n",
    "budget = 16\n",
    "SASampleN = 2\n",
    "algorithm = 'OnePlusOne'\n",
    "timeout = 30\n",
    "monitor_interval = 2\n",
    "target = 'soil_moisture_content_50'\n",
    "params = {\"NVanGenuchten\": [1.15, 2.0, 1.5, \"gaussian\"],\n",
    "          \"AlphaVanGenuchten\": [0.0005, 0.008, 0.002, \"logarithmic\"],\n",
    "          \"ThetaSat\": [0.4, 0.7, 0.5, \"gaussian\"],\n",
    "          \"ThetaRes\": [0.05, 0.08, 0.06, \"gaussian\"],\n",
    "          \"NormalHydrConductivity\": [0.0001, 1.0, 0.01, \"logarithmic\"]}"
   ]
  },
  {
   "cell_type": "code",
   "execution_count": null,
   "metadata": {
    "slideshow": {
     "slide_type": "skip"
    }
   },
   "outputs": [],
   "source": [
    "class monitor:\n",
    "    def __init__(self, interval):\n",
    "        self.datetime = []\n",
    "        self.cpu_usage = []\n",
    "        self.memory_usage = []\n",
    "        self.interval = interval\n",
    "        self.running = False\n",
    "        \n",
    "        self.thread = threading.Thread(target=self.run, args=())\n",
    "        self.thread.daemon = True\n",
    "\n",
    "    def sample(self):\n",
    "        self.datetime.append(datetime.now())\n",
    "        self.cpu_usage.append(psutil.cpu_percent())\n",
    "        self.memory_usage.append(psutil.virtual_memory().percent)\n",
    "        \n",
    "    def run(self):\n",
    "        while self.running:\n",
    "            self.sample()\n",
    "            time.sleep(self.interval)\n",
    "    \n",
    "    def start(self):\n",
    "        self.running = True\n",
    "        self.thread.start()\n",
    "        \n",
    "    def stop(self):\n",
    "        self.running = False\n",
    "        self.thread.join()"
   ]
  },
  {
   "cell_type": "code",
   "execution_count": null,
   "metadata": {
    "slideshow": {
     "slide_type": "skip"
    }
   },
   "outputs": [],
   "source": [
    "stats = monitor(monitor_interval)\n",
    "stats.start()"
   ]
  },
  {
   "cell_type": "code",
   "execution_count": null,
   "metadata": {
    "slideshow": {
     "slide_type": "skip"
    }
   },
   "outputs": [],
   "source": [
    "output_tmpdir = tempfile.TemporaryDirectory(dir=systmpfs)\n",
    "output_tmpdir_path = Path(output_tmpdir.name)\n",
    "os.makedirs(output_tmpdir_path.joinpath('data/outputs'))"
   ]
  },
  {
   "cell_type": "markdown",
   "metadata": {
    "slideshow": {
     "slide_type": "slide"
    }
   },
   "source": [
    "# High-Performance Derivative-Free Optimization for the GE🌍top Model Calibration\n",
    "\n",
    "### Stefano Campanella\n",
    "\n",
    "#### Giacomo Bertoldi, Alberto Sartori, Emanuele Cordano"
   ]
  },
  {
   "cell_type": "markdown",
   "metadata": {
    "slideshow": {
     "slide_type": "slide"
    }
   },
   "source": [
    "## GEOtop Calibration\n",
    "\n",
    "GEOtop is a physical model that simulates the heat and water budgets at and below the soil surface. \n",
    "\n",
    "Some inputs are unknown/uncertain: find the values such that the ouputs better reproduce the experimental data.\n",
    "\n",
    "Case study: LTSER sites in Val di Mazia, Alto Adige"
   ]
  },
  {
   "cell_type": "markdown",
   "metadata": {
    "slideshow": {
     "slide_type": "subslide"
    }
   },
   "source": [
    "## Challenges\n",
    "\n",
    "1. Many parameters \n",
    "2. No good prior\n",
    "3. Time consuming simulations\n",
    "\n",
    "<b class=fragment>Parallel Derivative-free heuristic algorithms are the only option</b>"
   ]
  },
  {
   "cell_type": "markdown",
   "metadata": {
    "slideshow": {
     "slide_type": "slide"
    }
   },
   "source": [
    "Some points to keep in mind:\n",
    "\n",
    "* Community of scientists, not HPC experts nor programmers\n",
    "* Wide range of use cases and applications\n",
    "* Calibration is CPU bounded\n",
    "* For these algorithms, <span class=\"fragment highlight-red\">scaling can be a tricky subject</span>"
   ]
  },
  {
   "cell_type": "markdown",
   "metadata": {
    "slideshow": {
     "slide_type": "slide"
    }
   },
   "source": [
    "Consider genetic algorithms/PSO.\n",
    "\n",
    "<span class=fragment>Increasing the number of phenotypes/particles increases the coverage of the parameters space in each generation/iteration, but the principle of operation of these algorithms lies in the correlation between one generation/iteration and the next.</span>\n",
    "\n",
    "<span class=fragment>Hence, scaling must take into account that cutting the time to solution by increasing the number of processing units and decreasing the number of iterations can lead to worse results.</span>"
   ]
  },
  {
   "cell_type": "markdown",
   "metadata": {
    "slideshow": {
     "slide_type": "slide"
    }
   },
   "source": [
    "## The Goal\n",
    "\n",
    "1. Write a reusable calibration tool, with a simple yet general enough interface\n",
    "2. Make it easily deployable on HPC systems\n",
    "3. Perform the optimization and analysis on the case study\n",
    "4. Benchmark algorithms, objective functions, and hyperparameters"
   ]
  },
  {
   "cell_type": "markdown",
   "metadata": {
    "slideshow": {
     "slide_type": "subslide"
    }
   },
   "source": [
    "## Constraints\n",
    "\n",
    "1. 1D simulations\n",
    "2. Only scalar parameters (however, the framework allows more complex scenarios) \n",
    "3. No multi-objective (multiple targets must be squashed into a single one)"
   ]
  },
  {
   "cell_type": "markdown",
   "metadata": {
    "slideshow": {
     "slide_type": "slide"
    }
   },
   "source": [
    "## Approach/Design Choices\n",
    "\n",
    "* Python: simple language, good tooling e wide adoption in scientific computing community.\n",
    "* Do not reinvent the wheel (use standard libraries as much as possible, otherwise third party libraries).\n",
    "* Modularity, encapsulation and referential transparency.\n",
    "* Emphasis on documentation and reproducibility."
   ]
  },
  {
   "cell_type": "markdown",
   "metadata": {
    "slideshow": {
     "slide_type": "slide"
    }
   },
   "source": [
    "## What has been done\n",
    "\n",
    "<ol>\n",
    "    <li class=fragment>Preliminary analysis of the case study and visualization</li>\n",
    "    <li class=fragment><b>GEOtoPy</b>: A wrapper based on IO and keywords</li>\n",
    "    <li class=fragment>Prototype of calibration with Nevergrad and SA with SALib</li>\n",
    "    <li class=fragment>Deployment on Ulysses, now moving to VSC-4</li>\n",
    "</ol>"
   ]
  },
  {
   "cell_type": "markdown",
   "metadata": {
    "slideshow": {
     "slide_type": "slide"
    }
   },
   "source": [
    "## GEOtop IO scheme\n",
    "\n",
    "GEOtop works on text files, both for input and output.\n",
    "\n",
    "The main one is `geotop.inpts` and contains settings and comments, other CSV data files may be provided.\n",
    "\n",
    "Comments begin with a `!`, settings match `<keyword> = <value>`.\n",
    "\n",
    "The values can be booleans, numbers, array or strings. \n",
    "\n",
    "Keyword are hardwired in GEOtop source code and have definite type."
   ]
  },
  {
   "cell_type": "markdown",
   "metadata": {
    "slideshow": {
     "slide_type": "slide"
    }
   },
   "source": [
    "## GEOtoPy\n",
    "\n",
    "GEOtoPy exports the base, abstract class `GEOtop`, which can be subclassed to solve particular use cases.\n",
    "\n",
    "Object of this class can parse, store and print the settings contained in `geotop.inpts`.\n",
    "\n",
    "They can also evaluate the model _without side effects_."
   ]
  },
  {
   "cell_type": "markdown",
   "metadata": {
    "slideshow": {
     "slide_type": "subslide"
    }
   },
   "source": [
    "## GEOtoPy Evaluation Model\n",
    "\n",
    "<img src=\"data/assets/geotopy.svg\" height=\"800px\" style=\"margin-left: auto; margin-right: auto;\">"
   ]
  },
  {
   "cell_type": "code",
   "execution_count": null,
   "metadata": {
    "slideshow": {
     "slide_type": "skip"
    }
   },
   "outputs": [],
   "source": [
    "class GEOtopExampleRun(gtp.GEOtop):\n",
    "\n",
    "    def preprocess(self, working_dir, *args, **kwargs):\n",
    "        \n",
    "        settings = {**self, **kwargs}\n",
    "        \n",
    "        inpts_src_path = os.path.join(self.inputs_dir, 'geotop.inpts')\n",
    "        inpts_dest_path = os.path.join(working_dir, 'geotop.inpts')\n",
    "        \n",
    "        with open(inpts_src_path, 'r') as inpts_src, open(inpts_dest_path, 'w') as inpts_dest:\n",
    "            inpts_dest.write(f\"! GEOtop input file written by GEOtoPy {datetime.now().strftime('%x %X')}\\n\")\n",
    "            while line := inpts_src.readline():\n",
    "                if gtp._comment_re.match(line):\n",
    "                    inpts_dest.write(line)\n",
    "                else:\n",
    "                    try:\n",
    "                        key, value = gtp.read_setting(line)\n",
    "                        \n",
    "                        if key in settings and value != settings[key]:\n",
    "                            inpts_dest.write(f\"! GEOtoPy: {key} overwritten, was {value}\\n\")\n",
    "                            line = gtp.print_setting(key, settings[key])\n",
    "                        else:\n",
    "                            line = gtp.print_setting(key, value)\n",
    "                        \n",
    "                        inpts_dest.write(line)\n",
    "                        del settings[key]\n",
    "                    \n",
    "                    except ValueError as err:\n",
    "                        inpts_dest.write(f\"! GEOtoPy: {err}\\n\")\n",
    "                        inpts_dest.write(line)\n",
    "            \n",
    "            if settings:\n",
    "                inpts_dest.write(\"\\n! Settings added by GEOtoPy\\n\")\n",
    "                for key, value in settings.items():\n",
    "                    try:\n",
    "                        line = gtp.print_setting(key, value)\n",
    "                        inpts_dest.write(line)\n",
    "                    except ValueError as err:\n",
    "                        inpts_dest.write(f\"! GEOtoPy: {err}\\n\")\n",
    "                        inpts_dest.write(f\"{key} = {value}\\n\")\n",
    "                            \n",
    "        \n",
    "    def postprocess(self, working_dir):\n",
    "        \n",
    "        liq_path = os.path.join(working_dir, 'theta_liq.txt')\n",
    "        liq = pd.read_csv(liq_path, \n",
    "                          na_values=['-9999'],\n",
    "                          usecols=[0, 6, 7], \n",
    "                          skiprows=1,\n",
    "                          header=0, \n",
    "                          names=['datetime', 'soil_moisture_content_50', 'soil_moisture_content_200'],\n",
    "                          parse_dates=True, \n",
    "                          infer_datetime_format=True,\n",
    "                          index_col=0)\n",
    "        \n",
    "        ice_path = os.path.join(working_dir, 'theta_ice.txt')\n",
    "        ice = pd.read_csv(ice_path, \n",
    "                          na_values=['-9999'], \n",
    "                          usecols=[0, 6, 7], \n",
    "                          skiprows=1,\n",
    "                          header=0, \n",
    "                          names=['datetime', 'soil_moisture_content_50', 'soil_moisture_content_200'],\n",
    "                          parse_dates=True, \n",
    "                          infer_datetime_format=True,\n",
    "                          index_col=0)\n",
    "        \n",
    "        sim = ice + liq\n",
    "        \n",
    "        return sim\n",
    "    \n",
    "    def save(self, destination, *args, **kwargs):\n",
    "        \n",
    "        shutil.copytree(self.inputs_dir, destination, dirs_exist_ok=True)\n",
    "        model.preprocess(destination, *args, **kwargs)"
   ]
  },
  {
   "cell_type": "code",
   "execution_count": null,
   "metadata": {
    "slideshow": {
     "slide_type": "skip"
    }
   },
   "outputs": [],
   "source": [
    "class observations(Mapping):\n",
    "    \n",
    "    def __init__(self, path):\n",
    "        \n",
    "        self.data = pd.read_csv(path, \n",
    "                                na_values=['-9999'], \n",
    "                                parse_dates=True, \n",
    "                                infer_datetime_format=True,\n",
    "                                index_col=0)\n",
    "        \n",
    "        self.data.index.rename('datetime', inplace=True)\n",
    "        \n",
    "        self.squared_mean = (self.data * self.data).mean()\n",
    "        \n",
    "    def __getitem__(self, key):\n",
    "        \n",
    "        return self.data[key]\n",
    "\n",
    "    def __len__(self):\n",
    "        \n",
    "        return len(self.data)\n",
    "\n",
    "    def __iter__(self):\n",
    "        \n",
    "        return iter(self.data)\n",
    "\n",
    "    def compare(self, target, simulation, periods=None, name=None, unit=None, rel=False):\n",
    "\n",
    "        if not periods:\n",
    "            periods = {'Daily': 'D', 'Weekly': 'W', 'Monthly': 'M'}\n",
    "\n",
    "        fig, axes = plt.subplots(ncols=3, \n",
    "                                 nrows=len(periods), \n",
    "                                 constrained_layout=True)\n",
    "\n",
    "        if name:\n",
    "            fig.suptitle(name)\n",
    "\n",
    "        for i, (Tstr, T) in enumerate(periods.items()):\n",
    "            comp_plot, diff_plot, hist_plot = axes[i, :]\n",
    "            \n",
    "            obs_resampled = self[target].resample(T).mean()\n",
    "            sim_resampled = simulation[target].resample(T).mean()\n",
    "\n",
    "            err = obs_resampled - sim_resampled        \n",
    "            if rel:\n",
    "                err = err / obs_resampled.abs()\n",
    "\n",
    "            data = pd.DataFrame({'Observations': obs_resampled, 'Simulation': sim_resampled})\n",
    "            sns.lineplot(data=data, ax=comp_plot)\n",
    "            comp_plot.set_title(Tstr)\n",
    "            comp_plot.set_xlabel(\"\")\n",
    "            if unit:\n",
    "                comp_plot.set_ylabel(f\"[{unit}]\")\n",
    "\n",
    "            sns.lineplot(data=err, ax=diff_plot)\n",
    "            plt.setp(diff_plot.get_xticklabels(), rotation=20)\n",
    "            if rel:\n",
    "                diff_plot.set_ylabel(\"Relative error\")\n",
    "                diff_plot.yaxis.set_major_formatter(mtick.PercentFormatter(xmax=1.0))\n",
    "            elif unit:\n",
    "                diff_plot.set_ylabel(f\"Error [{unit}]\")\n",
    "            else:\n",
    "                diff_plot.set_ylabel(\"Error\")\n",
    "\n",
    "            sns.distplot(err, rug=True, vertical=True, hist=True, ax=hist_plot)\n",
    "            y1, y2 = diff_plot.get_ylim()\n",
    "            hist_plot.set_ylim(y1,y2)\n",
    "            hist_plot.set_yticklabels([])\n",
    "            hist_plot.set_ylabel(\"\")\n",
    "        \n",
    "        return fig\n",
    "    \n",
    "    def metric(self, target, simulation):\n",
    "\n",
    "        diff = (self[target] - simulation[target])\n",
    "        diff_squared = diff * diff\n",
    "\n",
    "        return np.sqrt(diff_squared.mean() / self.squared_mean[target])"
   ]
  },
  {
   "cell_type": "code",
   "execution_count": null,
   "metadata": {
    "slideshow": {
     "slide_type": "slide"
    }
   },
   "outputs": [],
   "source": [
    "model = GEOtopExampleRun('data/inputs/run',\n",
    "                         exe='../../geotop/build/geotop',\n",
    "                         run_args={'check': True, \n",
    "                                   'capture_output': True, \n",
    "                                   'timeout': timeout})\n",
    "\n",
    "obs = observations('data/inputs/obs.csv')"
   ]
  },
  {
   "cell_type": "code",
   "execution_count": null,
   "metadata": {
    "slideshow": {
     "slide_type": "subslide"
    }
   },
   "outputs": [],
   "source": [
    "with tempfile.TemporaryDirectory(dir=systmpfs) as tmpdir:\n",
    "    sim = model.eval(tmpdir)\n",
    "    print(f\"Before optimization loss is {obs.metric(target, sim)}\")\n",
    "    fig = obs.compare(target, sim, name=\"Soil moisture content @ 50 mm\", rel=True)\n",
    "    before_plot_path = output_tmpdir_path.joinpath('data/outputs/before_optimization.png')\n",
    "    fig.savefig(before_plot_path)\n",
    "    plt.close(fig)"
   ]
  },
  {
   "cell_type": "code",
   "execution_count": null,
   "metadata": {
    "slideshow": {
     "slide_type": "subslide"
    }
   },
   "outputs": [],
   "source": [
    "Image(filename=before_plot_path) "
   ]
  },
  {
   "cell_type": "markdown",
   "metadata": {
    "slideshow": {
     "slide_type": "slide"
    }
   },
   "source": [
    "## Example of Sensitivity Analysis"
   ]
  },
  {
   "cell_type": "markdown",
   "metadata": {
    "slideshow": {
     "slide_type": "slide"
    }
   },
   "source": [
    "Right now, we are using the loss $\\frac{\\langle \\left(y_\\text{obs} - y_\\text{sim} \\right)^2 \\rangle}{\\langle y_\\text{obs}^2 \\rangle}$"
   ]
  },
  {
   "cell_type": "code",
   "execution_count": null,
   "metadata": {
    "slideshow": {
     "slide_type": "-"
    }
   },
   "outputs": [],
   "source": [
    "def loss_function(*args, **kwargs): \n",
    "        \n",
    "    with tempfile.TemporaryDirectory(dir=systmpfs) as tmpdir:\n",
    "        try:\n",
    "            sim = model.eval(tmpdir, *args, **kwargs)\n",
    "        except subprocess.CalledProcessError:\n",
    "            return np.nan\n",
    "        except subprocess.TimeoutExpired:\n",
    "            return np.nan\n",
    "\n",
    "    return obs.metric(target, sim) # < (y_obs - y_sim)^2 > / < y_obs^2  >"
   ]
  },
  {
   "cell_type": "code",
   "execution_count": null,
   "metadata": {
    "slideshow": {
     "slide_type": "subslide"
    }
   },
   "outputs": [],
   "source": [
    "def loss_SA_wrapper(xs):\n",
    "    settings = {key: value for (key, value) in zip(params, xs)}\n",
    "    return loss_function(**settings)\n",
    "\n",
    "problem = {'num_vars': len(params),\n",
    "           'names': [names for names in params],\n",
    "           'bounds': [(a, b) for a, b, _, _ in params.values()]}\n",
    "\n",
    "samples = saltelli.sample(problem, SASampleN, calc_second_order=False)\n",
    "\n",
    "executor = ProcessPoolExecutor(max_workers=num_workers)\n",
    "losses = list(tqdm(executor.map(loss_SA_wrapper, samples), total=len(samples), position=0, leave=True))"
   ]
  },
  {
   "cell_type": "code",
   "execution_count": null,
   "metadata": {
    "slideshow": {
     "slide_type": "subslide"
    }
   },
   "outputs": [],
   "source": [
    "sa = sobol.analyze(problem, np.array(losses), calc_second_order=False);\n",
    "sa_df = pd.DataFrame(sa, index=problem['names']);\n",
    "sa_df.sort_values('S1', key=np.abs, ascending=False)"
   ]
  },
  {
   "cell_type": "markdown",
   "metadata": {
    "slideshow": {
     "slide_type": "slide"
    }
   },
   "source": [
    "## Example of Calibration"
   ]
  },
  {
   "cell_type": "code",
   "execution_count": null,
   "metadata": {
    "slideshow": {
     "slide_type": "subslide"
    }
   },
   "outputs": [],
   "source": [
    "dist = {'gaussian': ng.p.Scalar, 'logarithmic': ng.p.Log}\n",
    "\n",
    "ng_params = {key: dist[t](lower=a, upper=b) for key, (a, b, _, t) in params.items()}\n",
    "\n",
    "\n",
    "parameters = ng.p.Instrumentation(**ng_params)\n",
    "\n",
    "optimizer = ng.optimizers.registry[algorithm](parametrization=parameters, \n",
    "                                              budget=budget, \n",
    "                                              num_workers=num_workers)\n",
    "\n",
    "logger = ng.callbacks.ParametersLogger(output_tmpdir_path.joinpath('data/outputs/optimization_log'))\n",
    "optimizer.register_callback(\"tell\",  logger)\n",
    "\n",
    "for sample, loss in zip(samples, losses):\n",
    "    kwargs = dict(zip(problem['names'], sample))\n",
    "    candidate = optimizer.parametrization.spawn_child(new_value=((), kwargs))\n",
    "    optimizer.tell(candidate, loss)\n",
    "\n",
    "progress_bar = ng.callbacks.ProgressBar()\n",
    "optimizer.register_callback(\"tell\",  progress_bar)\n",
    "\n",
    "with ProcessPoolExecutor(max_workers=optimizer.num_workers) as executor:\n",
    "    recommendation = optimizer.minimize(loss_function, \n",
    "                                        executor=executor, \n",
    "                                        batch_mode=False)"
   ]
  },
  {
   "cell_type": "code",
   "execution_count": null,
   "metadata": {
    "slideshow": {
     "slide_type": "subslide"
    }
   },
   "outputs": [],
   "source": [
    "params_df = pd.DataFrame.from_dict(params, orient='index', columns=['lower', 'upper', 'suggested', 'distribution'])\n",
    "params_df['best'] = pd.Series(recommendation.kwargs)\n",
    "\n",
    "results = sa_df.join(params_df)\n",
    "results.sort_values('S1', key=np.abs, ascending=False, inplace=True)\n",
    "\n",
    "results"
   ]
  },
  {
   "cell_type": "code",
   "execution_count": null,
   "metadata": {
    "slideshow": {
     "slide_type": "skip"
    }
   },
   "outputs": [],
   "source": [
    "logger.load()\n",
    "hiplot_experiment = logger.to_hiplot_experiment()\n",
    "hiplot_experiment.to_csv(output_tmpdir_path.joinpath('data/outputs/hiplot.csv'))\n",
    "\n",
    "results.to_csv(output_tmpdir_path.joinpath('data/outputs/results.csv'), index=False)\n",
    "\n",
    "model.save(output_tmpdir_path.joinpath('data/inputs/run'), **recommendation.kwargs)\n",
    "\n",
    "shutil.copyfile('data/inputs/obs.csv', output_tmpdir_path.joinpath('data/inputs/obs.csv'))"
   ]
  },
  {
   "cell_type": "code",
   "execution_count": null,
   "metadata": {
    "slideshow": {
     "slide_type": "subslide"
    }
   },
   "outputs": [],
   "source": [
    "with tempfile.TemporaryDirectory() as tmpdir:\n",
    "    print(f\"After optimization loss is {recommendation.loss}\")\n",
    "    sim = model.eval(tmpdir, **recommendation.kwargs)\n",
    "    fig = obs.compare(target, sim, name=f\"Soil moisture content @ 50mm\", rel=True)\n",
    "    after_plot_path = output_tmpdir_path.joinpath('data/outputs/after_optimization.png')\n",
    "    fig.savefig(after_plot_path)\n",
    "    plt.close(fig)"
   ]
  },
  {
   "cell_type": "code",
   "execution_count": null,
   "metadata": {
    "slideshow": {
     "slide_type": "subslide"
    }
   },
   "outputs": [],
   "source": [
    "Image(filename=after_plot_path)"
   ]
  },
  {
   "cell_type": "markdown",
   "metadata": {
    "slideshow": {
     "slide_type": "slide"
    }
   },
   "source": [
    "## CPU and Memory Usage"
   ]
  },
  {
   "cell_type": "code",
   "execution_count": null,
   "metadata": {
    "slideshow": {
     "slide_type": "subslide"
    }
   },
   "outputs": [],
   "source": [
    "stats.stop()\n",
    "stats_df = pd.DataFrame({'cpu': stats.cpu_usage, 'memory': stats.memory_usage}, index=stats.datetime)\n",
    "fig = plt.figure()\n",
    "axes = fig.add_subplot()\n",
    "axes.set_title('Resource Monitor')\n",
    "axes.set_xlabel('Time')\n",
    "axes.set_ylabel('Usage [%]')\n",
    "sns.lineplot(data=stats_df, ax=axes)\n",
    "monitor_plot_path = output_tmpdir_path.joinpath('data/outputs/monitor.png')\n",
    "fig.savefig(monitor_plot_path)\n",
    "plt.close(fig)"
   ]
  },
  {
   "cell_type": "code",
   "execution_count": null,
   "metadata": {
    "slideshow": {
     "slide_type": "subslide"
    }
   },
   "outputs": [],
   "source": [
    "Image(filename=monitor_plot_path)"
   ]
  },
  {
   "cell_type": "code",
   "execution_count": null,
   "metadata": {
    "slideshow": {
     "slide_type": "skip"
    }
   },
   "outputs": [],
   "source": [
    "shutil.copytree(output_tmpdir_path, output_dir, dirs_exist_ok=True)\n",
    "output_tmpdir.cleanup()"
   ]
  },
  {
   "cell_type": "markdown",
   "metadata": {
    "slideshow": {
     "slide_type": "slide"
    }
   },
   "source": [
    "## Deployment\n",
    "\n",
    "1. SPACK\n",
    "2. PyPi\n",
    "3. Pipenv\n",
    "4. Papermill"
   ]
  },
  {
   "cell_type": "markdown",
   "metadata": {
    "slideshow": {
     "slide_type": "slide"
    }
   },
   "source": [
    "## To Do\n",
    "\n",
    "1. Assemble the calibration package\n",
    "2. Benchmarks"
   ]
  },
  {
   "cell_type": "markdown",
   "metadata": {
    "slideshow": {
     "slide_type": "subslide"
    }
   },
   "source": [
    "## Further developments\n",
    "\n",
    "1. Ray Tune + Nevergrad (multinode)?\n",
    "2. Multinode SA with Ray?\n",
    "3. Inoculate information from SA into optimizer?\n",
    "4. IO optimizations?\n",
    "5. BFGS after global optimization?\n",
    "6. Parameters clustering?"
   ]
  },
  {
   "cell_type": "markdown",
   "metadata": {
    "slideshow": {
     "slide_type": "slide"
    }
   },
   "source": [
    "## Acknowledgments\n",
    "\n",
    "The research reported in this work will be supported by OGS, Eurac and CINECA under HPC-TRES program award number 2019-33"
   ]
  }
 ],
 "metadata": {
  "celltoolbar": "Slideshow",
  "kernelspec": {
   "display_name": "Python 3",
   "language": "python",
   "name": "python3"
  },
  "language_info": {
   "codemirror_mode": {
    "name": "ipython",
    "version": 3
   },
   "file_extension": ".py",
   "mimetype": "text/x-python",
   "name": "python",
   "nbconvert_exporter": "python",
   "pygments_lexer": "ipython3",
   "version": "3.8.5"
  },
  "livereveal": {
   "scroll": "True"
  }
 },
 "nbformat": 4,
 "nbformat_minor": 4
}
