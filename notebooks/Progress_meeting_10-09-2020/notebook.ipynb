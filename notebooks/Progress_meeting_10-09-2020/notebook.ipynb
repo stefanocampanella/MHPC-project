{
 "cells": [
  {
   "cell_type": "code",
   "execution_count": 1,
   "metadata": {
    "slideshow": {
     "slide_type": "skip"
    }
   },
   "outputs": [
    {
     "name": "stderr",
     "output_type": "stream",
     "text": [
      "/home/max/.local/share/virtualenvs/MHPC-project-WaUKRq_w/lib/python3.8/site-packages/geotopy/__init__.py:35: RuntimeWarning: Default GEOTop executable not found, check your installation\n",
      "  warnings.warn(\"Default GEOTop executable not found, check your installation\",\n"
     ]
    }
   ],
   "source": [
    "import os\n",
    "import tempfile\n",
    "import subprocess\n",
    "from datetime import datetime\n",
    "\n",
    "from concurrent.futures import ProcessPoolExecutor\n",
    "from multiprocessing import Pool\n",
    "from collections.abc import Mapping\n",
    "\n",
    "import numpy as np\n",
    "import pandas as pd\n",
    "\n",
    "import matplotlib.pyplot as plt\n",
    "import matplotlib.ticker as mtick\n",
    "import seaborn as sns\n",
    "sns.set(rc={'figure.figsize': (15, 10), 'figure.dpi' : 100})\n",
    "\n",
    "import nevergrad as ng\n",
    "from SALib.sample import saltelli\n",
    "from SALib.analyze import sobol\n",
    "import geotopy as gtp"
   ]
  },
  {
   "cell_type": "code",
   "execution_count": 2,
   "metadata": {
    "slideshow": {
     "slide_type": "skip"
    }
   },
   "outputs": [],
   "source": [
    "# Defaults\n",
    "\n",
    "# System settings\n",
    "systmpfs = '/tmp'\n",
    "\n",
    "# Optimizer settings\n",
    "num_workers = 2\n",
    "budget = 16\n",
    "algorithm = 'OnePlusOne'\n",
    "timeout = 60"
   ]
  },
  {
   "cell_type": "markdown",
   "metadata": {
    "slideshow": {
     "slide_type": "slide"
    }
   },
   "source": [
    "# High-Performance Derivative-Free Optimization for the GE🌍top Model Calibration\n",
    "\n",
    "### Stefano Campanella\n",
    "\n",
    "#### Giacomo Bertoldi, Alberto Sartori, Emanuele Cordano"
   ]
  },
  {
   "cell_type": "markdown",
   "metadata": {
    "slideshow": {
     "slide_type": "slide"
    }
   },
   "source": [
    "## GEOtop Calibration\n",
    "\n",
    "GEOtop is a physical model that simulates the heat and water budgets at and below the soil surface. \n",
    "\n",
    "Some inputs are unknown/uncertain: find the values such that the ouputs better reproduce the experimental data.\n",
    "\n",
    "Case study: LTSER sites in Val di Mazia, Alto Adige"
   ]
  },
  {
   "cell_type": "markdown",
   "metadata": {
    "slideshow": {
     "slide_type": "subslide"
    }
   },
   "source": [
    "## Challenges\n",
    "\n",
    "1. Many parameters \n",
    "2. No good prior\n",
    "3. Time consuming simulations\n",
    "\n",
    "<span class=fragment>**Parallel Derivative-free heuristic algorithms are the only option**</span>"
   ]
  },
  {
   "cell_type": "markdown",
   "metadata": {
    "slideshow": {
     "slide_type": "slide"
    }
   },
   "source": [
    "Some points to keep in mind:\n",
    "\n",
    "* Community of scientists, not HPC experts nor programmers\n",
    "* Wide range of use cases and applications\n",
    "* Calibration is CPU bounded\n",
    "* For these algorithms, <span class=\"fragment highlight-red\">scaling can be a tricky subject</span>"
   ]
  },
  {
   "cell_type": "markdown",
   "metadata": {
    "slideshow": {
     "slide_type": "slide"
    }
   },
   "source": [
    "Consider genetic algorithms/PSO.\n",
    "\n",
    "<span class=fragment>Increasing the number of phenotypes/particles increases the coverage of the parameters space in each generation/iteration, but the principle of operation of these algorithms lies in the correlation between one generation/iteration and the next.</span>\n",
    "\n",
    "<span class=fragment>Hence, scaling must take into account that cutting the time to solution by increasing the number of processing units and decreasing the number of iterations can lead to worse results.</span>"
   ]
  },
  {
   "cell_type": "markdown",
   "metadata": {
    "slideshow": {
     "slide_type": "slide"
    }
   },
   "source": [
    "## The Goal\n",
    "\n",
    "1. Write a reusable calibration tool, with a simple yet general enough interface\n",
    "2. Make it easily deployable on HPC systems\n",
    "3. Perform the optimization and analysis on the case study\n",
    "4. Benchmark algorithms, objective functions, and hyperparameters"
   ]
  },
  {
   "cell_type": "markdown",
   "metadata": {
    "slideshow": {
     "slide_type": "subslide"
    }
   },
   "source": [
    "## Constraints\n",
    "\n",
    "1. 1D simulations\n",
    "2. Only scalar parameters (however, the framework allows more complex scenarios) \n",
    "3. No multi-objective (multiple targets must be squashed into a single one)"
   ]
  },
  {
   "cell_type": "markdown",
   "metadata": {
    "slideshow": {
     "slide_type": "slide"
    }
   },
   "source": [
    "## Approach/Design Choices\n",
    "\n",
    "* Python: simple language, good tooling e wide adoption in scientific computing community.\n",
    "* Do not reinvent the wheel (use standard libraries as much as possible, otherwise third party libraries).\n",
    "* Modularity, encapsulation and referential transparency.\n",
    "* Emphasis on documentation and reproducibility."
   ]
  },
  {
   "cell_type": "markdown",
   "metadata": {
    "slideshow": {
     "slide_type": "slide"
    }
   },
   "source": [
    "## What has been done\n",
    "\n",
    "<ol>\n",
    "    <li class=fragment>Preliminary analysis of the case study and visualization</li>\n",
    "    <li class=fragment>GEOtoPy: A wrapper based on IO and keywords</li>\n",
    "    <li class=fragment>Prototype of calibration with Nevergrad and SA with SALib</li>\n",
    "    <li class=fragment>Deployment on Ulysses, now moving to VSC-4</li>\n",
    "</ol>"
   ]
  },
  {
   "cell_type": "markdown",
   "metadata": {
    "slideshow": {
     "slide_type": "slide"
    }
   },
   "source": [
    "## GEOtop IO scheme"
   ]
  },
  {
   "cell_type": "markdown",
   "metadata": {
    "slideshow": {
     "slide_type": "slide"
    }
   },
   "source": [
    "## GEOtoPy\n",
    "\n",
    "![](data/assets/geotopy.svg)"
   ]
  },
  {
   "cell_type": "code",
   "execution_count": 3,
   "metadata": {
    "slideshow": {
     "slide_type": "skip"
    }
   },
   "outputs": [],
   "source": [
    "class GEOtopExampleRun(gtp.GEOtop):\n",
    "\n",
    "    def preprocess(self, working_dir, *args, **kwargs):\n",
    "\n",
    "        settings = kwargs\n",
    "        \n",
    "        geotop_inpts_src = os.path.join(self.inputs_dir, 'geotop.inpts')\n",
    "        geotop_inpts_dest = os.path.join(working_dir, 'geotop.inpts')\n",
    "        os.remove(geotop_inpts_dest)\n",
    "        \n",
    "        with open(geotop_inpts_src, 'r') as src, open(geotop_inpts_dest, 'w') as geotop_inpts:\n",
    "            geotop_inpts.write(f\"! GEOtop input file written by GEOtoPy on {datetime.now()}\\n\")\n",
    "            while line := src.readline():\n",
    "                if gtp._comment_re.match(line):\n",
    "                    geotop_inpts.write(line)\n",
    "                else:\n",
    "                    try:\n",
    "                        key, value = gtp.read_setting(line)\n",
    "                        if key in settings:\n",
    "                            new_setting = gtp.print_setting(key, settings[key])\n",
    "                            geotop_inpts.write(f\"! {key} overwritten by GEOtoPy, was {value}\\n\")\n",
    "                            geotop_inpts.write(new_setting)\n",
    "                            del settings[key]\n",
    "                        else:\n",
    "                            geotop_inpts.write(gtp.print_setting(key, value))\n",
    "                    except ValueError as err:\n",
    "                        geotop_inpts.write(f\"! ERROR: {err}\")\n",
    "                        geotop_inpts.write(line)\n",
    "            \n",
    "            if settings:\n",
    "                geotop_inpts.write(\"\\n! Settings added by GEOtoPy\\n\")\n",
    "                for key, value in settings.items():\n",
    "                    try:\n",
    "                        geotop_inpts.write(gtp.print_setting(key, value))\n",
    "                    except ValueError as err:\n",
    "                        geotop_inpts.write(f\"! ERROR: {err}\")\n",
    "                            \n",
    "        \n",
    "    def postprocess(self, working_dir):\n",
    "        \n",
    "        liq_path = os.path.join(working_dir, 'theta_liq.txt')\n",
    "        liq = pd.read_csv(liq_path, \n",
    "                          na_values=['-9999'],\n",
    "                          usecols=[0, 6, 7], \n",
    "                          skiprows=1,\n",
    "                          header=0, \n",
    "                          names=['date', 'soil_moisture_content_50', 'soil_moisture_content_200'],\n",
    "                          parse_dates=True, \n",
    "                          infer_datetime_format=True,\n",
    "                          index_col=0)\n",
    "        \n",
    "        ice_path = os.path.join(working_dir, 'theta_ice.txt')\n",
    "        ice = pd.read_csv(ice_path, \n",
    "                          na_values=['-9999'], \n",
    "                          usecols=[0, 6, 7], \n",
    "                          skiprows=1,\n",
    "                          header=0, \n",
    "                          names=['date', 'soil_moisture_content_50', 'soil_moisture_content_200'],\n",
    "                          parse_dates=True, \n",
    "                          infer_datetime_format=True,\n",
    "                          index_col=0)\n",
    "        \n",
    "        sim = ice + liq\n",
    "        \n",
    "        return sim"
   ]
  },
  {
   "cell_type": "code",
   "execution_count": 4,
   "metadata": {
    "slideshow": {
     "slide_type": "skip"
    }
   },
   "outputs": [],
   "source": [
    "class observations(Mapping):\n",
    "    \n",
    "    def __init__(self, path):\n",
    "        \n",
    "        self.data = pd.read_csv(path, \n",
    "                                na_values=['-9999'], \n",
    "                                parse_dates=True, \n",
    "                                infer_datetime_format=True,\n",
    "                                index_col=0)\n",
    "        \n",
    "        self.data.index.rename('date', inplace=True)\n",
    "        \n",
    "        self.squared_mean = (self.data * self.data).mean()\n",
    "        \n",
    "    def __getitem__(self, key):\n",
    "        \n",
    "        return self.data[key]\n",
    "\n",
    "    def __len__(self):\n",
    "        \n",
    "        return len(self.data)\n",
    "\n",
    "    def __iter__(self):\n",
    "        \n",
    "        return iter(self.data)\n",
    "\n",
    "    def compare(self, target, simulation, periods=None, name=None, unit=None, rel=False):\n",
    "\n",
    "        if not periods:\n",
    "            periods = {'Daily': 'D', 'Weekly': 'W', 'Monthly': 'M'}\n",
    "\n",
    "        fig, axes = plt.subplots(ncols=3, \n",
    "                                 nrows=len(periods), \n",
    "                                 constrained_layout=True)\n",
    "\n",
    "        if name:\n",
    "            fig.suptitle(name)\n",
    "\n",
    "        for i, (Tstr, T) in enumerate(periods.items()):\n",
    "            comp_plot, diff_plot, hist_plot = axes[i, :]\n",
    "            \n",
    "            obs_resampled = self[target].resample(T).mean()\n",
    "            sim_resampled = simulation[target].resample(T).mean()\n",
    "\n",
    "            err = obs_resampled - sim_resampled        \n",
    "            if rel:\n",
    "                err = err / obs_resampled.abs()\n",
    "\n",
    "            data = pd.DataFrame({'Observations': obs_resampled, 'Simulation': sim_resampled})\n",
    "            sns.lineplot(data=data, ax=comp_plot)\n",
    "            comp_plot.set_title(Tstr)\n",
    "            comp_plot.set_xlabel(\"\")\n",
    "            if unit:\n",
    "                comp_plot.set_ylabel(f'[{unit}]')\n",
    "\n",
    "            sns.lineplot(data=err, ax=diff_plot)\n",
    "            plt.setp(diff_plot.get_xticklabels(), rotation=20)\n",
    "            if rel:\n",
    "                diff_plot.set_ylabel(f'Relative error')\n",
    "                diff_plot.yaxis.set_major_formatter(mtick.PercentFormatter(xmax=1.0))\n",
    "            elif unit:\n",
    "                diff_plot.set_ylabel(f'Error [{unit}]')\n",
    "            else:\n",
    "                diff_plot.set_ylabel(f'Error')\n",
    "\n",
    "            sns.distplot(err, rug=True, vertical=True, hist=True, ax=hist_plot)\n",
    "            y1, y2 = diff_plot.get_ylim()\n",
    "            hist_plot.set_ylim(y1,y2)\n",
    "            hist_plot.set_yticklabels([])\n",
    "            hist_plot.set_ylabel(\"\")\n",
    "        \n",
    "        return fig\n",
    "    \n",
    "    def metric(self, target, simulation):\n",
    "\n",
    "        diff = (self[target] - simulation[target])\n",
    "        diff_squared = diff * diff\n",
    "\n",
    "        return np.sqrt(diff_squared.mean() / self.squared_mean[target])"
   ]
  },
  {
   "cell_type": "code",
   "execution_count": 5,
   "metadata": {
    "slideshow": {
     "slide_type": "slide"
    }
   },
   "outputs": [
    {
     "name": "stderr",
     "output_type": "stream",
     "text": [
      "INFO:numexpr.utils:NumExpr defaulting to 4 threads.\n"
     ]
    }
   ],
   "source": [
    "model = GEOtopExampleRun('data/inputs/run',\n",
    "                         exe='../../geotop/build/geotop',\n",
    "                         run_args={'check': True, \n",
    "                                   'capture_output': True, \n",
    "                                   'timeout': timeout})\n",
    "\n",
    "obs = observations('data/inputs/obs.csv')"
   ]
  },
  {
   "cell_type": "code",
   "execution_count": 6,
   "metadata": {
    "slideshow": {
     "slide_type": "slide"
    }
   },
   "outputs": [
    {
     "name": "stdout",
     "output_type": "stream",
     "text": [
      "Before optimization loss is 0.20770137763934485\n"
     ]
    }
   ],
   "source": [
    "with tempfile.TemporaryDirectory() as tmpdir:\n",
    "    sim = model.eval(tmpdir)\n",
    "    print(f\"Before optimization loss is {obs.metric('soil_moisture_content_50', sim)}\")\n",
    "    fig = obs.compare('soil_moisture_content_50', sim, name=\"Soil moisture content @ 50 mm\", rel=True)\n",
    "    fig.savefig('data/outputs/before.png')\n",
    "    plt.close(fig)"
   ]
  },
  {
   "cell_type": "markdown",
   "metadata": {
    "slideshow": {
     "slide_type": "subslide"
    }
   },
   "source": [
    "![](data/outputs/before.png)"
   ]
  },
  {
   "cell_type": "markdown",
   "metadata": {
    "slideshow": {
     "slide_type": "slide"
    }
   },
   "source": [
    "## Example of Sensitivity Analysis"
   ]
  },
  {
   "cell_type": "code",
   "execution_count": 7,
   "metadata": {
    "slideshow": {
     "slide_type": "subslide"
    }
   },
   "outputs": [],
   "source": [
    "def loss(*args, **kwargs): \n",
    "        \n",
    "    with tempfile.TemporaryDirectory(dir=systmpfs) as tmpdir:\n",
    "        try:\n",
    "            sim = model.eval(tmpdir, *args, **kwargs)\n",
    "        except subprocess.CalledProcessError:\n",
    "            return np.nan\n",
    "        except subprocess.TimeoutExpired:\n",
    "            return np.nan\n",
    "\n",
    "    return obs.metric('soil_moisture_content_50', sim)"
   ]
  },
  {
   "cell_type": "code",
   "execution_count": 8,
   "metadata": {
    "slideshow": {
     "slide_type": "subslide"
    }
   },
   "outputs": [],
   "source": [
    "def loss_SA_wrapper(kwargs):\n",
    "    return loss(**kwargs)\n",
    "\n",
    "problem = {'num_vars': 2,\n",
    "           'names': ['ThetaRes', 'ThetaSat'],\n",
    "           'bounds': [[0.0, 0.3], [0.4, 1.0]]}\n",
    "\n",
    "samples = saltelli.sample(problem, 2)\n",
    "\n",
    "settings = [{key: val for key, val in zip(problem['names'], values)} \n",
    "            for values in samples]\n",
    "\n",
    "with Pool(processes=num_workers) as pool:\n",
    "    losses = pool.map(loss_SA_wrapper, settings)"
   ]
  },
  {
   "cell_type": "code",
   "execution_count": 9,
   "metadata": {
    "slideshow": {
     "slide_type": "subslide"
    }
   },
   "outputs": [
    {
     "name": "stdout",
     "output_type": "stream",
     "text": [
      "Parameter S1 S1_conf ST ST_conf\n",
      "ThetaRes -0.117488 0.446715 0.046895 0.008349\n",
      "ThetaSat 2.286755 0.108141 2.404701 1.222927\n",
      "\n",
      "Parameter_1 Parameter_2 S2 S2_conf\n",
      "ThetaRes ThetaSat 0.390094 0.319298\n"
     ]
    }
   ],
   "source": [
    "sobol.analyze(problem, np.array(losses), print_to_console=True);"
   ]
  },
  {
   "cell_type": "markdown",
   "metadata": {
    "slideshow": {
     "slide_type": "slide"
    }
   },
   "source": [
    "## Example of Calibration"
   ]
  },
  {
   "cell_type": "code",
   "execution_count": 10,
   "metadata": {
    "slideshow": {
     "slide_type": "subslide"
    }
   },
   "outputs": [],
   "source": [
    "parameters = ng.p.Instrumentation(ThetaRes=ng.p.Scalar(lower=0.0, upper=0.3),\n",
    "                                  ThetaSat=ng.p.Scalar(lower=0.3, upper=1.0))\n",
    "\n",
    "optimizer = ng.optimizers.registry[algorithm](parametrization=parameters, \n",
    "                                              budget=budget, \n",
    "                                              num_workers=num_workers)\n",
    "\n",
    "with ProcessPoolExecutor(max_workers=optimizer.num_workers) as executor:\n",
    "    recommendation = optimizer.minimize(loss, \n",
    "                                        executor=executor, \n",
    "                                        batch_mode=False)"
   ]
  },
  {
   "cell_type": "code",
   "execution_count": 11,
   "metadata": {
    "slideshow": {
     "slide_type": "subslide"
    }
   },
   "outputs": [
    {
     "name": "stdout",
     "output_type": "stream",
     "text": [
      "Recommended value is: {'ThetaRes': 0.14515087014241174, 'ThetaSat': 0.43681851195135174}\n",
      "After optimization loss is: 0.19726593860843625\n"
     ]
    }
   ],
   "source": [
    "with tempfile.TemporaryDirectory() as tmpdir:\n",
    "    print(f\"Recommended value is: {recommendation.kwargs}\")\n",
    "    print(f\"After optimization loss is: {recommendation.loss}\")\n",
    "    sim = model.eval(tmpdir, **recommendation.kwargs)\n",
    "    fig = obs.compare('soil_moisture_content_50', sim, name=f\"Soil moisture content @ 50mm\", rel=True)\n",
    "    fig.savefig('data/outputs/after.png')\n",
    "    plt.close(fig)"
   ]
  },
  {
   "cell_type": "markdown",
   "metadata": {
    "slideshow": {
     "slide_type": "subslide"
    }
   },
   "source": [
    "![](data/outputs/after.png)"
   ]
  },
  {
   "cell_type": "markdown",
   "metadata": {
    "slideshow": {
     "slide_type": "slide"
    }
   },
   "source": [
    "## Deployment\n",
    "\n",
    "1. SPACK\n",
    "2. PyPi\n",
    "3. Pipenv\n",
    "4. Papermill"
   ]
  },
  {
   "cell_type": "markdown",
   "metadata": {
    "slideshow": {
     "slide_type": "slide"
    }
   },
   "source": [
    "## To Do\n",
    "\n",
    "1. Assemble the calibration package\n",
    "2. Benchmarks"
   ]
  },
  {
   "cell_type": "markdown",
   "metadata": {
    "slideshow": {
     "slide_type": "subslide"
    }
   },
   "source": [
    "## Further developments\n",
    "\n",
    "1. Ray Tune + Nevergrad (multinode)?\n",
    "2. Multinode SA with Ray?\n",
    "3. Inoculate information from SA into optimizer?\n",
    "4. IO optimizations?\n",
    "5. BFGS after global optimization?\n",
    "6. Parameters clustering?"
   ]
  }
 ],
 "metadata": {
  "celltoolbar": "Slideshow",
  "kernelspec": {
   "display_name": "Python 3",
   "language": "python",
   "name": "python3"
  },
  "language_info": {
   "codemirror_mode": {
    "name": "ipython",
    "version": 3
   },
   "file_extension": ".py",
   "mimetype": "text/x-python",
   "name": "python",
   "nbconvert_exporter": "python",
   "pygments_lexer": "ipython3",
   "version": "3.8.5"
  },
  "livereveal": {
   "scroll": "True"
  }
 },
 "nbformat": 4,
 "nbformat_minor": 4
}
