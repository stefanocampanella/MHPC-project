{
 "cells": [
  {
   "cell_type": "markdown",
   "metadata": {
    "pycharm": {
     "name": "#%% md\n"
    }
   },
   "source": [
    "# Example of Sensitivity Analysis"
   ]
  },
  {
   "cell_type": "code",
   "execution_count": null,
   "metadata": {
    "tags": [
     "parameters"
    ]
   },
   "outputs": [],
   "source": [
    "# Defaults\n",
    "n_samples = 1024 * 21"
   ]
  },
  {
   "cell_type": "code",
   "execution_count": null,
   "metadata": {},
   "outputs": [],
   "source": [
    "from itertools import repeat\n",
    "\n",
    "import numpy as np\n",
    "import pandas as pd\n",
    "\n",
    "import dask.bag as db\n",
    "from dask.distributed import Client\n",
    "from dask_jobqueue import SLURMCluster as Cluster\n",
    "\n",
    "from SALib.sample import latin\n",
    "from SALib.analyze import delta as delta_mim\n",
    "\n",
    "from mhpc_project.parameters import ParametersTable\n",
    "from mhpc_project.calibration import Loss\n",
    "from mhpc_project.models import SMC50\n",
    "from mhpc_project.measures import KGE\n",
    "from mhpc_project.utils import date_parser"
   ]
  },
  {
   "cell_type": "code",
   "execution_count": null,
   "metadata": {
    "collapsed": false,
    "jupyter": {
     "outputs_hidden": false
    },
    "pycharm": {
     "name": "#%%\n"
    }
   },
   "outputs": [],
   "source": [
    "observations = pd.read_csv('../data/Matsch B2/obs.csv',\n",
    "                           na_values=['-9999', '-99.99'],\n",
    "                           usecols=[0, 7],\n",
    "                           parse_dates=[0],\n",
    "                           date_parser=date_parser,\n",
    "                           index_col=0,\n",
    "                           squeeze=True)\n",
    "observations.index.rename('datetime', inplace=True)\n",
    "model = SMC50('../data/Matsch B2/geotop', timeout=120)\n",
    "parameters = ParametersTable.read_csv('../data/Calibration Parameters/testbed.csv')\n",
    "measure = KGE(observations)\n",
    "loss = Loss(model, parameters, measure)"
   ]
  },
  {
   "cell_type": "code",
   "execution_count": null,
   "metadata": {},
   "outputs": [],
   "source": [
    "cluster = Cluster()\n",
    "client = Client(cluster)"
   ]
  },
  {
   "cell_type": "code",
   "execution_count": null,
   "metadata": {
    "collapsed": false,
    "jupyter": {
     "outputs_hidden": false
    },
    "pycharm": {
     "name": "#%%\n"
    }
   },
   "outputs": [],
   "source": [
    "problem = {'num_vars': parameters.num_vars,\n",
    "           'names': parameters.names,\n",
    "           'bounds': list(repeat((0.0, 1.0), parameters.num_vars))}\n",
    "\n",
    "samples = latin.sample(problem, n_samples)"
   ]
  },
  {
   "cell_type": "code",
   "execution_count": null,
   "metadata": {
    "collapsed": false,
    "jupyter": {
     "outputs_hidden": false
    },
    "pycharm": {
     "name": "#%%\n"
    }
   },
   "outputs": [],
   "source": [
    "bag = db.from_sequence(samples, npartitions=512).map(loss)\n",
    "losses = bag.compute()"
   ]
  },
  {
   "cell_type": "code",
   "execution_count": null,
   "metadata": {
    "collapsed": false,
    "jupyter": {
     "outputs_hidden": false
    },
    "pycharm": {
     "name": "#%%\n"
    }
   },
   "outputs": [],
   "source": [
    "SA = delta_mim.analyze(problem, samples, losses)\n",
    "SA.to_df().sort_values('delta', key=np.abs, ascending=False)"
   ]
  }
 ],
 "metadata": {
  "kernelspec": {
   "display_name": "Python 3",
   "language": "python",
   "name": "python3"
  },
  "language_info": {
   "codemirror_mode": {
    "name": "ipython",
    "version": 3
   },
   "file_extension": ".py",
   "mimetype": "text/x-python",
   "name": "python",
   "nbconvert_exporter": "python",
   "pygments_lexer": "ipython3",
   "version": "3.9.0"
  }
 },
 "nbformat": 4,
 "nbformat_minor": 4
}