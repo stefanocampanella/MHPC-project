{
 "cells": [
  {
   "cell_type": "code",
   "execution_count": null,
   "metadata": {
    "tags": [
     "parameters"
    ]
   },
   "outputs": [],
   "source": [
    "# Defaults\n",
    "\n",
    "# System settings\n",
    "systmpfs = '/tmp'\n",
    "\n",
    "# SA settings\n",
    "num_workers = 2\n",
    "timeout = 30\n",
    "SASampleN = 2 # Nsamples = N x (2D + 2)\n",
    "target = 'soil_moisture_content_50'"
   ]
  },
  {
   "cell_type": "code",
   "execution_count": null,
   "metadata": {},
   "outputs": [],
   "source": [
    "from subprocess import CalledProcessError, TimeoutExpired\n",
    "from tempfile import TemporaryDirectory\n",
    "from concurrent.futures import ProcessPoolExecutor\n",
    "\n",
    "import numpy as np\n",
    "import pandas as pd\n",
    "import matplotlib.pyplot as plt\n",
    "import seaborn as sns\n",
    "\n",
    "from SALib.sample import saltelli\n",
    "from SALib.analyze import sobol\n",
    "\n",
    "from common import observations, GEOtopRun"
   ]
  },
  {
   "cell_type": "code",
   "execution_count": null,
   "metadata": {},
   "outputs": [],
   "source": [
    "class GEOtopRunLogVars(GEOtopRun):\n",
    "    \n",
    "    def preprocess(self, working_dir, *args, **kwargs):\n",
    "        \n",
    "        for key, value in kwargs.items():\n",
    "            if variables.type[key] == 'log':\n",
    "                kwargs[key] = 10 ** value\n",
    "                \n",
    "        super().preprocess(working_dir, *args, **kwargs)"
   ]
  },
  {
   "cell_type": "code",
   "execution_count": null,
   "metadata": {},
   "outputs": [],
   "source": [
    "model = GEOtopRunLogVars('inputs/Matsch_B2/run',\n",
    "                         exe='../geotop/build/geotop',\n",
    "                         run_args={'check': True, \n",
    "                                   'capture_output': True, \n",
    "                                   'timeout': timeout})\n",
    "\n",
    "obs = observations('inputs/Matsch_B2/obs.csv')\n",
    "\n",
    "variables = pd.read_csv('inputs/Matsch_B2/variables.csv', index_col='name')"
   ]
  },
  {
   "cell_type": "code",
   "execution_count": null,
   "metadata": {},
   "outputs": [],
   "source": [
    "def loss_function(*args, **kwargs):\n",
    "\n",
    "    with TemporaryDirectory(dir=systmpfs) as tmpdir:\n",
    "        try:\n",
    "            sim = model.eval(tmpdir, *args, **kwargs)\n",
    "        except CalledProcessError:\n",
    "            return np.nan\n",
    "        except TimeoutExpired:\n",
    "            return np.nan\n",
    "\n",
    "    return obs.metric(target, sim) # < (y_obs - y_sim)^2 > / < y_obs^2  >"
   ]
  },
  {
   "cell_type": "code",
   "execution_count": null,
   "metadata": {},
   "outputs": [],
   "source": [
    "def SA_loss(xs):\n",
    "         \n",
    "    return loss_function(**dict(zip(variables.index, xs)))\n",
    "\n",
    "problem = {'num_vars': variables.shape[0],\n",
    "           'names': variables.index,\n",
    "           'bounds': list(zip(variables.lower, variables.upper))}\n",
    "\n",
    "samples = saltelli.sample(problem, SASampleN, calc_second_order=True)\n",
    "\n",
    "with ProcessPoolExecutor(max_workers=num_workers) as executor:\n",
    "    losses = np.fromiter(executor.map(SA_loss, samples), dtype=float)"
   ]
  },
  {
   "cell_type": "code",
   "execution_count": null,
   "metadata": {},
   "outputs": [],
   "source": [
    "SA = sobol.analyze(problem, losses, calc_second_order=True, parallel=True, n_processors=num_workers);"
   ]
  },
  {
   "cell_type": "code",
   "execution_count": null,
   "metadata": {},
   "outputs": [],
   "source": [
    "S1 = pd.DataFrame({key: value for key, value in SA.items() if key not in ['S2', 'S2_conf']}, index=problem['names'])\n",
    "S1.sort_values('S1', key=np.abs, ascending=False)"
   ]
  },
  {
   "cell_type": "code",
   "execution_count": null,
   "metadata": {},
   "outputs": [],
   "source": [
    "S2 = SA['S2'].copy()\n",
    "for i in range(S2.shape[0]):\n",
    "    for j in range(i):\n",
    "        S2[i,j] = S2[j,i]\n",
    "        \n",
    "f, ax = plt.subplots(figsize=(16, 9), dpi=100)\n",
    "sns.heatmap(S2, \n",
    "            xticklabels=variables.index, \n",
    "            yticklabels=variables.index, \n",
    "            annot=True, \n",
    "            fmt='.3f', \n",
    "            linewidths=0.1, \n",
    "            linecolor='grey', \n",
    "            ax=ax)"
   ]
  }
 ],
 "metadata": {
  "kernelspec": {
   "display_name": "Python 3",
   "language": "python",
   "name": "python3"
  },
  "language_info": {
   "codemirror_mode": {
    "name": "ipython",
    "version": 3
   },
   "file_extension": ".py",
   "mimetype": "text/x-python",
   "name": "python",
   "nbconvert_exporter": "python",
   "pygments_lexer": "ipython3",
   "version": "3.8.5"
  }
 },
 "nbformat": 4,
 "nbformat_minor": 4
}
