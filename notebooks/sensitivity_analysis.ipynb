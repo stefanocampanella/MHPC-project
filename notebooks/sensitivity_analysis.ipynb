{
 "cells": [
  {
   "cell_type": "markdown",
   "id": "difficult-copying",
   "metadata": {},
   "source": [
    "# Aggregated Sensitivity Analysis"
   ]
  },
  {
   "cell_type": "code",
   "execution_count": null,
   "id": "enclosed-apache",
   "metadata": {
    "collapsed": false,
    "jupyter": {
     "outputs_hidden": false
    },
    "pycharm": {
     "name": "#%%\n"
    },
    "tags": [
     "parameters"
    ]
   },
   "outputs": [],
   "source": [
    "# Defaults\n",
    "parameters_path = '../data/parameters/testbed.csv'\n",
    "default_parameters = {}\n",
    "book_paths = ['../runs/strong_scaling', '../runs/weak_scaling']"
   ]
  },
  {
   "cell_type": "code",
   "execution_count": 39,
   "id": "declared-freeware",
   "metadata": {},
   "outputs": [],
   "source": [
    "import scrapbook as sb\n",
    "import numpy as np\n",
    "from mhpc_project.utils import notebook_status, delta_mim\n",
    "from mhpc_project.parameters import UniformSoilParameters as Parameters\n",
    "from itertools import chain"
   ]
  },
  {
   "cell_type": "code",
   "execution_count": null,
   "id": "linear-riverside",
   "metadata": {
    "collapsed": false,
    "jupyter": {
     "outputs_hidden": false
    },
    "pycharm": {
     "name": "#%%\n"
    }
   },
   "outputs": [],
   "source": [
    "parameters = Parameters(parameters_path, default_parameters)\n",
    "book = chain(sb.read_notebooks(where) for where in book_paths)"
   ]
  },
  {
   "cell_type": "code",
   "execution_count": 62,
   "id": "outside-swiss",
   "metadata": {},
   "outputs": [],
   "source": [
    "data = []\n",
    "times = []\n",
    "for book in book:\n",
    "    for filename, nb in book.items():\n",
    "        if notebook_status(nb) == 'completed': \n",
    "            log = nb.scraps['log'].data\n",
    "            data.extend((x, l) for (_, x), l, _ in log if l != 'nan')\n"
   ]
  },
  {
   "cell_type": "code",
   "execution_count": 32,
   "id": "electric-battle",
   "metadata": {},
   "outputs": [],
   "source": [
    "sa = delta_mim(parameters, data)"
   ]
  },
  {
   "cell_type": "code",
   "execution_count": 34,
   "id": "honey-fight",
   "metadata": {
    "pycharm": {
     "name": "#%%\n"
    }
   },
   "outputs": [
    {
     "data": {
      "text/html": [
       "<div>\n",
       "<style scoped>\n",
       "    .dataframe tbody tr th:only-of-type {\n",
       "        vertical-align: middle;\n",
       "    }\n",
       "\n",
       "    .dataframe tbody tr th {\n",
       "        vertical-align: top;\n",
       "    }\n",
       "\n",
       "    .dataframe thead th {\n",
       "        text-align: right;\n",
       "    }\n",
       "</style>\n",
       "<table border=\"1\" class=\"dataframe\">\n",
       "  <thead>\n",
       "    <tr style=\"text-align: right;\">\n",
       "      <th></th>\n",
       "      <th>delta</th>\n",
       "      <th>delta_conf</th>\n",
       "      <th>S1</th>\n",
       "      <th>S1_conf</th>\n",
       "    </tr>\n",
       "  </thead>\n",
       "  <tbody>\n",
       "    <tr>\n",
       "      <th>NVanGenuchten</th>\n",
       "      <td>0.251726</td>\n",
       "      <td>0.003981</td>\n",
       "      <td>0.417480</td>\n",
       "      <td>0.010034</td>\n",
       "    </tr>\n",
       "    <tr>\n",
       "      <th>RootDepth</th>\n",
       "      <td>0.167254</td>\n",
       "      <td>0.003334</td>\n",
       "      <td>0.212582</td>\n",
       "      <td>0.006860</td>\n",
       "    </tr>\n",
       "    <tr>\n",
       "      <th>ThetaSat</th>\n",
       "      <td>0.145829</td>\n",
       "      <td>0.003234</td>\n",
       "      <td>0.107025</td>\n",
       "      <td>0.005734</td>\n",
       "    </tr>\n",
       "    <tr>\n",
       "      <th>ThetaRes</th>\n",
       "      <td>0.135547</td>\n",
       "      <td>0.003290</td>\n",
       "      <td>0.119160</td>\n",
       "      <td>0.005671</td>\n",
       "    </tr>\n",
       "    <tr>\n",
       "      <th>AlphaVanGenuchten</th>\n",
       "      <td>0.089497</td>\n",
       "      <td>0.003548</td>\n",
       "      <td>0.042633</td>\n",
       "      <td>0.003162</td>\n",
       "    </tr>\n",
       "    <tr>\n",
       "      <th>WiltingPoint</th>\n",
       "      <td>0.086081</td>\n",
       "      <td>0.003392</td>\n",
       "      <td>0.039383</td>\n",
       "      <td>0.003199</td>\n",
       "    </tr>\n",
       "    <tr>\n",
       "      <th>LSAI</th>\n",
       "      <td>0.080011</td>\n",
       "      <td>0.002476</td>\n",
       "      <td>0.030497</td>\n",
       "      <td>0.003303</td>\n",
       "    </tr>\n",
       "    <tr>\n",
       "      <th>SoilRoughness</th>\n",
       "      <td>0.050154</td>\n",
       "      <td>0.002051</td>\n",
       "      <td>0.006045</td>\n",
       "      <td>0.001508</td>\n",
       "    </tr>\n",
       "    <tr>\n",
       "      <th>FieldCapacity</th>\n",
       "      <td>0.048582</td>\n",
       "      <td>0.002057</td>\n",
       "      <td>0.003846</td>\n",
       "      <td>0.001100</td>\n",
       "    </tr>\n",
       "    <tr>\n",
       "      <th>NormalHydrConductivity</th>\n",
       "      <td>0.046645</td>\n",
       "      <td>0.001714</td>\n",
       "      <td>0.003185</td>\n",
       "      <td>0.001079</td>\n",
       "    </tr>\n",
       "  </tbody>\n",
       "</table>\n",
       "</div>"
      ],
      "text/plain": [
       "                           delta  delta_conf        S1   S1_conf\n",
       "NVanGenuchten           0.251726    0.003981  0.417480  0.010034\n",
       "RootDepth               0.167254    0.003334  0.212582  0.006860\n",
       "ThetaSat                0.145829    0.003234  0.107025  0.005734\n",
       "ThetaRes                0.135547    0.003290  0.119160  0.005671\n",
       "AlphaVanGenuchten       0.089497    0.003548  0.042633  0.003162\n",
       "WiltingPoint            0.086081    0.003392  0.039383  0.003199\n",
       "LSAI                    0.080011    0.002476  0.030497  0.003303\n",
       "SoilRoughness           0.050154    0.002051  0.006045  0.001508\n",
       "FieldCapacity           0.048582    0.002057  0.003846  0.001100\n",
       "NormalHydrConductivity  0.046645    0.001714  0.003185  0.001079"
      ]
     },
     "execution_count": 34,
     "metadata": {},
     "output_type": "execute_result"
    }
   ],
   "source": [
    "sa.sort_values('delta', key=np.abs, ascending=False)"
   ]
  }
 ],
 "metadata": {
  "kernelspec": {
   "display_name": "Python 3",
   "language": "python",
   "name": "python3"
  },
  "language_info": {
   "codemirror_mode": {
    "name": "ipython",
    "version": 3
   },
   "file_extension": ".py",
   "mimetype": "text/x-python",
   "name": "python",
   "nbconvert_exporter": "python",
   "pygments_lexer": "ipython3",
   "version": "3.8.6"
  }
 },
 "nbformat": 4,
 "nbformat_minor": 5
}
