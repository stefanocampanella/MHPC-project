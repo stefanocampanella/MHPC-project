{
 "cells": [
  {
   "cell_type": "code",
   "execution_count": null,
   "metadata": {
    "tags": [
     "parameters"
    ]
   },
   "outputs": [],
   "source": [
    "# Defaults\n",
    "SASampleN = 256 # Nsamples = N x (2D + 2)"
   ]
  },
  {
   "cell_type": "code",
   "execution_count": null,
   "metadata": {},
   "outputs": [],
   "source": [
    "import pandas as pd\n",
    "import seaborn as sns\n",
    "import matplotlib.pyplot as plt\n",
    "\n",
    "from dask.distributed import SLURMCluster, Client\n",
    "from joblib import Parallel, delayed, parallel_backend\n",
    "from SALib.sample import saltelli\n",
    "from SALib.analyze import sobol\n",
    "\n",
    "from calibrations.matsch_b2 import loss, variables"
   ]
  },
  {
   "cell_type": "code",
   "execution_count": null,
   "metadata": {},
   "outputs": [],
   "source": [
    "cluster = SLURMCluster()\n",
    "cluster.scale(cores=SASampleN)\n",
    "\n",
    "client = Client(cluster)"
   ]
  },
  {
   "cell_type": "code",
   "execution_count": null,
   "metadata": {},
   "outputs": [],
   "source": [
    "def SA_loss(xs):\n",
    "         \n",
    "    return loss_function(**dict(zip(variables.index, xs)))\n",
    "\n",
    "problem = {'num_vars': variables.shape[0],\n",
    "           'names': variables.index,\n",
    "           'bounds': list(zip(variables.lower, variables.upper))}\n",
    "\n",
    "samples = saltelli.sample(problem, SASampleN, calc_second_order=True)"
   ]
  },
  {
   "cell_type": "code",
   "execution_count": null,
   "metadata": {},
   "outputs": [],
   "source": [
    "with parallel_backend('dask'):\n",
    "    losses = np.fromiter(Parallel(verbose=10)(delayed(SA_loss)(x) for x in samples), dtype=float)"
   ]
  },
  {
   "cell_type": "code",
   "execution_count": null,
   "metadata": {},
   "outputs": [],
   "source": [
    "SA = sobol.analyze(problem, losses, calc_second_order=True, parallel=True);"
   ]
  },
  {
   "cell_type": "code",
   "execution_count": null,
   "metadata": {},
   "outputs": [],
   "source": [
    "S1 = pd.DataFrame({key: value for key, value in SA.items() if key not in ['S2', 'S2_conf']}, index=problem['names'])\n",
    "S1.sort_values('S1', key=np.abs, ascending=False)"
   ]
  },
  {
   "cell_type": "code",
   "execution_count": null,
   "metadata": {},
   "outputs": [],
   "source": [
    "S2 = SA['S2'].copy()\n",
    "for i in range(S2.shape[0]):\n",
    "    for j in range(i):\n",
    "        S2[i,j] = S2[j,i]\n",
    "        \n",
    "f, ax = plt.subplots(figsize=(16, 9), dpi=100)\n",
    "sns.heatmap(S2, \n",
    "            xticklabels=variables.index, \n",
    "            yticklabels=variables.index, \n",
    "            annot=True, \n",
    "            fmt='.3f', \n",
    "            linewidths=0.1, \n",
    "            linecolor='grey', \n",
    "            ax=ax)"
   ]
  }
 ],
 "metadata": {
  "kernelspec": {
   "display_name": "Python 3",
   "language": "python",
   "name": "python3"
  },
  "language_info": {
   "codemirror_mode": {
    "name": "ipython",
    "version": 3
   },
   "file_extension": ".py",
   "mimetype": "text/x-python",
   "name": "python",
   "nbconvert_exporter": "python",
   "pygments_lexer": "ipython3",
   "version": "3.9.0"
  }
 },
 "nbformat": 4,
 "nbformat_minor": 4
}
