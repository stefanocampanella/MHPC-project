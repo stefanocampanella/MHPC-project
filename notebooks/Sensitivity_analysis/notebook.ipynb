{
 "cells": [
  {
   "cell_type": "code",
   "execution_count": 1,
   "metadata": {},
   "outputs": [],
   "source": [
    "import warnings\n",
    "warnings.filterwarnings('ignore')"
   ]
  },
  {
   "cell_type": "code",
   "execution_count": 2,
   "metadata": {
    "tags": [
     "parameters"
    ]
   },
   "outputs": [],
   "source": [
    "# Defaults\n",
    "\n",
    "# System settings\n",
    "systmpfs = '/tmp'\n",
    "\n",
    "# Optimizer settings\n",
    "num_workers = 2\n",
    "timeout = 60"
   ]
  },
  {
   "cell_type": "code",
   "execution_count": 24,
   "metadata": {},
   "outputs": [],
   "source": [
    "import os\n",
    "import tempfile\n",
    "import subprocess\n",
    "\n",
    "from multiprocessing import Pool\n",
    "\n",
    "import numpy as np\n",
    "import pandas as pd\n",
    "\n",
    "import matplotlib.pyplot as plt\n",
    "import matplotlib.ticker as mtick\n",
    "import seaborn as sns\n",
    "sns.set(rc={'figure.figsize': (15, 10), 'figure.dpi' : 250})\n",
    "\n",
    "import nevergrad as ng\n",
    "from SALib.sample import saltelli\n",
    "from SALib.analyze import sobol\n",
    "import geotopy as gtp"
   ]
  },
  {
   "cell_type": "code",
   "execution_count": 4,
   "metadata": {},
   "outputs": [],
   "source": [
    "class GEOtopSensitivityRun(gtp.GEOtop):\n",
    "\n",
    "    def preprocess(self, working_dir, *args, **kwargs):\n",
    "\n",
    "        settings = {**self.settings, **kwargs}\n",
    "        \n",
    "        geotop_inpts_path = os.path.join(working_dir, 'geotop.inpts')\n",
    "        os.remove(geotop_inpts_path)\n",
    "        with open(geotop_inpts_path, 'w') as geotop_inpts:\n",
    "            geotop_inpts.write(\"! GEOtop input file written by GEOtoPy\\n\")\n",
    "            for key, value in settings.items():\n",
    "                geotop_inpts.write(gtp.print_setting(key, value))    \n",
    "        \n",
    "    def postprocess(self, working_dir):\n",
    "        \n",
    "        liq_path = os.path.join(working_dir, 'theta_liq.txt')\n",
    "        liq = pd.read_csv(liq_path, na_values=['-9999'],\n",
    "                          usecols=[0, 6, 7, 8], \n",
    "                          skiprows=1,\n",
    "                          header=0, \n",
    "                          names=[\"date\", 20, 50, 200],\n",
    "                          parse_dates=True, \n",
    "                          infer_datetime_format=True,\n",
    "                          index_col=0)\n",
    "        \n",
    "        ice_path = os.path.join(working_dir, 'theta_ice.txt')\n",
    "        ice = pd.read_csv(ice_path, na_values=['-9999'], \n",
    "                          usecols=[0, 6, 7, 8], \n",
    "                          skiprows=1,\n",
    "                          header=0, \n",
    "                          names=[\"date\", 20, 50, 200],\n",
    "                          parse_dates=True, \n",
    "                          infer_datetime_format=True,\n",
    "                          index_col=0)\n",
    "        \n",
    "        sim = ice + liq\n",
    "        \n",
    "        obs_path = os.path.join(working_dir, 'obs.csv')\n",
    "        obs = pd.read_csv(obs_path, \n",
    "                          usecols=[0, 6, 7, 8], \n",
    "                          header=0, \n",
    "                          names=[\"date\", 20, 50, 200], \n",
    "                          na_values=['-9999'], \n",
    "                          parse_dates=True, \n",
    "                          infer_datetime_format=True,\n",
    "                          index_col=0)\n",
    "        obs = obs\n",
    "        \n",
    "        return obs, sim\n",
    "\n",
    "    \n",
    "def diff_metric(obs, sim):\n",
    "    \n",
    "    diff = (obs - sim)\n",
    "    diff_squared = diff * diff\n",
    "    obs_squared = obs * obs\n",
    "    \n",
    "    return np.sqrt(diff_squared.mean().sum() / obs_squared.mean().sum())\n",
    "\n",
    "\n",
    "def loss(*args, **kwargs):\n",
    "    \n",
    "    model = GEOtopSensitivityRun('data/inputs', \n",
    "                                 exe='../../geotop/build/geotop',\n",
    "                                 run_args={'check': True, 'capture_output': True, 'timeout': timeout})\n",
    "    \n",
    "    with tempfile.TemporaryDirectory(dir=systmpfs) as tmpdir:\n",
    "        try:\n",
    "            output = model.eval(tmpdir, *args, **kwargs)\n",
    "        except subprocess.CalledProcessError:\n",
    "            return np.nan\n",
    "        except subprocess.TimeoutExpired:\n",
    "            return np.nan\n",
    "    \n",
    "    return diff_metric(*output)"
   ]
  },
  {
   "cell_type": "code",
   "execution_count": 5,
   "metadata": {},
   "outputs": [],
   "source": [
    "problem = {\n",
    "    'num_vars': 2,\n",
    "    'names': ['LSAI', 'InitSoilPressure'],\n",
    "    'bounds': [[0.0, 10.0],\n",
    "               [-5e3, 0.0]]\n",
    "}"
   ]
  },
  {
   "cell_type": "code",
   "execution_count": 21,
   "metadata": {},
   "outputs": [],
   "source": [
    "param_values = saltelli.sample(problem, 2)\n",
    "settings = [{key: value for key, value in zip(problem['names'], values)} for values in param_values]"
   ]
  },
  {
   "cell_type": "code",
   "execution_count": 45,
   "metadata": {},
   "outputs": [],
   "source": [
    "def loss_wrapper(kwargs):\n",
    "    return loss(**kwargs)\n",
    "\n",
    "with Pool(processes=num_workers) as pool:\n",
    "    Y = pool.map(loss_wrapper, settings)"
   ]
  },
  {
   "cell_type": "code",
   "execution_count": 50,
   "metadata": {},
   "outputs": [
    {
     "name": "stdout",
     "output_type": "stream",
     "text": [
      "Parameter S1 S1_conf ST ST_conf\n",
      "LSAI 0.000000 0.000000 0.000000 0.000000\n",
      "InitSoilPressure 1.985695 0.127616 1.999740 0.000256\n",
      "\n",
      "Parameter_1 Parameter_2 S2 S2_conf\n",
      "LSAI InitSoilPressure 0.000000 0.000000\n"
     ]
    }
   ],
   "source": [
    "sobol.analyze(problem, np.array(Y), print_to_console=True);"
   ]
  }
 ],
 "metadata": {
  "kernelspec": {
   "display_name": "Python 3",
   "language": "python",
   "name": "python3"
  },
  "language_info": {
   "codemirror_mode": {
    "name": "ipython",
    "version": 3
   },
   "file_extension": ".py",
   "mimetype": "text/x-python",
   "name": "python",
   "nbconvert_exporter": "python",
   "pygments_lexer": "ipython3",
   "version": "3.8.5"
  }
 },
 "nbformat": 4,
 "nbformat_minor": 4
}
