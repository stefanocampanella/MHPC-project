{
 "cells": [
  {
   "cell_type": "code",
   "execution_count": null,
   "metadata": {
    "tags": [
     "parameters"
    ]
   },
   "outputs": [],
   "source": [
    "# Defaults\n",
    "\n",
    "# System settings\n",
    "systmpfs = '/tmp'\n",
    "inputs_path = 'inputs/Matsch_B2/run'\n",
    "geotop_path = '../geotop/build/geotop'\n",
    "variables_path = 'inputs/Matsch_B2/variables.csv'\n",
    "\n",
    "# Optimizer settings\n",
    "num_workers = 2\n",
    "budget = 16\n",
    "algorithm = 'OnePlusOne'\n",
    "timeout = 120\n",
    "monitor_interval = 10\n",
    "scale = 'D'\n",
    "startdate = '01/01/2011 00:00'\n",
    "targets = ['soil_moisture_content_50', 'sensible_heat_flux_in_air']\n",
    "weights = [1.0, 1.0]"
   ]
  },
  {
   "cell_type": "code",
   "execution_count": null,
   "metadata": {},
   "outputs": [],
   "source": [
    "from subprocess import CalledProcessError, TimeoutExpired\n",
    "from tempfile import TemporaryDirectory, NamedTemporaryFile\n",
    "from concurrent.futures import ProcessPoolExecutor\n",
    "\n",
    "import numpy as np\n",
    "from numpy.random import uniform\n",
    "import pandas as pd\n",
    "import matplotlib.pyplot as plt\n",
    "\n",
    "import nevergrad as ng\n",
    "import hiplot as hip\n",
    "from SALib.sample import saltelli\n",
    "from SALib.analyze import sobol\n",
    "\n",
    "from common import observations, GEOtopRun"
   ]
  },
  {
   "cell_type": "code",
   "execution_count": null,
   "metadata": {},
   "outputs": [],
   "source": [
    "class GEOtopRunLogVars(GEOtopRun):\n",
    "    \n",
    "    def preprocess(self, working_dir, *args, **kwargs):\n",
    "        \n",
    "        for key, value in kwargs.items():\n",
    "            if variables.type[key] == 'log':\n",
    "                kwargs[key] = 10 ** value\n",
    "                \n",
    "        super().preprocess(working_dir, *args, **kwargs)"
   ]
  },
  {
   "cell_type": "code",
   "execution_count": null,
   "metadata": {},
   "outputs": [],
   "source": [
    "model = GEOtopRunLogVars(inputs_path,\n",
    "                         exe=geotop_path,\n",
    "                         run_args={'check': True, \n",
    "                                   'capture_output': True, \n",
    "                                   'timeout': timeout})\n",
    "\n",
    "variables = pd.read_csv(variables_path, index_col='name')\n",
    "variables['synth'] = [uniform(low=var.lower, high=var.upper) for name, var in variables.iterrows()]"
   ]
  },
  {
   "cell_type": "code",
   "execution_count": null,
   "metadata": {},
   "outputs": [],
   "source": [
    "with TemporaryDirectory(dir=systmpfs) as tmpdir:\n",
    "    synth = model.eval(tmpdir, **variables.synth.to_dict())\n",
    "\n",
    "synth = observations(synth, scale=scale, start=startdate)"
   ]
  },
  {
   "cell_type": "code",
   "execution_count": null,
   "metadata": {},
   "outputs": [],
   "source": [
    "def loss_function(*args, sim=None, **kwargs):\n",
    "    \n",
    "    if sim is None:\n",
    "        with TemporaryDirectory(dir=systmpfs) as tmpdir:\n",
    "            try:\n",
    "                sim = model.eval(tmpdir, *args, **kwargs)\n",
    "            except CalledProcessError:\n",
    "                return np.nan\n",
    "            except TimeoutExpired:\n",
    "                return np.nan\n",
    "    \n",
    "    return sum(w * synth.metric(t, sim) for w, t in zip(weights, targets)) / sum(weights)"
   ]
  },
  {
   "cell_type": "code",
   "execution_count": null,
   "metadata": {},
   "outputs": [],
   "source": [
    "with TemporaryDirectory(dir=systmpfs) as tmpdir:\n",
    "    sim = model.eval(tmpdir)\n",
    "    print(f\"Before optimization loss is {loss_function(sim=sim)}\")\n",
    "    for t in targets:\n",
    "        synth.compare(t, sim, desc=t)\n",
    "        plt.show()"
   ]
  },
  {
   "cell_type": "code",
   "execution_count": null,
   "metadata": {},
   "outputs": [],
   "source": [
    "kwargs = {name: ng.p.Scalar(init=value.suggested, lower=value.lower, upper=value.upper) \n",
    "          for name, value in variables.iterrows()}\n",
    "\n",
    "optimizer = ng.optimizers.registry[algorithm](parametrization=ng.p.Instrumentation(**kwargs),\n",
    "                                              budget=budget,\n",
    "                                              num_workers=num_workers)\n",
    "\n",
    "logfile = NamedTemporaryFile(dir=systmpfs)\n",
    "logger = ng.callbacks.ParametersLogger(logfile.name)\n",
    "optimizer.register_callback(\"tell\",  logger)"
   ]
  },
  {
   "cell_type": "code",
   "execution_count": null,
   "metadata": {},
   "outputs": [],
   "source": [
    "with ProcessPoolExecutor(max_workers=optimizer.num_workers) as executor:\n",
    "    recommendation = optimizer.minimize(loss_function, \n",
    "                                        executor=executor, \n",
    "                                        batch_mode=False)"
   ]
  },
  {
   "cell_type": "code",
   "execution_count": null,
   "metadata": {},
   "outputs": [],
   "source": [
    "variables['best'] = pd.Series(recommendation.kwargs)\n",
    "variables['err'] = 3 * (variables.synth - variables.best).abs() / (variables.upper - variables.lower)\n",
    "variables.sort_values('err')"
   ]
  },
  {
   "cell_type": "code",
   "execution_count": null,
   "metadata": {},
   "outputs": [],
   "source": [
    "logger.load()\n",
    "experiment = logger.to_hiplot_experiment()"
   ]
  },
  {
   "cell_type": "code",
   "execution_count": null,
   "metadata": {},
   "outputs": [],
   "source": [
    "hidden_columns = ['uid', \n",
    "                  'from_uid', \n",
    "                  '#parametrization', \n",
    "                  '#optimizer', \n",
    "                  '#optimizer#noise_handling', \n",
    "                  '#optimizer#mutation',\n",
    "                  '#optimizer#crossover',\n",
    "                  '#optimizer#initialization',\n",
    "                  '#optimizer#scale',\n",
    "                  '#optimizer#recommendation',\n",
    "                  '#optimizer#F1',\n",
    "                  '#optimizer#F2',\n",
    "                  '#optimizer#popsize',\n",
    "                  '#optimizer#propagate_heritage',\n",
    "                  '#session', \n",
    "                  '#lineage',\n",
    "                  '#meta-sigma']\n",
    "\n",
    "for name in variables.index:\n",
    "    hidden_columns.append(name + '#sigma')\n",
    "    hidden_columns.append(name + '#sigma#sigma')\n",
    "    \n",
    "table = experiment.display_data(hip.Displays.TABLE)\n",
    "table.update({'hide': hidden_columns,\n",
    "              'order_by': [['#num-tell', 'asc']]})\n",
    "\n",
    "plot = experiment.display_data(hip.Displays.PARALLEL_PLOT)\n",
    "plot.update({'hide': [*hidden_columns, '#num-tell'],\n",
    "             'order': ['#generation', *variables.index, '#loss']})"
   ]
  },
  {
   "cell_type": "code",
   "execution_count": null,
   "metadata": {
    "slideshow": {
     "slide_type": "skip"
    }
   },
   "outputs": [],
   "source": [
    "experiment.display()"
   ]
  },
  {
   "cell_type": "code",
   "execution_count": null,
   "metadata": {},
   "outputs": [],
   "source": [
    "with TemporaryDirectory() as tmpdir:\n",
    "    print(f\"After optimization loss is {recommendation.loss}\")\n",
    "    sim = model.eval(tmpdir, **recommendation.kwargs)\n",
    "    for t in targets:\n",
    "        synth.compare(t, sim, desc=t)\n",
    "        plt.show()"
   ]
  }
 ],
 "metadata": {
  "kernelspec": {
   "display_name": "Python 3",
   "language": "python",
   "name": "python3"
  },
  "language_info": {
   "codemirror_mode": {
    "name": "ipython",
    "version": 3
   },
   "file_extension": ".py",
   "mimetype": "text/x-python",
   "name": "python",
   "nbconvert_exporter": "python",
   "pygments_lexer": "ipython3",
   "version": "3.8.5"
  }
 },
 "nbformat": 4,
 "nbformat_minor": 4
}
