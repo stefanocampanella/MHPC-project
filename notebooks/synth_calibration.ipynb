{
 "cells": [
  {
   "cell_type": "code",
   "execution_count": null,
   "metadata": {},
   "outputs": [],
   "source": [
    "num_workers = 128\n",
    "budget = 1024\n",
    "algorithm = 'TwoPointsDE'"
   ]
  },
  {
   "cell_type": "code",
   "execution_count": null,
   "metadata": {},
   "outputs": [],
   "source": [
    "import re\n",
    "from tempfile import TemporaryDirectory, NamedTemporaryFile\n",
    "\n",
    "import pandas as pd\n",
    "import matplotlib.pyplot as plt\n",
    "\n",
    "from dask.distributed import Client\n",
    "from dask_jobqueue import SLURMCluster\n",
    "import nevergrad as ng\n",
    "import hiplot as hip\n",
    "from SALib.analyze import delta\n",
    "\n",
    "from calibrations.synth import obs, model, targets, loss, variables"
   ]
  },
  {
   "cell_type": "code",
   "execution_count": null,
   "metadata": {},
   "outputs": [],
   "source": [
    "cluster = SLURMCluster()\n",
    "cluster.scale(cores=num_workers)\n",
    "client = Client(cluster)"
   ]
  },
  {
   "cell_type": "code",
   "execution_count": null,
   "metadata": {},
   "outputs": [],
   "source": [
    "with TemporaryDirectory(dir=systmpfs) as tmpdir:\n",
    "    sim = model.eval(tmpdir)\n",
    "    print(f\"Before optimization loss is {loss(sim=sim)}\")\n",
    "    for t in targets:\n",
    "        obs.compare(t, sim, desc=t)\n",
    "        plt.show()"
   ]
  },
  {
   "cell_type": "code",
   "execution_count": null,
   "metadata": {},
   "outputs": [],
   "source": [
    "kwargs = {name: ng.p.Scalar(init=value.suggested, lower=value.lower, upper=value.upper) \n",
    "          for name, value in variables.iterrows()}\n",
    "\n",
    "optimizer = ng.optimizers.registry[algorithm](parametrization=ng.p.Instrumentation(**kwargs),\n",
    "                                              budget=budget,\n",
    "                                              num_workers=num_workers)\n",
    "\n",
    "logfile = NamedTemporaryFile(dir=systmpfs)\n",
    "logger = ng.callbacks.ParametersLogger(logfile.name)\n",
    "optimizer.register_callback(\"tell\",  logger)\n",
    "optimizer.register_callback(\"tell\", ng.callbacks.ProgressBar())\n",
    "\n",
    "recommendation = optimizer.minimize(loss_function, executor=client, batch_mode=False)"
   ]
  },
  {
   "cell_type": "code",
   "execution_count": null,
   "metadata": {},
   "outputs": [],
   "source": [
    "samples = pd.DataFrame(logger.load())\n",
    "\n",
    "samples.dropna(subset=['#loss'], inplace=True)\n",
    "points = samples[variables.index].to_numpy()\n",
    "losses = samples['#loss'].to_numpy()\n",
    "\n",
    "problem = {'num_vars': variables.shape[0],\n",
    "           'names': variables.index,\n",
    "           'bounds': list(zip(variables.lower, variables.upper))}\n",
    "\n",
    "SA = delta.analyze(problem, points, losses)"
   ]
  },
  {
   "cell_type": "code",
   "execution_count": null,
   "metadata": {},
   "outputs": [],
   "source": [
    "variables['best'] = pd.Series(recommendation.kwargs)\n",
    "variables['err'] = 3 * (variables.synth - variables.best).abs() / (variables.upper - variables.lower)\n",
    "\n",
    "pd.concat([variables, SA.to_df()], axis=1).sort_values('S1', ascending=False)"
   ]
  },
  {
   "cell_type": "code",
   "execution_count": null,
   "metadata": {},
   "outputs": [],
   "source": [
    "experiment = logger.to_hiplot_experiment()\n",
    "\n",
    "hidden_columns = ['uid', \n",
    "                  'from_uid', \n",
    "                  '#parametrization',\n",
    "                  '#session', \n",
    "                  '#lineage',\n",
    "                  '#meta-sigma']\n",
    "\n",
    "for name in variables.index:\n",
    "    hidden_columns.append(name + '#sigma')\n",
    "    hidden_columns.append(name + '#sigma#sigma')\n",
    "\n",
    "hidden_columns += [col for col in samples.columns if re.match(r\"(#optimizer).*\", col)]\n",
    "\n",
    "table = experiment.display_data(hip.Displays.TABLE)\n",
    "table.update({'hide': hidden_columns,\n",
    "              'order_by': [['#num-tell', 'asc']]})\n",
    "\n",
    "plot = experiment.display_data(hip.Displays.PARALLEL_PLOT)\n",
    "plot.update({'hide': [*hidden_columns, '#num-tell'],\n",
    "             'order': ['#generation', *variables.index, '#loss']})\n",
    "\n",
    "experiment.display()"
   ]
  },
  {
   "cell_type": "code",
   "execution_count": null,
   "metadata": {},
   "outputs": [],
   "source": [
    "with TemporaryDirectory() as tmpdir:\n",
    "    print(f\"After optimization loss is {recommendation.loss}\")\n",
    "    sim = model.eval(tmpdir, **recommendation.kwargs)\n",
    "    for t in targets:\n",
    "        obs.compare(t, sim, desc=t)\n",
    "        plt.show()"
   ]
  }
 ],
 "metadata": {
  "kernelspec": {
   "display_name": "Python 3",
   "language": "python",
   "name": "python3"
  },
  "language_info": {
   "codemirror_mode": {
    "name": "ipython",
    "version": 3
   },
   "file_extension": ".py",
   "mimetype": "text/x-python",
   "name": "python",
   "nbconvert_exporter": "python",
   "pygments_lexer": "ipython3",
   "version": "3.9.0"
  }
 },
 "nbformat": 4,
 "nbformat_minor": 4
}
